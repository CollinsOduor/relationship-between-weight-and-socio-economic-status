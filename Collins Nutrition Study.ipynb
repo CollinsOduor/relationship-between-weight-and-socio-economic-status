{
 "cells": [
  {
   "cell_type": "code",
   "execution_count": 1,
   "metadata": {},
   "outputs": [],
   "source": [
    "#import the necessary libraries\n",
    "\n",
    "import pandas as pd\n",
    "import matplotlib.pyplot as plt\n",
    "import seaborn as sns"
   ]
  },
  {
   "cell_type": "code",
   "execution_count": 2,
   "metadata": {},
   "outputs": [],
   "source": [
    "#display the plots inside this environment without having to call show()\n",
    "#set the dataframe options - should show all columns\n",
    "\n",
    "%matplotlib inline\n",
    "pd.set_option('display.max_columns', None)\n",
    "pd.set_option('max_colwidth', None)"
   ]
  },
  {
   "cell_type": "markdown",
   "metadata": {},
   "source": [
    "# Exploratory Analysis"
   ]
  },
  {
   "cell_type": "markdown",
   "metadata": {},
   "source": [
    "> In this section I go through the data with an intention of finding out the structure, distribution and general feel of the data.\n",
    ">\n",
    "> The exploration will be guided by both the data, as well as intuition. For example, I simply do not expect an age of over (say) 120 years - this would mean that the data is not very accurate. To put that in perspective, the oldest human to ever live was reported to be 122 years which was in itself an outlier."
   ]
  },
  {
   "cell_type": "markdown",
   "metadata": {},
   "source": [
    "## Gather"
   ]
  },
  {
   "cell_type": "code",
   "execution_count": 3,
   "metadata": {},
   "outputs": [],
   "source": [
    "#load the data onto an on-memory dataframe\n",
    "df = pd.read_csv('Nutrition__Physical_Activity__and_Obesity_-_Behavioral_Risk_Factor_Surveillance_System.csv')"
   ]
  },
  {
   "cell_type": "markdown",
   "metadata": {},
   "source": [
    "## Assess"
   ]
  },
  {
   "cell_type": "markdown",
   "metadata": {},
   "source": [
    "> While assessing the data, I will majorly concentrate on highlighting and correcting data quality issues.\n",
    ">\n",
    "> Any characteristic of the data that might help later in in the analysis will also be noted."
   ]
  },
  {
   "cell_type": "code",
   "execution_count": 4,
   "metadata": {},
   "outputs": [
    {
     "data": {
      "text/html": [
       "<div>\n",
       "<style scoped>\n",
       "    .dataframe tbody tr th:only-of-type {\n",
       "        vertical-align: middle;\n",
       "    }\n",
       "\n",
       "    .dataframe tbody tr th {\n",
       "        vertical-align: top;\n",
       "    }\n",
       "\n",
       "    .dataframe thead th {\n",
       "        text-align: right;\n",
       "    }\n",
       "</style>\n",
       "<table border=\"1\" class=\"dataframe\">\n",
       "  <thead>\n",
       "    <tr style=\"text-align: right;\">\n",
       "      <th></th>\n",
       "      <th>YearStart</th>\n",
       "      <th>YearEnd</th>\n",
       "      <th>LocationAbbr</th>\n",
       "      <th>LocationDesc</th>\n",
       "      <th>Datasource</th>\n",
       "      <th>Class</th>\n",
       "      <th>Topic</th>\n",
       "      <th>Question</th>\n",
       "      <th>Data_Value_Unit</th>\n",
       "      <th>Data_Value_Type</th>\n",
       "      <th>Data_Value</th>\n",
       "      <th>Data_Value_Alt</th>\n",
       "      <th>Data_Value_Footnote_Symbol</th>\n",
       "      <th>Data_Value_Footnote</th>\n",
       "      <th>Low_Confidence_Limit</th>\n",
       "      <th>High_Confidence_Limit</th>\n",
       "      <th>Sample_Size</th>\n",
       "      <th>Total</th>\n",
       "      <th>Age(years)</th>\n",
       "      <th>Education</th>\n",
       "      <th>Gender</th>\n",
       "      <th>Income</th>\n",
       "      <th>Race/Ethnicity</th>\n",
       "      <th>GeoLocation</th>\n",
       "      <th>ClassID</th>\n",
       "      <th>TopicID</th>\n",
       "      <th>QuestionID</th>\n",
       "      <th>DataValueTypeID</th>\n",
       "      <th>LocationID</th>\n",
       "      <th>StratificationCategory1</th>\n",
       "      <th>Stratification1</th>\n",
       "      <th>StratificationCategoryId1</th>\n",
       "      <th>StratificationID1</th>\n",
       "    </tr>\n",
       "  </thead>\n",
       "  <tbody>\n",
       "    <tr>\n",
       "      <th>34968</th>\n",
       "      <td>2013</td>\n",
       "      <td>2013</td>\n",
       "      <td>WY</td>\n",
       "      <td>Wyoming</td>\n",
       "      <td>Behavioral Risk Factor Surveillance System</td>\n",
       "      <td>Physical Activity</td>\n",
       "      <td>Physical Activity - Behavior</td>\n",
       "      <td>Percent of adults who achieve at least 150 minutes a week of moderate-intensity aerobic physical activity or 75 minutes a week of vigorous-intensity aerobic activity (or an equivalent combination)</td>\n",
       "      <td>NaN</td>\n",
       "      <td>Value</td>\n",
       "      <td>NaN</td>\n",
       "      <td>NaN</td>\n",
       "      <td>~</td>\n",
       "      <td>Data not available because sample size is insufficient.</td>\n",
       "      <td>NaN</td>\n",
       "      <td>NaN</td>\n",
       "      <td>NaN</td>\n",
       "      <td>NaN</td>\n",
       "      <td>NaN</td>\n",
       "      <td>NaN</td>\n",
       "      <td>NaN</td>\n",
       "      <td>NaN</td>\n",
       "      <td>Non-Hispanic Black</td>\n",
       "      <td>(43.23554134300048, -108.10983035299967)</td>\n",
       "      <td>PA</td>\n",
       "      <td>PA1</td>\n",
       "      <td>Q043</td>\n",
       "      <td>VALUE</td>\n",
       "      <td>56</td>\n",
       "      <td>Race/Ethnicity</td>\n",
       "      <td>Non-Hispanic Black</td>\n",
       "      <td>RACE</td>\n",
       "      <td>RACEBLK</td>\n",
       "    </tr>\n",
       "    <tr>\n",
       "      <th>40488</th>\n",
       "      <td>2015</td>\n",
       "      <td>2015</td>\n",
       "      <td>KS</td>\n",
       "      <td>Kansas</td>\n",
       "      <td>Behavioral Risk Factor Surveillance System</td>\n",
       "      <td>Physical Activity</td>\n",
       "      <td>Physical Activity - Behavior</td>\n",
       "      <td>Percent of adults who achieve at least 150 minutes a week of moderate-intensity aerobic physical activity or 75 minutes a week of vigorous-intensity aerobic physical activity and engage in muscle-strengthening activities on 2 or more days a week</td>\n",
       "      <td>NaN</td>\n",
       "      <td>Value</td>\n",
       "      <td>21.2</td>\n",
       "      <td>21.2</td>\n",
       "      <td>NaN</td>\n",
       "      <td>NaN</td>\n",
       "      <td>20.1</td>\n",
       "      <td>22.3</td>\n",
       "      <td>8744.0</td>\n",
       "      <td>NaN</td>\n",
       "      <td>NaN</td>\n",
       "      <td>NaN</td>\n",
       "      <td>Male</td>\n",
       "      <td>NaN</td>\n",
       "      <td>NaN</td>\n",
       "      <td>(38.34774030000045, -98.20078122699965)</td>\n",
       "      <td>PA</td>\n",
       "      <td>PA1</td>\n",
       "      <td>Q044</td>\n",
       "      <td>VALUE</td>\n",
       "      <td>20</td>\n",
       "      <td>Gender</td>\n",
       "      <td>Male</td>\n",
       "      <td>GEN</td>\n",
       "      <td>MALE</td>\n",
       "    </tr>\n",
       "    <tr>\n",
       "      <th>36059</th>\n",
       "      <td>2015</td>\n",
       "      <td>2015</td>\n",
       "      <td>IA</td>\n",
       "      <td>Iowa</td>\n",
       "      <td>Behavioral Risk Factor Surveillance System</td>\n",
       "      <td>Fruits and Vegetables</td>\n",
       "      <td>Fruits and Vegetables - Behavior</td>\n",
       "      <td>Percent of adults who report consuming vegetables less than one time daily</td>\n",
       "      <td>NaN</td>\n",
       "      <td>Value</td>\n",
       "      <td>31.8</td>\n",
       "      <td>31.8</td>\n",
       "      <td>NaN</td>\n",
       "      <td>NaN</td>\n",
       "      <td>25.2</td>\n",
       "      <td>39.1</td>\n",
       "      <td>364.0</td>\n",
       "      <td>NaN</td>\n",
       "      <td>NaN</td>\n",
       "      <td>NaN</td>\n",
       "      <td>NaN</td>\n",
       "      <td>Less than $15,000</td>\n",
       "      <td>NaN</td>\n",
       "      <td>(42.46940091300047, -93.81649055599968)</td>\n",
       "      <td>FV</td>\n",
       "      <td>FV1</td>\n",
       "      <td>Q019</td>\n",
       "      <td>VALUE</td>\n",
       "      <td>19</td>\n",
       "      <td>Income</td>\n",
       "      <td>Less than $15,000</td>\n",
       "      <td>INC</td>\n",
       "      <td>INCLESS15</td>\n",
       "    </tr>\n",
       "    <tr>\n",
       "      <th>13786</th>\n",
       "      <td>2011</td>\n",
       "      <td>2011</td>\n",
       "      <td>MD</td>\n",
       "      <td>Maryland</td>\n",
       "      <td>Behavioral Risk Factor Surveillance System</td>\n",
       "      <td>Physical Activity</td>\n",
       "      <td>Physical Activity - Behavior</td>\n",
       "      <td>Percent of adults who engage in no leisure-time physical activity</td>\n",
       "      <td>NaN</td>\n",
       "      <td>Value</td>\n",
       "      <td>27.9</td>\n",
       "      <td>27.9</td>\n",
       "      <td>NaN</td>\n",
       "      <td>NaN</td>\n",
       "      <td>12.7</td>\n",
       "      <td>50.8</td>\n",
       "      <td>56.0</td>\n",
       "      <td>NaN</td>\n",
       "      <td>NaN</td>\n",
       "      <td>NaN</td>\n",
       "      <td>NaN</td>\n",
       "      <td>NaN</td>\n",
       "      <td>Other</td>\n",
       "      <td>(39.29058096400047, -76.60926011099963)</td>\n",
       "      <td>PA</td>\n",
       "      <td>PA1</td>\n",
       "      <td>Q047</td>\n",
       "      <td>VALUE</td>\n",
       "      <td>24</td>\n",
       "      <td>Race/Ethnicity</td>\n",
       "      <td>Other</td>\n",
       "      <td>RACE</td>\n",
       "      <td>RACEOTH</td>\n",
       "    </tr>\n",
       "    <tr>\n",
       "      <th>33910</th>\n",
       "      <td>2011</td>\n",
       "      <td>2011</td>\n",
       "      <td>WI</td>\n",
       "      <td>Wisconsin</td>\n",
       "      <td>Behavioral Risk Factor Surveillance System</td>\n",
       "      <td>Fruits and Vegetables</td>\n",
       "      <td>Fruits and Vegetables - Behavior</td>\n",
       "      <td>Percent of adults who report consuming fruit less than one time daily</td>\n",
       "      <td>NaN</td>\n",
       "      <td>Value</td>\n",
       "      <td>43.7</td>\n",
       "      <td>43.7</td>\n",
       "      <td>NaN</td>\n",
       "      <td>NaN</td>\n",
       "      <td>38.3</td>\n",
       "      <td>49.3</td>\n",
       "      <td>951.0</td>\n",
       "      <td>NaN</td>\n",
       "      <td>NaN</td>\n",
       "      <td>NaN</td>\n",
       "      <td>NaN</td>\n",
       "      <td>$15,000 - $24,999</td>\n",
       "      <td>NaN</td>\n",
       "      <td>(44.39319117400049, -89.81637074199966)</td>\n",
       "      <td>FV</td>\n",
       "      <td>FV1</td>\n",
       "      <td>Q018</td>\n",
       "      <td>VALUE</td>\n",
       "      <td>55</td>\n",
       "      <td>Income</td>\n",
       "      <td>$15,000 - $24,999</td>\n",
       "      <td>INC</td>\n",
       "      <td>INC1525</td>\n",
       "    </tr>\n",
       "  </tbody>\n",
       "</table>\n",
       "</div>"
      ],
      "text/plain": [
       "       YearStart  YearEnd LocationAbbr LocationDesc  \\\n",
       "34968       2013     2013           WY      Wyoming   \n",
       "40488       2015     2015           KS       Kansas   \n",
       "36059       2015     2015           IA         Iowa   \n",
       "13786       2011     2011           MD     Maryland   \n",
       "33910       2011     2011           WI    Wisconsin   \n",
       "\n",
       "                                       Datasource                  Class  \\\n",
       "34968  Behavioral Risk Factor Surveillance System      Physical Activity   \n",
       "40488  Behavioral Risk Factor Surveillance System      Physical Activity   \n",
       "36059  Behavioral Risk Factor Surveillance System  Fruits and Vegetables   \n",
       "13786  Behavioral Risk Factor Surveillance System      Physical Activity   \n",
       "33910  Behavioral Risk Factor Surveillance System  Fruits and Vegetables   \n",
       "\n",
       "                                  Topic  \\\n",
       "34968      Physical Activity - Behavior   \n",
       "40488      Physical Activity - Behavior   \n",
       "36059  Fruits and Vegetables - Behavior   \n",
       "13786      Physical Activity - Behavior   \n",
       "33910  Fruits and Vegetables - Behavior   \n",
       "\n",
       "                                                                                                                                                                                                                                                    Question  \\\n",
       "34968                                                   Percent of adults who achieve at least 150 minutes a week of moderate-intensity aerobic physical activity or 75 minutes a week of vigorous-intensity aerobic activity (or an equivalent combination)   \n",
       "40488  Percent of adults who achieve at least 150 minutes a week of moderate-intensity aerobic physical activity or 75 minutes a week of vigorous-intensity aerobic physical activity and engage in muscle-strengthening activities on 2 or more days a week   \n",
       "36059                                                                                                                                                                             Percent of adults who report consuming vegetables less than one time daily   \n",
       "13786                                                                                                                                                                                      Percent of adults who engage in no leisure-time physical activity   \n",
       "33910                                                                                                                                                                                  Percent of adults who report consuming fruit less than one time daily   \n",
       "\n",
       "       Data_Value_Unit Data_Value_Type  Data_Value  Data_Value_Alt  \\\n",
       "34968              NaN           Value         NaN             NaN   \n",
       "40488              NaN           Value        21.2            21.2   \n",
       "36059              NaN           Value        31.8            31.8   \n",
       "13786              NaN           Value        27.9            27.9   \n",
       "33910              NaN           Value        43.7            43.7   \n",
       "\n",
       "      Data_Value_Footnote_Symbol  \\\n",
       "34968                          ~   \n",
       "40488                        NaN   \n",
       "36059                        NaN   \n",
       "13786                        NaN   \n",
       "33910                        NaN   \n",
       "\n",
       "                                           Data_Value_Footnote  \\\n",
       "34968  Data not available because sample size is insufficient.   \n",
       "40488                                                      NaN   \n",
       "36059                                                      NaN   \n",
       "13786                                                      NaN   \n",
       "33910                                                      NaN   \n",
       "\n",
       "       Low_Confidence_Limit  High_Confidence_Limit   Sample_Size Total  \\\n",
       "34968                   NaN                     NaN          NaN   NaN   \n",
       "40488                  20.1                    22.3       8744.0   NaN   \n",
       "36059                  25.2                    39.1        364.0   NaN   \n",
       "13786                  12.7                    50.8         56.0   NaN   \n",
       "33910                  38.3                    49.3        951.0   NaN   \n",
       "\n",
       "      Age(years) Education Gender             Income      Race/Ethnicity  \\\n",
       "34968        NaN       NaN    NaN                NaN  Non-Hispanic Black   \n",
       "40488        NaN       NaN   Male                NaN                 NaN   \n",
       "36059        NaN       NaN    NaN  Less than $15,000                 NaN   \n",
       "13786        NaN       NaN    NaN                NaN               Other   \n",
       "33910        NaN       NaN    NaN  $15,000 - $24,999                 NaN   \n",
       "\n",
       "                                    GeoLocation ClassID TopicID QuestionID  \\\n",
       "34968  (43.23554134300048, -108.10983035299967)      PA     PA1       Q043   \n",
       "40488   (38.34774030000045, -98.20078122699965)      PA     PA1       Q044   \n",
       "36059   (42.46940091300047, -93.81649055599968)      FV     FV1       Q019   \n",
       "13786   (39.29058096400047, -76.60926011099963)      PA     PA1       Q047   \n",
       "33910   (44.39319117400049, -89.81637074199966)      FV     FV1       Q018   \n",
       "\n",
       "      DataValueTypeID  LocationID StratificationCategory1     Stratification1  \\\n",
       "34968           VALUE          56          Race/Ethnicity  Non-Hispanic Black   \n",
       "40488           VALUE          20                  Gender                Male   \n",
       "36059           VALUE          19                  Income   Less than $15,000   \n",
       "13786           VALUE          24          Race/Ethnicity               Other   \n",
       "33910           VALUE          55                  Income   $15,000 - $24,999   \n",
       "\n",
       "      StratificationCategoryId1 StratificationID1  \n",
       "34968                      RACE           RACEBLK  \n",
       "40488                       GEN              MALE  \n",
       "36059                       INC         INCLESS15  \n",
       "13786                      RACE           RACEOTH  \n",
       "33910                       INC           INC1525  "
      ]
     },
     "execution_count": 4,
     "metadata": {},
     "output_type": "execute_result"
    }
   ],
   "source": [
    "#show five random records from the dataset\n",
    "df.sample(5)"
   ]
  },
  {
   "cell_type": "code",
   "execution_count": 5,
   "metadata": {},
   "outputs": [
    {
     "data": {
      "text/plain": [
       "(53392, 33)"
      ]
     },
     "execution_count": 5,
     "metadata": {},
     "output_type": "execute_result"
    }
   ],
   "source": [
    "#print the size of the data\n",
    "df.shape"
   ]
  },
  {
   "cell_type": "markdown",
   "metadata": {},
   "source": [
    "> The dataset has 53392 records and 33 variables as represented in the cell above."
   ]
  },
  {
   "cell_type": "code",
   "execution_count": 6,
   "metadata": {},
   "outputs": [
    {
     "data": {
      "text/plain": [
       "Index(['YearStart', 'YearEnd', 'LocationAbbr', 'LocationDesc', 'Datasource',\n",
       "       'Class', 'Topic', 'Question', 'Data_Value_Unit', 'Data_Value_Type',\n",
       "       'Data_Value', 'Data_Value_Alt', 'Data_Value_Footnote_Symbol',\n",
       "       'Data_Value_Footnote', 'Low_Confidence_Limit', 'High_Confidence_Limit ',\n",
       "       'Sample_Size', 'Total', 'Age(years)', 'Education', 'Gender', 'Income',\n",
       "       'Race/Ethnicity', 'GeoLocation', 'ClassID', 'TopicID', 'QuestionID',\n",
       "       'DataValueTypeID', 'LocationID', 'StratificationCategory1',\n",
       "       'Stratification1', 'StratificationCategoryId1', 'StratificationID1'],\n",
       "      dtype='object')"
      ]
     },
     "execution_count": 6,
     "metadata": {},
     "output_type": "execute_result"
    }
   ],
   "source": [
    "#display the columns that the dataset has\n",
    "df.columns"
   ]
  },
  {
   "cell_type": "code",
   "execution_count": 7,
   "metadata": {},
   "outputs": [
    {
     "data": {
      "text/html": [
       "<div>\n",
       "<style scoped>\n",
       "    .dataframe tbody tr th:only-of-type {\n",
       "        vertical-align: middle;\n",
       "    }\n",
       "\n",
       "    .dataframe tbody tr th {\n",
       "        vertical-align: top;\n",
       "    }\n",
       "\n",
       "    .dataframe thead th {\n",
       "        text-align: right;\n",
       "    }\n",
       "</style>\n",
       "<table border=\"1\" class=\"dataframe\">\n",
       "  <thead>\n",
       "    <tr style=\"text-align: right;\">\n",
       "      <th></th>\n",
       "      <th>count</th>\n",
       "      <th>mean</th>\n",
       "      <th>std</th>\n",
       "      <th>min</th>\n",
       "      <th>25%</th>\n",
       "      <th>50%</th>\n",
       "      <th>75%</th>\n",
       "      <th>max</th>\n",
       "    </tr>\n",
       "  </thead>\n",
       "  <tbody>\n",
       "    <tr>\n",
       "      <th>YearStart</th>\n",
       "      <td>53392.0</td>\n",
       "      <td>2013.281465</td>\n",
       "      <td>1.693300</td>\n",
       "      <td>2011.0</td>\n",
       "      <td>2012.0</td>\n",
       "      <td>2013.00</td>\n",
       "      <td>2015.0</td>\n",
       "      <td>2016.0</td>\n",
       "    </tr>\n",
       "    <tr>\n",
       "      <th>YearEnd</th>\n",
       "      <td>53392.0</td>\n",
       "      <td>2013.281465</td>\n",
       "      <td>1.693300</td>\n",
       "      <td>2011.0</td>\n",
       "      <td>2012.0</td>\n",
       "      <td>2013.00</td>\n",
       "      <td>2015.0</td>\n",
       "      <td>2016.0</td>\n",
       "    </tr>\n",
       "    <tr>\n",
       "      <th>Data_Value_Unit</th>\n",
       "      <td>0.0</td>\n",
       "      <td>NaN</td>\n",
       "      <td>NaN</td>\n",
       "      <td>NaN</td>\n",
       "      <td>NaN</td>\n",
       "      <td>NaN</td>\n",
       "      <td>NaN</td>\n",
       "      <td>NaN</td>\n",
       "    </tr>\n",
       "    <tr>\n",
       "      <th>Data_Value</th>\n",
       "      <td>48346.0</td>\n",
       "      <td>31.156681</td>\n",
       "      <td>10.247033</td>\n",
       "      <td>0.9</td>\n",
       "      <td>24.1</td>\n",
       "      <td>30.70</td>\n",
       "      <td>37.0</td>\n",
       "      <td>77.6</td>\n",
       "    </tr>\n",
       "    <tr>\n",
       "      <th>Data_Value_Alt</th>\n",
       "      <td>48346.0</td>\n",
       "      <td>31.156681</td>\n",
       "      <td>10.247033</td>\n",
       "      <td>0.9</td>\n",
       "      <td>24.1</td>\n",
       "      <td>30.70</td>\n",
       "      <td>37.0</td>\n",
       "      <td>77.6</td>\n",
       "    </tr>\n",
       "    <tr>\n",
       "      <th>Low_Confidence_Limit</th>\n",
       "      <td>48346.0</td>\n",
       "      <td>26.892227</td>\n",
       "      <td>10.038584</td>\n",
       "      <td>0.3</td>\n",
       "      <td>20.0</td>\n",
       "      <td>26.45</td>\n",
       "      <td>32.9</td>\n",
       "      <td>69.5</td>\n",
       "    </tr>\n",
       "    <tr>\n",
       "      <th>High_Confidence_Limit</th>\n",
       "      <td>48346.0</td>\n",
       "      <td>35.989997</td>\n",
       "      <td>11.205813</td>\n",
       "      <td>3.0</td>\n",
       "      <td>28.2</td>\n",
       "      <td>35.60</td>\n",
       "      <td>42.2</td>\n",
       "      <td>87.7</td>\n",
       "    </tr>\n",
       "    <tr>\n",
       "      <th>Sample_Size</th>\n",
       "      <td>48346.0</td>\n",
       "      <td>3889.192860</td>\n",
       "      <td>19829.421290</td>\n",
       "      <td>50.0</td>\n",
       "      <td>566.0</td>\n",
       "      <td>1209.00</td>\n",
       "      <td>2519.0</td>\n",
       "      <td>476876.0</td>\n",
       "    </tr>\n",
       "    <tr>\n",
       "      <th>LocationID</th>\n",
       "      <td>53392.0</td>\n",
       "      <td>30.282215</td>\n",
       "      <td>16.821318</td>\n",
       "      <td>1.0</td>\n",
       "      <td>17.0</td>\n",
       "      <td>30.00</td>\n",
       "      <td>44.0</td>\n",
       "      <td>78.0</td>\n",
       "    </tr>\n",
       "  </tbody>\n",
       "</table>\n",
       "</div>"
      ],
      "text/plain": [
       "                          count         mean           std     min     25%  \\\n",
       "YearStart               53392.0  2013.281465      1.693300  2011.0  2012.0   \n",
       "YearEnd                 53392.0  2013.281465      1.693300  2011.0  2012.0   \n",
       "Data_Value_Unit             0.0          NaN           NaN     NaN     NaN   \n",
       "Data_Value              48346.0    31.156681     10.247033     0.9    24.1   \n",
       "Data_Value_Alt          48346.0    31.156681     10.247033     0.9    24.1   \n",
       "Low_Confidence_Limit    48346.0    26.892227     10.038584     0.3    20.0   \n",
       "High_Confidence_Limit   48346.0    35.989997     11.205813     3.0    28.2   \n",
       "Sample_Size             48346.0  3889.192860  19829.421290    50.0   566.0   \n",
       "LocationID              53392.0    30.282215     16.821318     1.0    17.0   \n",
       "\n",
       "                            50%     75%       max  \n",
       "YearStart               2013.00  2015.0    2016.0  \n",
       "YearEnd                 2013.00  2015.0    2016.0  \n",
       "Data_Value_Unit             NaN     NaN       NaN  \n",
       "Data_Value                30.70    37.0      77.6  \n",
       "Data_Value_Alt            30.70    37.0      77.6  \n",
       "Low_Confidence_Limit      26.45    32.9      69.5  \n",
       "High_Confidence_Limit     35.60    42.2      87.7  \n",
       "Sample_Size             1209.00  2519.0  476876.0  \n",
       "LocationID                30.00    44.0      78.0  "
      ]
     },
     "execution_count": 7,
     "metadata": {},
     "output_type": "execute_result"
    }
   ],
   "source": [
    "#a summary of the numerical columns\n",
    "df.describe().transpose()"
   ]
  },
  {
   "cell_type": "markdown",
   "metadata": {},
   "source": [
    "> From the summary it is evident that the study was carried out between 2011 and 2016, as shown by the range of YearStart and YearEnd."
   ]
  },
  {
   "cell_type": "markdown",
   "metadata": {},
   "source": [
    "> An important attribute is how much null values there are in the dataset.\n",
    ">\n",
    "> In the cell below, I look at how many null values exist in each column"
   ]
  },
  {
   "cell_type": "code",
   "execution_count": 8,
   "metadata": {},
   "outputs": [
    {
     "data": {
      "text/plain": [
       "YearStart                         0\n",
       "Stratification1                   0\n",
       "StratificationCategory1           0\n",
       "LocationID                        0\n",
       "DataValueTypeID                   0\n",
       "QuestionID                        0\n",
       "TopicID                           0\n",
       "ClassID                           0\n",
       "StratificationCategoryId1         0\n",
       "StratificationID1                 0\n",
       "YearEnd                           0\n",
       "LocationAbbr                      0\n",
       "LocationDesc                      0\n",
       "Datasource                        0\n",
       "Class                             0\n",
       "Topic                             0\n",
       "Question                          0\n",
       "Data_Value_Type                   0\n",
       "GeoLocation                    1008\n",
       "Data_Value                     5046\n",
       "Sample_Size                    5046\n",
       "High_Confidence_Limit          5046\n",
       "Low_Confidence_Limit           5046\n",
       "Data_Value_Alt                 5046\n",
       "Race/Ethnicity                38136\n",
       "Income                        40043\n",
       "Age(years)                    41954\n",
       "Education                     45764\n",
       "Data_Value_Footnote           48346\n",
       "Data_Value_Footnote_Symbol    48346\n",
       "Gender                        49578\n",
       "Total                         51485\n",
       "Data_Value_Unit               53392\n",
       "dtype: int64"
      ]
     },
     "execution_count": 8,
     "metadata": {},
     "output_type": "execute_result"
    }
   ],
   "source": [
    "# display the null values in each column\n",
    "df.isnull().sum().sort_values()"
   ]
  },
  {
   "cell_type": "code",
   "execution_count": 9,
   "metadata": {},
   "outputs": [
    {
     "data": {
      "text/html": [
       "<div>\n",
       "<style scoped>\n",
       "    .dataframe tbody tr th:only-of-type {\n",
       "        vertical-align: middle;\n",
       "    }\n",
       "\n",
       "    .dataframe tbody tr th {\n",
       "        vertical-align: top;\n",
       "    }\n",
       "\n",
       "    .dataframe thead th {\n",
       "        text-align: right;\n",
       "    }\n",
       "</style>\n",
       "<table border=\"1\" class=\"dataframe\">\n",
       "  <thead>\n",
       "    <tr style=\"text-align: right;\">\n",
       "      <th></th>\n",
       "      <th>Columns</th>\n",
       "      <th>Null Values</th>\n",
       "      <th>Total Values</th>\n",
       "      <th>Null Percentage</th>\n",
       "    </tr>\n",
       "  </thead>\n",
       "  <tbody>\n",
       "    <tr>\n",
       "      <th>0</th>\n",
       "      <td>Data_Value_Unit</td>\n",
       "      <td>53392</td>\n",
       "      <td>53392</td>\n",
       "      <td>100.000000</td>\n",
       "    </tr>\n",
       "    <tr>\n",
       "      <th>1</th>\n",
       "      <td>Total</td>\n",
       "      <td>51485</td>\n",
       "      <td>53392</td>\n",
       "      <td>96.428304</td>\n",
       "    </tr>\n",
       "    <tr>\n",
       "      <th>2</th>\n",
       "      <td>Gender</td>\n",
       "      <td>49578</td>\n",
       "      <td>53392</td>\n",
       "      <td>92.856608</td>\n",
       "    </tr>\n",
       "    <tr>\n",
       "      <th>3</th>\n",
       "      <td>Data_Value_Footnote_Symbol</td>\n",
       "      <td>48346</td>\n",
       "      <td>53392</td>\n",
       "      <td>90.549146</td>\n",
       "    </tr>\n",
       "    <tr>\n",
       "      <th>4</th>\n",
       "      <td>Data_Value_Footnote</td>\n",
       "      <td>48346</td>\n",
       "      <td>53392</td>\n",
       "      <td>90.549146</td>\n",
       "    </tr>\n",
       "    <tr>\n",
       "      <th>5</th>\n",
       "      <td>Education</td>\n",
       "      <td>45764</td>\n",
       "      <td>53392</td>\n",
       "      <td>85.713215</td>\n",
       "    </tr>\n",
       "    <tr>\n",
       "      <th>6</th>\n",
       "      <td>Age(years)</td>\n",
       "      <td>41954</td>\n",
       "      <td>53392</td>\n",
       "      <td>78.577315</td>\n",
       "    </tr>\n",
       "    <tr>\n",
       "      <th>7</th>\n",
       "      <td>Income</td>\n",
       "      <td>40043</td>\n",
       "      <td>53392</td>\n",
       "      <td>74.998127</td>\n",
       "    </tr>\n",
       "    <tr>\n",
       "      <th>8</th>\n",
       "      <td>Race/Ethnicity</td>\n",
       "      <td>38136</td>\n",
       "      <td>53392</td>\n",
       "      <td>71.426431</td>\n",
       "    </tr>\n",
       "    <tr>\n",
       "      <th>9</th>\n",
       "      <td>High_Confidence_Limit</td>\n",
       "      <td>5046</td>\n",
       "      <td>53392</td>\n",
       "      <td>9.450854</td>\n",
       "    </tr>\n",
       "    <tr>\n",
       "      <th>10</th>\n",
       "      <td>Low_Confidence_Limit</td>\n",
       "      <td>5046</td>\n",
       "      <td>53392</td>\n",
       "      <td>9.450854</td>\n",
       "    </tr>\n",
       "    <tr>\n",
       "      <th>11</th>\n",
       "      <td>Sample_Size</td>\n",
       "      <td>5046</td>\n",
       "      <td>53392</td>\n",
       "      <td>9.450854</td>\n",
       "    </tr>\n",
       "    <tr>\n",
       "      <th>12</th>\n",
       "      <td>Data_Value</td>\n",
       "      <td>5046</td>\n",
       "      <td>53392</td>\n",
       "      <td>9.450854</td>\n",
       "    </tr>\n",
       "    <tr>\n",
       "      <th>13</th>\n",
       "      <td>Data_Value_Alt</td>\n",
       "      <td>5046</td>\n",
       "      <td>53392</td>\n",
       "      <td>9.450854</td>\n",
       "    </tr>\n",
       "    <tr>\n",
       "      <th>14</th>\n",
       "      <td>GeoLocation</td>\n",
       "      <td>1008</td>\n",
       "      <td>53392</td>\n",
       "      <td>1.887923</td>\n",
       "    </tr>\n",
       "    <tr>\n",
       "      <th>15</th>\n",
       "      <td>TopicID</td>\n",
       "      <td>0</td>\n",
       "      <td>53392</td>\n",
       "      <td>0.000000</td>\n",
       "    </tr>\n",
       "    <tr>\n",
       "      <th>16</th>\n",
       "      <td>QuestionID</td>\n",
       "      <td>0</td>\n",
       "      <td>53392</td>\n",
       "      <td>0.000000</td>\n",
       "    </tr>\n",
       "    <tr>\n",
       "      <th>17</th>\n",
       "      <td>ClassID</td>\n",
       "      <td>0</td>\n",
       "      <td>53392</td>\n",
       "      <td>0.000000</td>\n",
       "    </tr>\n",
       "    <tr>\n",
       "      <th>18</th>\n",
       "      <td>DataValueTypeID</td>\n",
       "      <td>0</td>\n",
       "      <td>53392</td>\n",
       "      <td>0.000000</td>\n",
       "    </tr>\n",
       "    <tr>\n",
       "      <th>19</th>\n",
       "      <td>LocationID</td>\n",
       "      <td>0</td>\n",
       "      <td>53392</td>\n",
       "      <td>0.000000</td>\n",
       "    </tr>\n",
       "    <tr>\n",
       "      <th>20</th>\n",
       "      <td>StratificationCategory1</td>\n",
       "      <td>0</td>\n",
       "      <td>53392</td>\n",
       "      <td>0.000000</td>\n",
       "    </tr>\n",
       "    <tr>\n",
       "      <th>21</th>\n",
       "      <td>Stratification1</td>\n",
       "      <td>0</td>\n",
       "      <td>53392</td>\n",
       "      <td>0.000000</td>\n",
       "    </tr>\n",
       "    <tr>\n",
       "      <th>22</th>\n",
       "      <td>StratificationCategoryId1</td>\n",
       "      <td>0</td>\n",
       "      <td>53392</td>\n",
       "      <td>0.000000</td>\n",
       "    </tr>\n",
       "    <tr>\n",
       "      <th>23</th>\n",
       "      <td>YearStart</td>\n",
       "      <td>0</td>\n",
       "      <td>53392</td>\n",
       "      <td>0.000000</td>\n",
       "    </tr>\n",
       "    <tr>\n",
       "      <th>24</th>\n",
       "      <td>YearEnd</td>\n",
       "      <td>0</td>\n",
       "      <td>53392</td>\n",
       "      <td>0.000000</td>\n",
       "    </tr>\n",
       "    <tr>\n",
       "      <th>25</th>\n",
       "      <td>Data_Value_Type</td>\n",
       "      <td>0</td>\n",
       "      <td>53392</td>\n",
       "      <td>0.000000</td>\n",
       "    </tr>\n",
       "    <tr>\n",
       "      <th>26</th>\n",
       "      <td>Question</td>\n",
       "      <td>0</td>\n",
       "      <td>53392</td>\n",
       "      <td>0.000000</td>\n",
       "    </tr>\n",
       "    <tr>\n",
       "      <th>27</th>\n",
       "      <td>Topic</td>\n",
       "      <td>0</td>\n",
       "      <td>53392</td>\n",
       "      <td>0.000000</td>\n",
       "    </tr>\n",
       "    <tr>\n",
       "      <th>28</th>\n",
       "      <td>Class</td>\n",
       "      <td>0</td>\n",
       "      <td>53392</td>\n",
       "      <td>0.000000</td>\n",
       "    </tr>\n",
       "    <tr>\n",
       "      <th>29</th>\n",
       "      <td>Datasource</td>\n",
       "      <td>0</td>\n",
       "      <td>53392</td>\n",
       "      <td>0.000000</td>\n",
       "    </tr>\n",
       "    <tr>\n",
       "      <th>30</th>\n",
       "      <td>LocationDesc</td>\n",
       "      <td>0</td>\n",
       "      <td>53392</td>\n",
       "      <td>0.000000</td>\n",
       "    </tr>\n",
       "    <tr>\n",
       "      <th>31</th>\n",
       "      <td>LocationAbbr</td>\n",
       "      <td>0</td>\n",
       "      <td>53392</td>\n",
       "      <td>0.000000</td>\n",
       "    </tr>\n",
       "    <tr>\n",
       "      <th>32</th>\n",
       "      <td>StratificationID1</td>\n",
       "      <td>0</td>\n",
       "      <td>53392</td>\n",
       "      <td>0.000000</td>\n",
       "    </tr>\n",
       "  </tbody>\n",
       "</table>\n",
       "</div>"
      ],
      "text/plain": [
       "                       Columns  Null Values  Total Values  Null Percentage\n",
       "0              Data_Value_Unit        53392         53392       100.000000\n",
       "1                        Total        51485         53392        96.428304\n",
       "2                       Gender        49578         53392        92.856608\n",
       "3   Data_Value_Footnote_Symbol        48346         53392        90.549146\n",
       "4          Data_Value_Footnote        48346         53392        90.549146\n",
       "5                    Education        45764         53392        85.713215\n",
       "6                   Age(years)        41954         53392        78.577315\n",
       "7                       Income        40043         53392        74.998127\n",
       "8               Race/Ethnicity        38136         53392        71.426431\n",
       "9       High_Confidence_Limit          5046         53392         9.450854\n",
       "10        Low_Confidence_Limit         5046         53392         9.450854\n",
       "11                 Sample_Size         5046         53392         9.450854\n",
       "12                  Data_Value         5046         53392         9.450854\n",
       "13              Data_Value_Alt         5046         53392         9.450854\n",
       "14                 GeoLocation         1008         53392         1.887923\n",
       "15                     TopicID            0         53392         0.000000\n",
       "16                  QuestionID            0         53392         0.000000\n",
       "17                     ClassID            0         53392         0.000000\n",
       "18             DataValueTypeID            0         53392         0.000000\n",
       "19                  LocationID            0         53392         0.000000\n",
       "20     StratificationCategory1            0         53392         0.000000\n",
       "21             Stratification1            0         53392         0.000000\n",
       "22   StratificationCategoryId1            0         53392         0.000000\n",
       "23                   YearStart            0         53392         0.000000\n",
       "24                     YearEnd            0         53392         0.000000\n",
       "25             Data_Value_Type            0         53392         0.000000\n",
       "26                    Question            0         53392         0.000000\n",
       "27                       Topic            0         53392         0.000000\n",
       "28                       Class            0         53392         0.000000\n",
       "29                  Datasource            0         53392         0.000000\n",
       "30                LocationDesc            0         53392         0.000000\n",
       "31                LocationAbbr            0         53392         0.000000\n",
       "32           StratificationID1            0         53392         0.000000"
      ]
     },
     "execution_count": 9,
     "metadata": {},
     "output_type": "execute_result"
    }
   ],
   "source": [
    "null_df = pd.DataFrame({'Columns': df.columns, 'Null Values':df.isnull().sum()})\n",
    "null_df.reset_index(drop=True, inplace=True)\n",
    "null_df['Total Values'] = df.shape[0]\n",
    "null_df['Null Percentage'] = (null_df['Null Values'] / null_df['Total Values'])*100\n",
    "null_df = null_df.sort_values(['Null Percentage'], ascending=False)\n",
    "null_df.reset_index(drop=True)"
   ]
  },
  {
   "cell_type": "markdown",
   "metadata": {},
   "source": [
    "> To put it in perspective, 8 columns have at least 70% missing values!"
   ]
  },
  {
   "cell_type": "markdown",
   "metadata": {},
   "source": [
    "> Columns that have only one unique value can as well be excluded since they do not add much information to the data.\n",
    ">\n",
    "> In the cell below I probe each column to see the number of unique values it contains"
   ]
  },
  {
   "cell_type": "code",
   "execution_count": 10,
   "metadata": {},
   "outputs": [
    {
     "name": "stdout",
     "output_type": "stream",
     "text": [
      "YearStart has 6 unique values\n",
      "YearEnd has 6 unique values\n",
      "LocationAbbr has 55 unique values\n",
      "LocationDesc has 55 unique values\n",
      "Datasource has 1 unique values\n",
      "Class has 3 unique values\n",
      "Topic has 3 unique values\n",
      "Question has 9 unique values\n",
      "Data_Value_Unit has 0 unique values\n",
      "Data_Value_Type has 1 unique values\n",
      "Data_Value has 669 unique values\n",
      "Data_Value_Alt has 669 unique values\n",
      "Data_Value_Footnote_Symbol has 1 unique values\n",
      "Data_Value_Footnote has 2 unique values\n",
      "Low_Confidence_Limit has 654 unique values\n",
      "High_Confidence_Limit  has 723 unique values\n",
      "Sample_Size has 8123 unique values\n",
      "Total has 1 unique values\n",
      "Age(years) has 6 unique values\n",
      "Education has 4 unique values\n",
      "Gender has 2 unique values\n",
      "Income has 7 unique values\n",
      "Race/Ethnicity has 8 unique values\n",
      "GeoLocation has 54 unique values\n",
      "ClassID has 3 unique values\n",
      "TopicID has 3 unique values\n",
      "QuestionID has 9 unique values\n",
      "DataValueTypeID has 1 unique values\n",
      "LocationID has 55 unique values\n",
      "StratificationCategory1 has 6 unique values\n",
      "Stratification1 has 28 unique values\n",
      "StratificationCategoryId1 has 6 unique values\n",
      "StratificationID1 has 28 unique values\n"
     ]
    }
   ],
   "source": [
    "#show the number of unique values each column has\n",
    "for col in df.columns:\n",
    "    print(f'{col} has {df[col].nunique()} unique values')"
   ]
  },
  {
   "cell_type": "markdown",
   "metadata": {},
   "source": [
    "> It is also important to get to know the relationships that exist between the columns early on in the analysis"
   ]
  },
  {
   "cell_type": "markdown",
   "metadata": {},
   "source": [
    "> I noticed that for all the 5 records displayed above, YearStart was always the same as YearEnd.\n",
    ">\n",
    "> The same was true for Data_Value and Data_Value_Alt\n",
    ">\n",
    "> Could it be that these four columns are actually two duplicated columns?"
   ]
  },
  {
   "cell_type": "code",
   "execution_count": 11,
   "metadata": {},
   "outputs": [
    {
     "data": {
      "text/plain": [
       "53392"
      ]
     },
     "execution_count": 11,
     "metadata": {},
     "output_type": "execute_result"
    }
   ],
   "source": [
    "(df['YearEnd'] == df['YearStart']).sum()"
   ]
  },
  {
   "cell_type": "code",
   "execution_count": 12,
   "metadata": {},
   "outputs": [
    {
     "data": {
      "text/plain": [
       "48346"
      ]
     },
     "execution_count": 12,
     "metadata": {},
     "output_type": "execute_result"
    }
   ],
   "source": [
    "(df['Data_Value'] == df['Data_Value_Alt']).sum()"
   ]
  },
  {
   "cell_type": "code",
   "execution_count": 13,
   "metadata": {},
   "outputs": [
    {
     "data": {
      "text/html": [
       "<div>\n",
       "<style scoped>\n",
       "    .dataframe tbody tr th:only-of-type {\n",
       "        vertical-align: middle;\n",
       "    }\n",
       "\n",
       "    .dataframe tbody tr th {\n",
       "        vertical-align: top;\n",
       "    }\n",
       "\n",
       "    .dataframe thead th {\n",
       "        text-align: right;\n",
       "    }\n",
       "</style>\n",
       "<table border=\"1\" class=\"dataframe\">\n",
       "  <thead>\n",
       "    <tr style=\"text-align: right;\">\n",
       "      <th></th>\n",
       "      <th>YearStart</th>\n",
       "      <th>YearEnd</th>\n",
       "      <th>LocationAbbr</th>\n",
       "      <th>LocationDesc</th>\n",
       "      <th>Datasource</th>\n",
       "      <th>Class</th>\n",
       "      <th>Topic</th>\n",
       "      <th>Question</th>\n",
       "      <th>Data_Value_Unit</th>\n",
       "      <th>Data_Value_Type</th>\n",
       "      <th>Data_Value</th>\n",
       "      <th>Data_Value_Alt</th>\n",
       "      <th>Data_Value_Footnote_Symbol</th>\n",
       "      <th>Data_Value_Footnote</th>\n",
       "      <th>Low_Confidence_Limit</th>\n",
       "      <th>High_Confidence_Limit</th>\n",
       "      <th>Sample_Size</th>\n",
       "      <th>Total</th>\n",
       "      <th>Age(years)</th>\n",
       "      <th>Education</th>\n",
       "      <th>Gender</th>\n",
       "      <th>Income</th>\n",
       "      <th>Race/Ethnicity</th>\n",
       "      <th>GeoLocation</th>\n",
       "      <th>ClassID</th>\n",
       "      <th>TopicID</th>\n",
       "      <th>QuestionID</th>\n",
       "      <th>DataValueTypeID</th>\n",
       "      <th>LocationID</th>\n",
       "      <th>StratificationCategory1</th>\n",
       "      <th>Stratification1</th>\n",
       "      <th>StratificationCategoryId1</th>\n",
       "      <th>StratificationID1</th>\n",
       "    </tr>\n",
       "  </thead>\n",
       "  <tbody>\n",
       "    <tr>\n",
       "      <th>23</th>\n",
       "      <td>2011</td>\n",
       "      <td>2011</td>\n",
       "      <td>AL</td>\n",
       "      <td>Alabama</td>\n",
       "      <td>Behavioral Risk Factor Surveillance System</td>\n",
       "      <td>Obesity / Weight Status</td>\n",
       "      <td>Obesity / Weight Status</td>\n",
       "      <td>Percent of adults aged 18 years and older who have obesity</td>\n",
       "      <td>NaN</td>\n",
       "      <td>Value</td>\n",
       "      <td>NaN</td>\n",
       "      <td>NaN</td>\n",
       "      <td>~</td>\n",
       "      <td>Data not available because sample size is insufficient.</td>\n",
       "      <td>NaN</td>\n",
       "      <td>NaN</td>\n",
       "      <td>NaN</td>\n",
       "      <td>NaN</td>\n",
       "      <td>NaN</td>\n",
       "      <td>NaN</td>\n",
       "      <td>NaN</td>\n",
       "      <td>NaN</td>\n",
       "      <td>Asian</td>\n",
       "      <td>(32.84057112200048, -86.63186076199969)</td>\n",
       "      <td>OWS</td>\n",
       "      <td>OWS1</td>\n",
       "      <td>Q036</td>\n",
       "      <td>VALUE</td>\n",
       "      <td>1</td>\n",
       "      <td>Race/Ethnicity</td>\n",
       "      <td>Asian</td>\n",
       "      <td>RACE</td>\n",
       "      <td>RACEASN</td>\n",
       "    </tr>\n",
       "    <tr>\n",
       "      <th>24</th>\n",
       "      <td>2011</td>\n",
       "      <td>2011</td>\n",
       "      <td>AL</td>\n",
       "      <td>Alabama</td>\n",
       "      <td>Behavioral Risk Factor Surveillance System</td>\n",
       "      <td>Obesity / Weight Status</td>\n",
       "      <td>Obesity / Weight Status</td>\n",
       "      <td>Percent of adults aged 18 years and older who have obesity</td>\n",
       "      <td>NaN</td>\n",
       "      <td>Value</td>\n",
       "      <td>NaN</td>\n",
       "      <td>NaN</td>\n",
       "      <td>~</td>\n",
       "      <td>Data not available because sample size is insufficient.</td>\n",
       "      <td>NaN</td>\n",
       "      <td>NaN</td>\n",
       "      <td>NaN</td>\n",
       "      <td>NaN</td>\n",
       "      <td>NaN</td>\n",
       "      <td>NaN</td>\n",
       "      <td>NaN</td>\n",
       "      <td>NaN</td>\n",
       "      <td>Hawaiian/Pacific Islander</td>\n",
       "      <td>(32.84057112200048, -86.63186076199969)</td>\n",
       "      <td>OWS</td>\n",
       "      <td>OWS1</td>\n",
       "      <td>Q036</td>\n",
       "      <td>VALUE</td>\n",
       "      <td>1</td>\n",
       "      <td>Race/Ethnicity</td>\n",
       "      <td>Hawaiian/Pacific Islander</td>\n",
       "      <td>RACE</td>\n",
       "      <td>RACEHPI</td>\n",
       "    </tr>\n",
       "    <tr>\n",
       "      <th>27</th>\n",
       "      <td>2011</td>\n",
       "      <td>2011</td>\n",
       "      <td>AL</td>\n",
       "      <td>Alabama</td>\n",
       "      <td>Behavioral Risk Factor Surveillance System</td>\n",
       "      <td>Obesity / Weight Status</td>\n",
       "      <td>Obesity / Weight Status</td>\n",
       "      <td>Percent of adults aged 18 years and older who have obesity</td>\n",
       "      <td>NaN</td>\n",
       "      <td>Value</td>\n",
       "      <td>NaN</td>\n",
       "      <td>NaN</td>\n",
       "      <td>~</td>\n",
       "      <td>Data not available because sample size is insufficient.</td>\n",
       "      <td>NaN</td>\n",
       "      <td>NaN</td>\n",
       "      <td>NaN</td>\n",
       "      <td>NaN</td>\n",
       "      <td>NaN</td>\n",
       "      <td>NaN</td>\n",
       "      <td>NaN</td>\n",
       "      <td>NaN</td>\n",
       "      <td>Other</td>\n",
       "      <td>(32.84057112200048, -86.63186076199969)</td>\n",
       "      <td>OWS</td>\n",
       "      <td>OWS1</td>\n",
       "      <td>Q036</td>\n",
       "      <td>VALUE</td>\n",
       "      <td>1</td>\n",
       "      <td>Race/Ethnicity</td>\n",
       "      <td>Other</td>\n",
       "      <td>RACE</td>\n",
       "      <td>RACEOTH</td>\n",
       "    </tr>\n",
       "    <tr>\n",
       "      <th>51</th>\n",
       "      <td>2011</td>\n",
       "      <td>2011</td>\n",
       "      <td>AL</td>\n",
       "      <td>Alabama</td>\n",
       "      <td>Behavioral Risk Factor Surveillance System</td>\n",
       "      <td>Obesity / Weight Status</td>\n",
       "      <td>Obesity / Weight Status</td>\n",
       "      <td>Percent of adults aged 18 years and older who have an overweight classification</td>\n",
       "      <td>NaN</td>\n",
       "      <td>Value</td>\n",
       "      <td>NaN</td>\n",
       "      <td>NaN</td>\n",
       "      <td>~</td>\n",
       "      <td>Data not available because sample size is insufficient.</td>\n",
       "      <td>NaN</td>\n",
       "      <td>NaN</td>\n",
       "      <td>NaN</td>\n",
       "      <td>NaN</td>\n",
       "      <td>NaN</td>\n",
       "      <td>NaN</td>\n",
       "      <td>NaN</td>\n",
       "      <td>NaN</td>\n",
       "      <td>Asian</td>\n",
       "      <td>(32.84057112200048, -86.63186076199969)</td>\n",
       "      <td>OWS</td>\n",
       "      <td>OWS1</td>\n",
       "      <td>Q037</td>\n",
       "      <td>VALUE</td>\n",
       "      <td>1</td>\n",
       "      <td>Race/Ethnicity</td>\n",
       "      <td>Asian</td>\n",
       "      <td>RACE</td>\n",
       "      <td>RACEASN</td>\n",
       "    </tr>\n",
       "    <tr>\n",
       "      <th>52</th>\n",
       "      <td>2011</td>\n",
       "      <td>2011</td>\n",
       "      <td>AL</td>\n",
       "      <td>Alabama</td>\n",
       "      <td>Behavioral Risk Factor Surveillance System</td>\n",
       "      <td>Obesity / Weight Status</td>\n",
       "      <td>Obesity / Weight Status</td>\n",
       "      <td>Percent of adults aged 18 years and older who have an overweight classification</td>\n",
       "      <td>NaN</td>\n",
       "      <td>Value</td>\n",
       "      <td>NaN</td>\n",
       "      <td>NaN</td>\n",
       "      <td>~</td>\n",
       "      <td>Data not available because sample size is insufficient.</td>\n",
       "      <td>NaN</td>\n",
       "      <td>NaN</td>\n",
       "      <td>NaN</td>\n",
       "      <td>NaN</td>\n",
       "      <td>NaN</td>\n",
       "      <td>NaN</td>\n",
       "      <td>NaN</td>\n",
       "      <td>NaN</td>\n",
       "      <td>Hawaiian/Pacific Islander</td>\n",
       "      <td>(32.84057112200048, -86.63186076199969)</td>\n",
       "      <td>OWS</td>\n",
       "      <td>OWS1</td>\n",
       "      <td>Q037</td>\n",
       "      <td>VALUE</td>\n",
       "      <td>1</td>\n",
       "      <td>Race/Ethnicity</td>\n",
       "      <td>Hawaiian/Pacific Islander</td>\n",
       "      <td>RACE</td>\n",
       "      <td>RACEHPI</td>\n",
       "    </tr>\n",
       "  </tbody>\n",
       "</table>\n",
       "</div>"
      ],
      "text/plain": [
       "    YearStart  YearEnd LocationAbbr LocationDesc  \\\n",
       "23       2011     2011           AL      Alabama   \n",
       "24       2011     2011           AL      Alabama   \n",
       "27       2011     2011           AL      Alabama   \n",
       "51       2011     2011           AL      Alabama   \n",
       "52       2011     2011           AL      Alabama   \n",
       "\n",
       "                                    Datasource                    Class  \\\n",
       "23  Behavioral Risk Factor Surveillance System  Obesity / Weight Status   \n",
       "24  Behavioral Risk Factor Surveillance System  Obesity / Weight Status   \n",
       "27  Behavioral Risk Factor Surveillance System  Obesity / Weight Status   \n",
       "51  Behavioral Risk Factor Surveillance System  Obesity / Weight Status   \n",
       "52  Behavioral Risk Factor Surveillance System  Obesity / Weight Status   \n",
       "\n",
       "                      Topic  \\\n",
       "23  Obesity / Weight Status   \n",
       "24  Obesity / Weight Status   \n",
       "27  Obesity / Weight Status   \n",
       "51  Obesity / Weight Status   \n",
       "52  Obesity / Weight Status   \n",
       "\n",
       "                                                                           Question  \\\n",
       "23                       Percent of adults aged 18 years and older who have obesity   \n",
       "24                       Percent of adults aged 18 years and older who have obesity   \n",
       "27                       Percent of adults aged 18 years and older who have obesity   \n",
       "51  Percent of adults aged 18 years and older who have an overweight classification   \n",
       "52  Percent of adults aged 18 years and older who have an overweight classification   \n",
       "\n",
       "    Data_Value_Unit Data_Value_Type  Data_Value  Data_Value_Alt  \\\n",
       "23              NaN           Value         NaN             NaN   \n",
       "24              NaN           Value         NaN             NaN   \n",
       "27              NaN           Value         NaN             NaN   \n",
       "51              NaN           Value         NaN             NaN   \n",
       "52              NaN           Value         NaN             NaN   \n",
       "\n",
       "   Data_Value_Footnote_Symbol  \\\n",
       "23                          ~   \n",
       "24                          ~   \n",
       "27                          ~   \n",
       "51                          ~   \n",
       "52                          ~   \n",
       "\n",
       "                                        Data_Value_Footnote  \\\n",
       "23  Data not available because sample size is insufficient.   \n",
       "24  Data not available because sample size is insufficient.   \n",
       "27  Data not available because sample size is insufficient.   \n",
       "51  Data not available because sample size is insufficient.   \n",
       "52  Data not available because sample size is insufficient.   \n",
       "\n",
       "    Low_Confidence_Limit  High_Confidence_Limit   Sample_Size Total  \\\n",
       "23                   NaN                     NaN          NaN   NaN   \n",
       "24                   NaN                     NaN          NaN   NaN   \n",
       "27                   NaN                     NaN          NaN   NaN   \n",
       "51                   NaN                     NaN          NaN   NaN   \n",
       "52                   NaN                     NaN          NaN   NaN   \n",
       "\n",
       "   Age(years) Education Gender Income             Race/Ethnicity  \\\n",
       "23        NaN       NaN    NaN    NaN                      Asian   \n",
       "24        NaN       NaN    NaN    NaN  Hawaiian/Pacific Islander   \n",
       "27        NaN       NaN    NaN    NaN                      Other   \n",
       "51        NaN       NaN    NaN    NaN                      Asian   \n",
       "52        NaN       NaN    NaN    NaN  Hawaiian/Pacific Islander   \n",
       "\n",
       "                                GeoLocation ClassID TopicID QuestionID  \\\n",
       "23  (32.84057112200048, -86.63186076199969)     OWS    OWS1       Q036   \n",
       "24  (32.84057112200048, -86.63186076199969)     OWS    OWS1       Q036   \n",
       "27  (32.84057112200048, -86.63186076199969)     OWS    OWS1       Q036   \n",
       "51  (32.84057112200048, -86.63186076199969)     OWS    OWS1       Q037   \n",
       "52  (32.84057112200048, -86.63186076199969)     OWS    OWS1       Q037   \n",
       "\n",
       "   DataValueTypeID  LocationID StratificationCategory1  \\\n",
       "23           VALUE           1          Race/Ethnicity   \n",
       "24           VALUE           1          Race/Ethnicity   \n",
       "27           VALUE           1          Race/Ethnicity   \n",
       "51           VALUE           1          Race/Ethnicity   \n",
       "52           VALUE           1          Race/Ethnicity   \n",
       "\n",
       "              Stratification1 StratificationCategoryId1 StratificationID1  \n",
       "23                      Asian                      RACE           RACEASN  \n",
       "24  Hawaiian/Pacific Islander                      RACE           RACEHPI  \n",
       "27                      Other                      RACE           RACEOTH  \n",
       "51                      Asian                      RACE           RACEASN  \n",
       "52  Hawaiian/Pacific Islander                      RACE           RACEHPI  "
      ]
     },
     "execution_count": 13,
     "metadata": {},
     "output_type": "execute_result"
    }
   ],
   "source": [
    "df[df['Data_Value'] != df['Data_Value_Alt']].head()"
   ]
  },
  {
   "cell_type": "markdown",
   "metadata": {},
   "source": [
    "> Some varibales are duplicated across multiple columns. These include (YearStart, YearEnd) and (Data_Value, Data_Value_Alt). Since no indication is there on why the variables are duplicated, then it is important to drop one of them."
   ]
  },
  {
   "cell_type": "code",
   "execution_count": 14,
   "metadata": {},
   "outputs": [
    {
     "data": {
      "text/plain": [
       "0"
      ]
     },
     "execution_count": 14,
     "metadata": {},
     "output_type": "execute_result"
    }
   ],
   "source": [
    "#find out the number of duplicated records\n",
    "df.duplicated().sum()"
   ]
  },
  {
   "cell_type": "markdown",
   "metadata": {},
   "source": [
    "> All records in the dataset are unique as shown in the cell above"
   ]
  },
  {
   "cell_type": "markdown",
   "metadata": {},
   "source": [
    "> It is also necessary to understand the data types of the values for each column.\n",
    ">\n",
    "> This is important to know since not all operations can be performed on all data types"
   ]
  },
  {
   "cell_type": "code",
   "execution_count": 15,
   "metadata": {},
   "outputs": [
    {
     "data": {
      "text/plain": [
       "YearStart                       int64\n",
       "YearEnd                         int64\n",
       "LocationAbbr                   object\n",
       "LocationDesc                   object\n",
       "Datasource                     object\n",
       "Class                          object\n",
       "Topic                          object\n",
       "Question                       object\n",
       "Data_Value_Unit               float64\n",
       "Data_Value_Type                object\n",
       "Data_Value                    float64\n",
       "Data_Value_Alt                float64\n",
       "Data_Value_Footnote_Symbol     object\n",
       "Data_Value_Footnote            object\n",
       "Low_Confidence_Limit          float64\n",
       "High_Confidence_Limit         float64\n",
       "Sample_Size                   float64\n",
       "Total                          object\n",
       "Age(years)                     object\n",
       "Education                      object\n",
       "Gender                         object\n",
       "Income                         object\n",
       "Race/Ethnicity                 object\n",
       "GeoLocation                    object\n",
       "ClassID                        object\n",
       "TopicID                        object\n",
       "QuestionID                     object\n",
       "DataValueTypeID                object\n",
       "LocationID                      int64\n",
       "StratificationCategory1        object\n",
       "Stratification1                object\n",
       "StratificationCategoryId1      object\n",
       "StratificationID1              object\n",
       "dtype: object"
      ]
     },
     "execution_count": 15,
     "metadata": {},
     "output_type": "execute_result"
    }
   ],
   "source": [
    "df.dtypes"
   ]
  },
  {
   "cell_type": "markdown",
   "metadata": {},
   "source": [
    "### Issues with data"
   ]
  },
  {
   "cell_type": "markdown",
   "metadata": {},
   "source": [
    "> After some exploration I realized the data has some quality issues, which I will focus on in this section\n",
    ">\n",
    "> By the end of this section I hope that I will have clean and structured data"
   ]
  },
  {
   "cell_type": "markdown",
   "metadata": {},
   "source": [
    "#### Data tidiness"
   ]
  },
  {
   "cell_type": "markdown",
   "metadata": {},
   "source": [
    "> In this sub section, I highlight issues of data atomicity\n",
    ">\n",
    "> To make for easy analysis, the following guidelines should be adhered to;\n",
    ">\n",
    ">1. Each variable should have its own column\n",
    ">2. Each observation should be a row (no duplicates should exist)\n",
    ">3. Each organizational unit should be a table/dataset\n",
    "\n",
    "> The intention is to separate each dataset on its own, then later bring it together in an organized manner if necessary. For example, it does not make for good viewing that location alone is represented by 4 different columns in the same dataset!"
   ]
  },
  {
   "cell_type": "markdown",
   "metadata": {},
   "source": [
    "1. The dataset has a semi-dataset that represents questions\n",
    "2. The dataset has a semi-dataset that represents topics\n",
    "3. The dataset has a semi-dataset that represents classes\n",
    "4. The dataset has a semi-dataset that represents locations\n",
    "5. The dataset has a semi-dataset that represents stratifications\n",
    "6. YearStart has a perfect correlation to YearEnd - this could mean that they contain the same values, which then makes one of the columns redundant\n",
    "7. Data_Value has a perfect correlation to Data_Value_Alt"
   ]
  },
  {
   "cell_type": "markdown",
   "metadata": {},
   "source": [
    "#### Data Cleanliness"
   ]
  },
  {
   "cell_type": "markdown",
   "metadata": {},
   "source": [
    "> Columns which have less than 2 unique values really do not add much to our analysis\n",
    ">\n",
    "> All records will most likely have the same value, and so the column can be ignored"
   ]
  },
  {
   "cell_type": "markdown",
   "metadata": {},
   "source": [
    "1. Datasource has 1 unique value\n",
    "2. Data_Value_Unit has 0 unique values - this is due to the fact that the column does not have a single non-null value. It shall be handled as a missing data issue.\n",
    "3. Data_Value_Type has 1 unique value\n",
    "4. Data_Value_Footnote_Symbol has 1 unique value\n",
    "5. Total has 1 unique values"
   ]
  },
  {
   "cell_type": "markdown",
   "metadata": {},
   "source": [
    "#### Missing Data"
   ]
  },
  {
   "cell_type": "markdown",
   "metadata": {},
   "source": [
    "> Missing values could mean that the data is improperly stored, or simply that such data was not captured.\n",
    ">\n",
    "> In this section I highlight issues with missing data."
   ]
  },
  {
   "cell_type": "markdown",
   "metadata": {},
   "source": [
    "1. GeoLocation has 1008 missing values\n",
    "2. Data_Value has 5046 missing values\n",
    "3. Sample_Size has 5046 missing values\n",
    "4. High_Confidence_Limit has 5046 missing values\n",
    "5. Low_Confidence_Limit has 5046 missing values\n",
    "6. Data_Value_Alt has 5046 missing values\n",
    "7. Race/Ethnicity has 38136 missing values\n",
    "8. Income has 40043 missing values\n",
    "9. Age(years) has 41954 missing values\n",
    "10. Education has 45764 missing values\n",
    "11. Data_Value_Footnote has 48346 missing values\n",
    "12. Data_Value_Footnote_Symbol has 48346 missing values\n",
    "13. Gender has 49578 missing values\n",
    "14. Total has 51485 missing values\n",
    "15. Data_Value_Unit has 53392 missing values"
   ]
  },
  {
   "cell_type": "markdown",
   "metadata": {},
   "source": [
    "### Cleaning data"
   ]
  },
  {
   "cell_type": "markdown",
   "metadata": {},
   "source": [
    "> In this section I address the issues outlined above.\n",
    ">\n",
    "> This step will be repetitive, to try and obtain clean and tidy data\n",
    ">\n",
    "> I will detail the problem that I want solved, propose a resolution plan and then implement the plan. As a final step I will test to see that my expectations have been achieved."
   ]
  },
  {
   "cell_type": "markdown",
   "metadata": {},
   "source": [
    "##### Problem Definition"
   ]
  },
  {
   "cell_type": "markdown",
   "metadata": {},
   "source": [
    "The dataset has a semi-dataset that represents questions"
   ]
  },
  {
   "cell_type": "markdown",
   "metadata": {},
   "source": [
    "##### Resolution Plan"
   ]
  },
  {
   "cell_type": "markdown",
   "metadata": {},
   "source": [
    "Create a dataset that contains only information about questions"
   ]
  },
  {
   "cell_type": "markdown",
   "metadata": {},
   "source": [
    "##### Implementation and Testing"
   ]
  },
  {
   "cell_type": "code",
   "execution_count": 16,
   "metadata": {},
   "outputs": [
    {
     "data": {
      "text/html": [
       "<div>\n",
       "<style scoped>\n",
       "    .dataframe tbody tr th:only-of-type {\n",
       "        vertical-align: middle;\n",
       "    }\n",
       "\n",
       "    .dataframe tbody tr th {\n",
       "        vertical-align: top;\n",
       "    }\n",
       "\n",
       "    .dataframe thead th {\n",
       "        text-align: right;\n",
       "    }\n",
       "</style>\n",
       "<table border=\"1\" class=\"dataframe\">\n",
       "  <thead>\n",
       "    <tr style=\"text-align: right;\">\n",
       "      <th></th>\n",
       "      <th>QuestionID</th>\n",
       "      <th>Question</th>\n",
       "    </tr>\n",
       "  </thead>\n",
       "  <tbody>\n",
       "    <tr>\n",
       "      <th>0</th>\n",
       "      <td>Q036</td>\n",
       "      <td>Percent of adults aged 18 years and older who have obesity</td>\n",
       "    </tr>\n",
       "    <tr>\n",
       "      <th>1</th>\n",
       "      <td>Q037</td>\n",
       "      <td>Percent of adults aged 18 years and older who have an overweight classification</td>\n",
       "    </tr>\n",
       "    <tr>\n",
       "      <th>2</th>\n",
       "      <td>Q018</td>\n",
       "      <td>Percent of adults who report consuming fruit less than one time daily</td>\n",
       "    </tr>\n",
       "    <tr>\n",
       "      <th>3</th>\n",
       "      <td>Q019</td>\n",
       "      <td>Percent of adults who report consuming vegetables less than one time daily</td>\n",
       "    </tr>\n",
       "    <tr>\n",
       "      <th>4</th>\n",
       "      <td>Q046</td>\n",
       "      <td>Percent of adults who engage in muscle-strengthening activities on 2 or more days a week</td>\n",
       "    </tr>\n",
       "  </tbody>\n",
       "</table>\n",
       "</div>"
      ],
      "text/plain": [
       "  QuestionID  \\\n",
       "0       Q036   \n",
       "1       Q037   \n",
       "2       Q018   \n",
       "3       Q019   \n",
       "4       Q046   \n",
       "\n",
       "                                                                                   Question  \n",
       "0                                Percent of adults aged 18 years and older who have obesity  \n",
       "1           Percent of adults aged 18 years and older who have an overweight classification  \n",
       "2                     Percent of adults who report consuming fruit less than one time daily  \n",
       "3                Percent of adults who report consuming vegetables less than one time daily  \n",
       "4  Percent of adults who engage in muscle-strengthening activities on 2 or more days a week  "
      ]
     },
     "execution_count": 16,
     "metadata": {},
     "output_type": "execute_result"
    }
   ],
   "source": [
    "questions_df = df[['QuestionID', 'Question']].drop_duplicates()\n",
    "questions_df.reset_index(drop=True, inplace=True)\n",
    "questions_df.head()"
   ]
  },
  {
   "cell_type": "markdown",
   "metadata": {},
   "source": [
    "> We now have an atomic dataset representing questions alone\n",
    ">\n",
    ">We can use the QuestionID to reference a question in a different table if need be"
   ]
  },
  {
   "cell_type": "code",
   "execution_count": 17,
   "metadata": {},
   "outputs": [
    {
     "data": {
      "text/plain": [
       "(9, 2)"
      ]
     },
     "execution_count": 17,
     "metadata": {},
     "output_type": "execute_result"
    }
   ],
   "source": [
    "questions_df.shape"
   ]
  },
  {
   "cell_type": "markdown",
   "metadata": {},
   "source": [
    "> In total, the the data contains answers to 9 questions, which are listed below\n",
    ">\n",
    "> When cleaning the main table, I will drop the Question description since it is long. However, it a question can still be referenced using the ID"
   ]
  },
  {
   "cell_type": "code",
   "execution_count": 18,
   "metadata": {},
   "outputs": [
    {
     "data": {
      "text/html": [
       "<div>\n",
       "<style scoped>\n",
       "    .dataframe tbody tr th:only-of-type {\n",
       "        vertical-align: middle;\n",
       "    }\n",
       "\n",
       "    .dataframe tbody tr th {\n",
       "        vertical-align: top;\n",
       "    }\n",
       "\n",
       "    .dataframe thead th {\n",
       "        text-align: right;\n",
       "    }\n",
       "</style>\n",
       "<table border=\"1\" class=\"dataframe\">\n",
       "  <thead>\n",
       "    <tr style=\"text-align: right;\">\n",
       "      <th></th>\n",
       "      <th>QuestionID</th>\n",
       "      <th>Question</th>\n",
       "    </tr>\n",
       "  </thead>\n",
       "  <tbody>\n",
       "    <tr>\n",
       "      <th>0</th>\n",
       "      <td>Q036</td>\n",
       "      <td>Percent of adults aged 18 years and older who have obesity</td>\n",
       "    </tr>\n",
       "    <tr>\n",
       "      <th>1</th>\n",
       "      <td>Q037</td>\n",
       "      <td>Percent of adults aged 18 years and older who have an overweight classification</td>\n",
       "    </tr>\n",
       "    <tr>\n",
       "      <th>2</th>\n",
       "      <td>Q018</td>\n",
       "      <td>Percent of adults who report consuming fruit less than one time daily</td>\n",
       "    </tr>\n",
       "    <tr>\n",
       "      <th>3</th>\n",
       "      <td>Q019</td>\n",
       "      <td>Percent of adults who report consuming vegetables less than one time daily</td>\n",
       "    </tr>\n",
       "    <tr>\n",
       "      <th>4</th>\n",
       "      <td>Q046</td>\n",
       "      <td>Percent of adults who engage in muscle-strengthening activities on 2 or more days a week</td>\n",
       "    </tr>\n",
       "    <tr>\n",
       "      <th>5</th>\n",
       "      <td>Q043</td>\n",
       "      <td>Percent of adults who achieve at least 150 minutes a week of moderate-intensity aerobic physical activity or 75 minutes a week of vigorous-intensity aerobic activity (or an equivalent combination)</td>\n",
       "    </tr>\n",
       "    <tr>\n",
       "      <th>6</th>\n",
       "      <td>Q044</td>\n",
       "      <td>Percent of adults who achieve at least 150 minutes a week of moderate-intensity aerobic physical activity or 75 minutes a week of vigorous-intensity aerobic physical activity and engage in muscle-strengthening activities on 2 or more days a week</td>\n",
       "    </tr>\n",
       "    <tr>\n",
       "      <th>7</th>\n",
       "      <td>Q045</td>\n",
       "      <td>Percent of adults who achieve at least 300 minutes a week of moderate-intensity aerobic physical activity or 150 minutes a week of vigorous-intensity aerobic activity (or an equivalent combination)</td>\n",
       "    </tr>\n",
       "    <tr>\n",
       "      <th>8</th>\n",
       "      <td>Q047</td>\n",
       "      <td>Percent of adults who engage in no leisure-time physical activity</td>\n",
       "    </tr>\n",
       "  </tbody>\n",
       "</table>\n",
       "</div>"
      ],
      "text/plain": [
       "  QuestionID  \\\n",
       "0       Q036   \n",
       "1       Q037   \n",
       "2       Q018   \n",
       "3       Q019   \n",
       "4       Q046   \n",
       "5       Q043   \n",
       "6       Q044   \n",
       "7       Q045   \n",
       "8       Q047   \n",
       "\n",
       "                                                                                                                                                                                                                                                Question  \n",
       "0                                                                                                                                                                                             Percent of adults aged 18 years and older who have obesity  \n",
       "1                                                                                                                                                                        Percent of adults aged 18 years and older who have an overweight classification  \n",
       "2                                                                                                                                                                                  Percent of adults who report consuming fruit less than one time daily  \n",
       "3                                                                                                                                                                             Percent of adults who report consuming vegetables less than one time daily  \n",
       "4                                                                                                                                                               Percent of adults who engage in muscle-strengthening activities on 2 or more days a week  \n",
       "5                                                   Percent of adults who achieve at least 150 minutes a week of moderate-intensity aerobic physical activity or 75 minutes a week of vigorous-intensity aerobic activity (or an equivalent combination)  \n",
       "6  Percent of adults who achieve at least 150 minutes a week of moderate-intensity aerobic physical activity or 75 minutes a week of vigorous-intensity aerobic physical activity and engage in muscle-strengthening activities on 2 or more days a week  \n",
       "7                                                  Percent of adults who achieve at least 300 minutes a week of moderate-intensity aerobic physical activity or 150 minutes a week of vigorous-intensity aerobic activity (or an equivalent combination)  \n",
       "8                                                                                                                                                                                      Percent of adults who engage in no leisure-time physical activity  "
      ]
     },
     "execution_count": 18,
     "metadata": {},
     "output_type": "execute_result"
    }
   ],
   "source": [
    "questions_df"
   ]
  },
  {
   "cell_type": "markdown",
   "metadata": {},
   "source": [
    "##### Problem Definition"
   ]
  },
  {
   "cell_type": "markdown",
   "metadata": {},
   "source": [
    "The dataset has a semi-dataset that represents topics"
   ]
  },
  {
   "cell_type": "markdown",
   "metadata": {},
   "source": [
    "##### Resolution plan"
   ]
  },
  {
   "cell_type": "markdown",
   "metadata": {},
   "source": [
    "Create a dataset that contains only information about topics"
   ]
  },
  {
   "cell_type": "markdown",
   "metadata": {},
   "source": [
    "##### Implementation and Testing"
   ]
  },
  {
   "cell_type": "code",
   "execution_count": 19,
   "metadata": {},
   "outputs": [
    {
     "data": {
      "text/html": [
       "<div>\n",
       "<style scoped>\n",
       "    .dataframe tbody tr th:only-of-type {\n",
       "        vertical-align: middle;\n",
       "    }\n",
       "\n",
       "    .dataframe tbody tr th {\n",
       "        vertical-align: top;\n",
       "    }\n",
       "\n",
       "    .dataframe thead th {\n",
       "        text-align: right;\n",
       "    }\n",
       "</style>\n",
       "<table border=\"1\" class=\"dataframe\">\n",
       "  <thead>\n",
       "    <tr style=\"text-align: right;\">\n",
       "      <th></th>\n",
       "      <th>TopicID</th>\n",
       "      <th>Topic</th>\n",
       "    </tr>\n",
       "  </thead>\n",
       "  <tbody>\n",
       "    <tr>\n",
       "      <th>0</th>\n",
       "      <td>OWS1</td>\n",
       "      <td>Obesity / Weight Status</td>\n",
       "    </tr>\n",
       "    <tr>\n",
       "      <th>1</th>\n",
       "      <td>FV1</td>\n",
       "      <td>Fruits and Vegetables - Behavior</td>\n",
       "    </tr>\n",
       "    <tr>\n",
       "      <th>2</th>\n",
       "      <td>PA1</td>\n",
       "      <td>Physical Activity - Behavior</td>\n",
       "    </tr>\n",
       "  </tbody>\n",
       "</table>\n",
       "</div>"
      ],
      "text/plain": [
       "  TopicID                             Topic\n",
       "0    OWS1           Obesity / Weight Status\n",
       "1     FV1  Fruits and Vegetables - Behavior\n",
       "2     PA1      Physical Activity - Behavior"
      ]
     },
     "execution_count": 19,
     "metadata": {},
     "output_type": "execute_result"
    }
   ],
   "source": [
    "topics_df = df[['TopicID', 'Topic']].drop_duplicates()\n",
    "topics_df.reset_index(drop=True, inplace=True)\n",
    "topics_df.head()"
   ]
  },
  {
   "cell_type": "code",
   "execution_count": 20,
   "metadata": {},
   "outputs": [
    {
     "data": {
      "text/plain": [
       "(3, 2)"
      ]
     },
     "execution_count": 20,
     "metadata": {},
     "output_type": "execute_result"
    }
   ],
   "source": [
    "topics_df.shape"
   ]
  },
  {
   "cell_type": "markdown",
   "metadata": {},
   "source": [
    "> Now topics have their own table, and can be referenced using the ID - which can remain in the main table as a foreign key"
   ]
  },
  {
   "cell_type": "markdown",
   "metadata": {},
   "source": [
    "##### Problem Definition"
   ]
  },
  {
   "cell_type": "markdown",
   "metadata": {},
   "source": [
    "The dataset has a semi-dataset that represents classes"
   ]
  },
  {
   "cell_type": "markdown",
   "metadata": {},
   "source": [
    "##### Resolution Plan"
   ]
  },
  {
   "cell_type": "markdown",
   "metadata": {},
   "source": [
    "Create a dataset that contains only information about classes"
   ]
  },
  {
   "cell_type": "markdown",
   "metadata": {},
   "source": [
    "##### Implementation and Testing"
   ]
  },
  {
   "cell_type": "code",
   "execution_count": 21,
   "metadata": {},
   "outputs": [
    {
     "data": {
      "text/html": [
       "<div>\n",
       "<style scoped>\n",
       "    .dataframe tbody tr th:only-of-type {\n",
       "        vertical-align: middle;\n",
       "    }\n",
       "\n",
       "    .dataframe tbody tr th {\n",
       "        vertical-align: top;\n",
       "    }\n",
       "\n",
       "    .dataframe thead th {\n",
       "        text-align: right;\n",
       "    }\n",
       "</style>\n",
       "<table border=\"1\" class=\"dataframe\">\n",
       "  <thead>\n",
       "    <tr style=\"text-align: right;\">\n",
       "      <th></th>\n",
       "      <th>ClassID</th>\n",
       "      <th>Class</th>\n",
       "    </tr>\n",
       "  </thead>\n",
       "  <tbody>\n",
       "    <tr>\n",
       "      <th>0</th>\n",
       "      <td>OWS</td>\n",
       "      <td>Obesity / Weight Status</td>\n",
       "    </tr>\n",
       "    <tr>\n",
       "      <th>1</th>\n",
       "      <td>FV</td>\n",
       "      <td>Fruits and Vegetables</td>\n",
       "    </tr>\n",
       "    <tr>\n",
       "      <th>2</th>\n",
       "      <td>PA</td>\n",
       "      <td>Physical Activity</td>\n",
       "    </tr>\n",
       "  </tbody>\n",
       "</table>\n",
       "</div>"
      ],
      "text/plain": [
       "  ClassID                    Class\n",
       "0     OWS  Obesity / Weight Status\n",
       "1      FV    Fruits and Vegetables\n",
       "2      PA        Physical Activity"
      ]
     },
     "execution_count": 21,
     "metadata": {},
     "output_type": "execute_result"
    }
   ],
   "source": [
    "classes_df = df[['ClassID', 'Class']].drop_duplicates()\n",
    "classes_df.reset_index(drop=True, inplace=True)\n",
    "classes_df.head()"
   ]
  },
  {
   "cell_type": "code",
   "execution_count": 22,
   "metadata": {},
   "outputs": [
    {
     "data": {
      "text/plain": [
       "(3, 2)"
      ]
     },
     "execution_count": 22,
     "metadata": {},
     "output_type": "execute_result"
    }
   ],
   "source": [
    "classes_df.shape"
   ]
  },
  {
   "cell_type": "markdown",
   "metadata": {},
   "source": [
    "> It is becoming clear that classes and topics could be very related.\n",
    ">\n",
    "> This means that our initial dataset had 4 columns(Class, ClassID, Topic and TopicID) representing the same dimension."
   ]
  },
  {
   "cell_type": "markdown",
   "metadata": {},
   "source": [
    "##### Problem Definition"
   ]
  },
  {
   "cell_type": "markdown",
   "metadata": {},
   "source": [
    "The dataset has a semi-dataset that represents locations"
   ]
  },
  {
   "cell_type": "markdown",
   "metadata": {},
   "source": [
    "##### Resolution Plan"
   ]
  },
  {
   "cell_type": "markdown",
   "metadata": {},
   "source": [
    "Create a dataset that contains only information about location"
   ]
  },
  {
   "cell_type": "markdown",
   "metadata": {},
   "source": [
    "##### Implementation and Testing"
   ]
  },
  {
   "cell_type": "code",
   "execution_count": 23,
   "metadata": {},
   "outputs": [
    {
     "data": {
      "text/html": [
       "<div>\n",
       "<style scoped>\n",
       "    .dataframe tbody tr th:only-of-type {\n",
       "        vertical-align: middle;\n",
       "    }\n",
       "\n",
       "    .dataframe tbody tr th {\n",
       "        vertical-align: top;\n",
       "    }\n",
       "\n",
       "    .dataframe thead th {\n",
       "        text-align: right;\n",
       "    }\n",
       "</style>\n",
       "<table border=\"1\" class=\"dataframe\">\n",
       "  <thead>\n",
       "    <tr style=\"text-align: right;\">\n",
       "      <th></th>\n",
       "      <th>LocationID</th>\n",
       "      <th>LocationAbbr</th>\n",
       "      <th>GeoLocation</th>\n",
       "      <th>LocationDesc</th>\n",
       "    </tr>\n",
       "  </thead>\n",
       "  <tbody>\n",
       "    <tr>\n",
       "      <th>0</th>\n",
       "      <td>1</td>\n",
       "      <td>AL</td>\n",
       "      <td>(32.84057112200048, -86.63186076199969)</td>\n",
       "      <td>Alabama</td>\n",
       "    </tr>\n",
       "    <tr>\n",
       "      <th>1</th>\n",
       "      <td>59</td>\n",
       "      <td>US</td>\n",
       "      <td>NaN</td>\n",
       "      <td>National</td>\n",
       "    </tr>\n",
       "    <tr>\n",
       "      <th>2</th>\n",
       "      <td>2</td>\n",
       "      <td>AK</td>\n",
       "      <td>(64.84507995700051, -147.72205903599973)</td>\n",
       "      <td>Alaska</td>\n",
       "    </tr>\n",
       "    <tr>\n",
       "      <th>3</th>\n",
       "      <td>4</td>\n",
       "      <td>AZ</td>\n",
       "      <td>(34.865970280000454, -111.76381127699972)</td>\n",
       "      <td>Arizona</td>\n",
       "    </tr>\n",
       "    <tr>\n",
       "      <th>4</th>\n",
       "      <td>5</td>\n",
       "      <td>AR</td>\n",
       "      <td>(34.74865012400045, -92.27449074299966)</td>\n",
       "      <td>Arkansas</td>\n",
       "    </tr>\n",
       "  </tbody>\n",
       "</table>\n",
       "</div>"
      ],
      "text/plain": [
       "   LocationID LocationAbbr                                GeoLocation  \\\n",
       "0           1           AL    (32.84057112200048, -86.63186076199969)   \n",
       "1          59           US                                        NaN   \n",
       "2           2           AK   (64.84507995700051, -147.72205903599973)   \n",
       "3           4           AZ  (34.865970280000454, -111.76381127699972)   \n",
       "4           5           AR    (34.74865012400045, -92.27449074299966)   \n",
       "\n",
       "  LocationDesc  \n",
       "0      Alabama  \n",
       "1     National  \n",
       "2       Alaska  \n",
       "3      Arizona  \n",
       "4     Arkansas  "
      ]
     },
     "execution_count": 23,
     "metadata": {},
     "output_type": "execute_result"
    }
   ],
   "source": [
    "location_df = df[['LocationID', 'LocationAbbr', 'GeoLocation', 'LocationDesc']].drop_duplicates()\n",
    "location_df.reset_index(drop=True, inplace=True)\n",
    "location_df.head()"
   ]
  },
  {
   "cell_type": "code",
   "execution_count": 24,
   "metadata": {},
   "outputs": [
    {
     "data": {
      "text/plain": [
       "(55, 4)"
      ]
     },
     "execution_count": 24,
     "metadata": {},
     "output_type": "execute_result"
    }
   ],
   "source": [
    "location_df.shape"
   ]
  },
  {
   "cell_type": "markdown",
   "metadata": {},
   "source": [
    "> The data containing information about different locations is now in its own dataframe. Redundant columns can now be dropped from the main dataframe"
   ]
  },
  {
   "cell_type": "markdown",
   "metadata": {},
   "source": [
    "##### Problem Definition"
   ]
  },
  {
   "cell_type": "markdown",
   "metadata": {},
   "source": [
    "The dataset contains a semi-dataset the represents information on how stratification was done"
   ]
  },
  {
   "cell_type": "markdown",
   "metadata": {},
   "source": [
    "##### Resolution Plan"
   ]
  },
  {
   "cell_type": "markdown",
   "metadata": {},
   "source": [
    "Create a dataset that contains only information about stratification"
   ]
  },
  {
   "cell_type": "markdown",
   "metadata": {},
   "source": [
    "##### Implementation and Testing"
   ]
  },
  {
   "cell_type": "code",
   "execution_count": 25,
   "metadata": {},
   "outputs": [],
   "source": [
    "stratification_df = df[['Stratification1', 'StratificationID1']].drop_duplicates()\n",
    "stratification_df.reset_index(drop=True, inplace=True)\n",
    "\n",
    "categories_df = df[['StratificationCategory1', 'StratificationCategoryId1']].drop_duplicates()\n",
    "categories_df.reset_index(drop=True, inplace=True)"
   ]
  },
  {
   "cell_type": "code",
   "execution_count": 26,
   "metadata": {},
   "outputs": [
    {
     "data": {
      "text/html": [
       "<div>\n",
       "<style scoped>\n",
       "    .dataframe tbody tr th:only-of-type {\n",
       "        vertical-align: middle;\n",
       "    }\n",
       "\n",
       "    .dataframe tbody tr th {\n",
       "        vertical-align: top;\n",
       "    }\n",
       "\n",
       "    .dataframe thead th {\n",
       "        text-align: right;\n",
       "    }\n",
       "</style>\n",
       "<table border=\"1\" class=\"dataframe\">\n",
       "  <thead>\n",
       "    <tr style=\"text-align: right;\">\n",
       "      <th></th>\n",
       "      <th>Stratification1</th>\n",
       "      <th>StratificationID1</th>\n",
       "    </tr>\n",
       "  </thead>\n",
       "  <tbody>\n",
       "    <tr>\n",
       "      <th>0</th>\n",
       "      <td>Total</td>\n",
       "      <td>OVERALL</td>\n",
       "    </tr>\n",
       "    <tr>\n",
       "      <th>1</th>\n",
       "      <td>Male</td>\n",
       "      <td>MALE</td>\n",
       "    </tr>\n",
       "    <tr>\n",
       "      <th>2</th>\n",
       "      <td>Female</td>\n",
       "      <td>FEMALE</td>\n",
       "    </tr>\n",
       "    <tr>\n",
       "      <th>3</th>\n",
       "      <td>Less than high school</td>\n",
       "      <td>EDUHS</td>\n",
       "    </tr>\n",
       "    <tr>\n",
       "      <th>4</th>\n",
       "      <td>High school graduate</td>\n",
       "      <td>EDUHSGRAD</td>\n",
       "    </tr>\n",
       "  </tbody>\n",
       "</table>\n",
       "</div>"
      ],
      "text/plain": [
       "         Stratification1 StratificationID1\n",
       "0                  Total           OVERALL\n",
       "1                   Male              MALE\n",
       "2                 Female            FEMALE\n",
       "3  Less than high school             EDUHS\n",
       "4   High school graduate         EDUHSGRAD"
      ]
     },
     "execution_count": 26,
     "metadata": {},
     "output_type": "execute_result"
    }
   ],
   "source": [
    "stratification_df.head()"
   ]
  },
  {
   "cell_type": "code",
   "execution_count": 27,
   "metadata": {},
   "outputs": [
    {
     "data": {
      "text/html": [
       "<div>\n",
       "<style scoped>\n",
       "    .dataframe tbody tr th:only-of-type {\n",
       "        vertical-align: middle;\n",
       "    }\n",
       "\n",
       "    .dataframe tbody tr th {\n",
       "        vertical-align: top;\n",
       "    }\n",
       "\n",
       "    .dataframe thead th {\n",
       "        text-align: right;\n",
       "    }\n",
       "</style>\n",
       "<table border=\"1\" class=\"dataframe\">\n",
       "  <thead>\n",
       "    <tr style=\"text-align: right;\">\n",
       "      <th></th>\n",
       "      <th>StratificationCategory1</th>\n",
       "      <th>StratificationCategoryId1</th>\n",
       "    </tr>\n",
       "  </thead>\n",
       "  <tbody>\n",
       "    <tr>\n",
       "      <th>0</th>\n",
       "      <td>Total</td>\n",
       "      <td>OVR</td>\n",
       "    </tr>\n",
       "    <tr>\n",
       "      <th>1</th>\n",
       "      <td>Gender</td>\n",
       "      <td>GEN</td>\n",
       "    </tr>\n",
       "    <tr>\n",
       "      <th>2</th>\n",
       "      <td>Education</td>\n",
       "      <td>EDU</td>\n",
       "    </tr>\n",
       "    <tr>\n",
       "      <th>3</th>\n",
       "      <td>Age (years)</td>\n",
       "      <td>AGEYR</td>\n",
       "    </tr>\n",
       "    <tr>\n",
       "      <th>4</th>\n",
       "      <td>Income</td>\n",
       "      <td>INC</td>\n",
       "    </tr>\n",
       "  </tbody>\n",
       "</table>\n",
       "</div>"
      ],
      "text/plain": [
       "  StratificationCategory1 StratificationCategoryId1\n",
       "0                   Total                       OVR\n",
       "1                  Gender                       GEN\n",
       "2               Education                       EDU\n",
       "3             Age (years)                     AGEYR\n",
       "4                  Income                       INC"
      ]
     },
     "execution_count": 27,
     "metadata": {},
     "output_type": "execute_result"
    }
   ],
   "source": [
    "categories_df.head()"
   ]
  },
  {
   "cell_type": "code",
   "execution_count": 28,
   "metadata": {},
   "outputs": [
    {
     "data": {
      "text/plain": [
       "(28, 2)"
      ]
     },
     "execution_count": 28,
     "metadata": {},
     "output_type": "execute_result"
    }
   ],
   "source": [
    "stratification_df.shape"
   ]
  },
  {
   "cell_type": "code",
   "execution_count": 29,
   "metadata": {},
   "outputs": [
    {
     "data": {
      "text/plain": [
       "(6, 2)"
      ]
     },
     "execution_count": 29,
     "metadata": {},
     "output_type": "execute_result"
    }
   ],
   "source": [
    "categories_df.shape"
   ]
  },
  {
   "cell_type": "code",
   "execution_count": 30,
   "metadata": {},
   "outputs": [
    {
     "data": {
      "text/html": [
       "<div>\n",
       "<style scoped>\n",
       "    .dataframe tbody tr th:only-of-type {\n",
       "        vertical-align: middle;\n",
       "    }\n",
       "\n",
       "    .dataframe tbody tr th {\n",
       "        vertical-align: top;\n",
       "    }\n",
       "\n",
       "    .dataframe thead th {\n",
       "        text-align: right;\n",
       "    }\n",
       "</style>\n",
       "<table border=\"1\" class=\"dataframe\">\n",
       "  <thead>\n",
       "    <tr style=\"text-align: right;\">\n",
       "      <th></th>\n",
       "      <th>StratificationCategory1</th>\n",
       "      <th>StratificationCategoryId1</th>\n",
       "    </tr>\n",
       "  </thead>\n",
       "  <tbody>\n",
       "    <tr>\n",
       "      <th>0</th>\n",
       "      <td>Total</td>\n",
       "      <td>OVR</td>\n",
       "    </tr>\n",
       "    <tr>\n",
       "      <th>1</th>\n",
       "      <td>Gender</td>\n",
       "      <td>GEN</td>\n",
       "    </tr>\n",
       "    <tr>\n",
       "      <th>2</th>\n",
       "      <td>Education</td>\n",
       "      <td>EDU</td>\n",
       "    </tr>\n",
       "    <tr>\n",
       "      <th>3</th>\n",
       "      <td>Age (years)</td>\n",
       "      <td>AGEYR</td>\n",
       "    </tr>\n",
       "    <tr>\n",
       "      <th>4</th>\n",
       "      <td>Income</td>\n",
       "      <td>INC</td>\n",
       "    </tr>\n",
       "    <tr>\n",
       "      <th>5</th>\n",
       "      <td>Race/Ethnicity</td>\n",
       "      <td>RACE</td>\n",
       "    </tr>\n",
       "  </tbody>\n",
       "</table>\n",
       "</div>"
      ],
      "text/plain": [
       "  StratificationCategory1 StratificationCategoryId1\n",
       "0                   Total                       OVR\n",
       "1                  Gender                       GEN\n",
       "2               Education                       EDU\n",
       "3             Age (years)                     AGEYR\n",
       "4                  Income                       INC\n",
       "5          Race/Ethnicity                      RACE"
      ]
     },
     "execution_count": 30,
     "metadata": {},
     "output_type": "execute_result"
    }
   ],
   "source": [
    "categories_df"
   ]
  },
  {
   "cell_type": "markdown",
   "metadata": {},
   "source": [
    "> The data containing information about categories is now in their own dataframes. Redundant columns can now be dropped from the main dataframe"
   ]
  },
  {
   "cell_type": "markdown",
   "metadata": {},
   "source": [
    "##### Problem Definition"
   ]
  },
  {
   "cell_type": "markdown",
   "metadata": {},
   "source": [
    "Some columns in the dataset have less than 2 unique values"
   ]
  },
  {
   "cell_type": "markdown",
   "metadata": {},
   "source": [
    "##### Resolution Plan"
   ]
  },
  {
   "cell_type": "markdown",
   "metadata": {},
   "source": [
    "Exclude from the dataset columns which have at most 1 unique value"
   ]
  },
  {
   "cell_type": "markdown",
   "metadata": {},
   "source": [
    "##### Implementation and Testing"
   ]
  },
  {
   "cell_type": "code",
   "execution_count": 31,
   "metadata": {},
   "outputs": [
    {
     "data": {
      "text/html": [
       "<div>\n",
       "<style scoped>\n",
       "    .dataframe tbody tr th:only-of-type {\n",
       "        vertical-align: middle;\n",
       "    }\n",
       "\n",
       "    .dataframe tbody tr th {\n",
       "        vertical-align: top;\n",
       "    }\n",
       "\n",
       "    .dataframe thead th {\n",
       "        text-align: right;\n",
       "    }\n",
       "</style>\n",
       "<table border=\"1\" class=\"dataframe\">\n",
       "  <thead>\n",
       "    <tr style=\"text-align: right;\">\n",
       "      <th></th>\n",
       "      <th>YearStart</th>\n",
       "      <th>YearEnd</th>\n",
       "      <th>LocationAbbr</th>\n",
       "      <th>LocationDesc</th>\n",
       "      <th>Class</th>\n",
       "      <th>Topic</th>\n",
       "      <th>Question</th>\n",
       "      <th>Data_Value</th>\n",
       "      <th>Data_Value_Alt</th>\n",
       "      <th>Data_Value_Footnote</th>\n",
       "      <th>Low_Confidence_Limit</th>\n",
       "      <th>High_Confidence_Limit</th>\n",
       "      <th>Sample_Size</th>\n",
       "      <th>Age(years)</th>\n",
       "      <th>Education</th>\n",
       "      <th>Gender</th>\n",
       "      <th>Income</th>\n",
       "      <th>Race/Ethnicity</th>\n",
       "      <th>GeoLocation</th>\n",
       "      <th>ClassID</th>\n",
       "      <th>TopicID</th>\n",
       "      <th>QuestionID</th>\n",
       "      <th>LocationID</th>\n",
       "      <th>StratificationCategory1</th>\n",
       "      <th>Stratification1</th>\n",
       "      <th>StratificationCategoryId1</th>\n",
       "      <th>StratificationID1</th>\n",
       "    </tr>\n",
       "  </thead>\n",
       "  <tbody>\n",
       "    <tr>\n",
       "      <th>21519</th>\n",
       "      <td>2014</td>\n",
       "      <td>2014</td>\n",
       "      <td>NJ</td>\n",
       "      <td>New Jersey</td>\n",
       "      <td>Obesity / Weight Status</td>\n",
       "      <td>Obesity / Weight Status</td>\n",
       "      <td>Percent of adults aged 18 years and older who have obesity</td>\n",
       "      <td>32.6</td>\n",
       "      <td>32.6</td>\n",
       "      <td>NaN</td>\n",
       "      <td>29.8</td>\n",
       "      <td>35.5</td>\n",
       "      <td>2742.0</td>\n",
       "      <td>55 - 64</td>\n",
       "      <td>NaN</td>\n",
       "      <td>NaN</td>\n",
       "      <td>NaN</td>\n",
       "      <td>NaN</td>\n",
       "      <td>(40.13057004800049, -74.27369128799967)</td>\n",
       "      <td>OWS</td>\n",
       "      <td>OWS1</td>\n",
       "      <td>Q036</td>\n",
       "      <td>34</td>\n",
       "      <td>Age (years)</td>\n",
       "      <td>55 - 64</td>\n",
       "      <td>AGEYR</td>\n",
       "      <td>AGEYR5564</td>\n",
       "    </tr>\n",
       "    <tr>\n",
       "      <th>39486</th>\n",
       "      <td>2015</td>\n",
       "      <td>2015</td>\n",
       "      <td>FL</td>\n",
       "      <td>Florida</td>\n",
       "      <td>Physical Activity</td>\n",
       "      <td>Physical Activity - Behavior</td>\n",
       "      <td>Percent of adults who achieve at least 150 minutes a week of moderate-intensity aerobic physical activity or 75 minutes a week of vigorous-intensity aerobic activity (or an equivalent combination)</td>\n",
       "      <td>60.4</td>\n",
       "      <td>60.4</td>\n",
       "      <td>NaN</td>\n",
       "      <td>57.4</td>\n",
       "      <td>63.3</td>\n",
       "      <td>2131.0</td>\n",
       "      <td>NaN</td>\n",
       "      <td>NaN</td>\n",
       "      <td>NaN</td>\n",
       "      <td>$75,000 or greater</td>\n",
       "      <td>NaN</td>\n",
       "      <td>(28.932040377000476, -81.92896053899966)</td>\n",
       "      <td>PA</td>\n",
       "      <td>PA1</td>\n",
       "      <td>Q043</td>\n",
       "      <td>12</td>\n",
       "      <td>Income</td>\n",
       "      <td>$75,000 or greater</td>\n",
       "      <td>INC</td>\n",
       "      <td>INC75PLUS</td>\n",
       "    </tr>\n",
       "    <tr>\n",
       "      <th>1496</th>\n",
       "      <td>2011</td>\n",
       "      <td>2011</td>\n",
       "      <td>AZ</td>\n",
       "      <td>Arizona</td>\n",
       "      <td>Physical Activity</td>\n",
       "      <td>Physical Activity - Behavior</td>\n",
       "      <td>Percent of adults who achieve at least 150 minutes a week of moderate-intensity aerobic physical activity or 75 minutes a week of vigorous-intensity aerobic physical activity and engage in muscle-strengthening activities on 2 or more days a week</td>\n",
       "      <td>28.5</td>\n",
       "      <td>28.5</td>\n",
       "      <td>NaN</td>\n",
       "      <td>25.3</td>\n",
       "      <td>32.0</td>\n",
       "      <td>2337.0</td>\n",
       "      <td>NaN</td>\n",
       "      <td>NaN</td>\n",
       "      <td>Male</td>\n",
       "      <td>NaN</td>\n",
       "      <td>NaN</td>\n",
       "      <td>(34.865970280000454, -111.76381127699972)</td>\n",
       "      <td>PA</td>\n",
       "      <td>PA1</td>\n",
       "      <td>Q044</td>\n",
       "      <td>4</td>\n",
       "      <td>Gender</td>\n",
       "      <td>Male</td>\n",
       "      <td>GEN</td>\n",
       "      <td>MALE</td>\n",
       "    </tr>\n",
       "    <tr>\n",
       "      <th>15175</th>\n",
       "      <td>2012</td>\n",
       "      <td>2012</td>\n",
       "      <td>MI</td>\n",
       "      <td>Michigan</td>\n",
       "      <td>Obesity / Weight Status</td>\n",
       "      <td>Obesity / Weight Status</td>\n",
       "      <td>Percent of adults aged 18 years and older who have an overweight classification</td>\n",
       "      <td>37.8</td>\n",
       "      <td>37.8</td>\n",
       "      <td>NaN</td>\n",
       "      <td>35.3</td>\n",
       "      <td>40.3</td>\n",
       "      <td>2186.0</td>\n",
       "      <td>NaN</td>\n",
       "      <td>NaN</td>\n",
       "      <td>NaN</td>\n",
       "      <td>$75,000 or greater</td>\n",
       "      <td>NaN</td>\n",
       "      <td>(44.6613195430005, -84.71439026999968)</td>\n",
       "      <td>OWS</td>\n",
       "      <td>OWS1</td>\n",
       "      <td>Q037</td>\n",
       "      <td>26</td>\n",
       "      <td>Income</td>\n",
       "      <td>$75,000 or greater</td>\n",
       "      <td>INC</td>\n",
       "      <td>INC75PLUS</td>\n",
       "    </tr>\n",
       "  </tbody>\n",
       "</table>\n",
       "</div>"
      ],
      "text/plain": [
       "       YearStart  YearEnd LocationAbbr LocationDesc                    Class  \\\n",
       "21519       2014     2014           NJ   New Jersey  Obesity / Weight Status   \n",
       "39486       2015     2015           FL      Florida        Physical Activity   \n",
       "1496        2011     2011           AZ      Arizona        Physical Activity   \n",
       "15175       2012     2012           MI     Michigan  Obesity / Weight Status   \n",
       "\n",
       "                              Topic  \\\n",
       "21519       Obesity / Weight Status   \n",
       "39486  Physical Activity - Behavior   \n",
       "1496   Physical Activity - Behavior   \n",
       "15175       Obesity / Weight Status   \n",
       "\n",
       "                                                                                                                                                                                                                                                    Question  \\\n",
       "21519                                                                                                                                                                                             Percent of adults aged 18 years and older who have obesity   \n",
       "39486                                                   Percent of adults who achieve at least 150 minutes a week of moderate-intensity aerobic physical activity or 75 minutes a week of vigorous-intensity aerobic activity (or an equivalent combination)   \n",
       "1496   Percent of adults who achieve at least 150 minutes a week of moderate-intensity aerobic physical activity or 75 minutes a week of vigorous-intensity aerobic physical activity and engage in muscle-strengthening activities on 2 or more days a week   \n",
       "15175                                                                                                                                                                        Percent of adults aged 18 years and older who have an overweight classification   \n",
       "\n",
       "       Data_Value  Data_Value_Alt Data_Value_Footnote  Low_Confidence_Limit  \\\n",
       "21519        32.6            32.6                 NaN                  29.8   \n",
       "39486        60.4            60.4                 NaN                  57.4   \n",
       "1496         28.5            28.5                 NaN                  25.3   \n",
       "15175        37.8            37.8                 NaN                  35.3   \n",
       "\n",
       "       High_Confidence_Limit   Sample_Size Age(years) Education Gender  \\\n",
       "21519                    35.5       2742.0    55 - 64       NaN    NaN   \n",
       "39486                    63.3       2131.0        NaN       NaN    NaN   \n",
       "1496                     32.0       2337.0        NaN       NaN   Male   \n",
       "15175                    40.3       2186.0        NaN       NaN    NaN   \n",
       "\n",
       "                   Income Race/Ethnicity  \\\n",
       "21519                 NaN            NaN   \n",
       "39486  $75,000 or greater            NaN   \n",
       "1496                  NaN            NaN   \n",
       "15175  $75,000 or greater            NaN   \n",
       "\n",
       "                                     GeoLocation ClassID TopicID QuestionID  \\\n",
       "21519    (40.13057004800049, -74.27369128799967)     OWS    OWS1       Q036   \n",
       "39486   (28.932040377000476, -81.92896053899966)      PA     PA1       Q043   \n",
       "1496   (34.865970280000454, -111.76381127699972)      PA     PA1       Q044   \n",
       "15175     (44.6613195430005, -84.71439026999968)     OWS    OWS1       Q037   \n",
       "\n",
       "       LocationID StratificationCategory1     Stratification1  \\\n",
       "21519          34             Age (years)             55 - 64   \n",
       "39486          12                  Income  $75,000 or greater   \n",
       "1496            4                  Gender                Male   \n",
       "15175          26                  Income  $75,000 or greater   \n",
       "\n",
       "      StratificationCategoryId1 StratificationID1  \n",
       "21519                     AGEYR         AGEYR5564  \n",
       "39486                       INC         INC75PLUS  \n",
       "1496                        GEN              MALE  \n",
       "15175                       INC         INC75PLUS  "
      ]
     },
     "execution_count": 31,
     "metadata": {},
     "output_type": "execute_result"
    }
   ],
   "source": [
    "df_clean = df.drop(['Datasource', 'Data_Value_Unit', 'Data_Value_Type', 'Data_Value_Footnote_Symbol', 'Total', 'DataValueTypeID'], axis=1)\n",
    "df_clean.sample(4)"
   ]
  },
  {
   "cell_type": "code",
   "execution_count": 32,
   "metadata": {},
   "outputs": [
    {
     "data": {
      "text/plain": [
       "(53392, 27)"
      ]
     },
     "execution_count": 32,
     "metadata": {},
     "output_type": "execute_result"
    }
   ],
   "source": [
    "df_clean.shape"
   ]
  },
  {
   "cell_type": "code",
   "execution_count": 33,
   "metadata": {},
   "outputs": [
    {
     "name": "stdout",
     "output_type": "stream",
     "text": [
      "YearStart has 6 unique values\n",
      "YearEnd has 6 unique values\n",
      "LocationAbbr has 55 unique values\n",
      "LocationDesc has 55 unique values\n",
      "Class has 3 unique values\n",
      "Topic has 3 unique values\n",
      "Question has 9 unique values\n",
      "Data_Value has 669 unique values\n",
      "Data_Value_Alt has 669 unique values\n",
      "Data_Value_Footnote has 2 unique values\n",
      "Low_Confidence_Limit has 654 unique values\n",
      "High_Confidence_Limit  has 723 unique values\n",
      "Sample_Size has 8123 unique values\n",
      "Age(years) has 6 unique values\n",
      "Education has 4 unique values\n",
      "Gender has 2 unique values\n",
      "Income has 7 unique values\n",
      "Race/Ethnicity has 8 unique values\n",
      "GeoLocation has 54 unique values\n",
      "ClassID has 3 unique values\n",
      "TopicID has 3 unique values\n",
      "QuestionID has 9 unique values\n",
      "LocationID has 55 unique values\n",
      "StratificationCategory1 has 6 unique values\n",
      "Stratification1 has 28 unique values\n",
      "StratificationCategoryId1 has 6 unique values\n",
      "StratificationID1 has 28 unique values\n"
     ]
    }
   ],
   "source": [
    "for col in df_clean.columns:\n",
    "    print(f'{col} has {df_clean[col].nunique()} unique values')"
   ]
  },
  {
   "cell_type": "markdown",
   "metadata": {},
   "source": [
    "> The main dataframe now only contains columns which can be used for some type of grouping, and this can improve the analysis"
   ]
  },
  {
   "cell_type": "markdown",
   "metadata": {},
   "source": [
    "##### Problem Definition"
   ]
  },
  {
   "cell_type": "markdown",
   "metadata": {},
   "source": [
    "The dataset contains information that describes different observations"
   ]
  },
  {
   "cell_type": "markdown",
   "metadata": {},
   "source": [
    "##### Resolution Plan"
   ]
  },
  {
   "cell_type": "markdown",
   "metadata": {},
   "source": [
    "Exclude information that describe location, categories, classes, topics and questions - only leave IDs which can be used for referencing if there is need"
   ]
  },
  {
   "cell_type": "markdown",
   "metadata": {},
   "source": [
    "##### Implementation and Testing"
   ]
  },
  {
   "cell_type": "code",
   "execution_count": 34,
   "metadata": {},
   "outputs": [
    {
     "data": {
      "text/html": [
       "<div>\n",
       "<style scoped>\n",
       "    .dataframe tbody tr th:only-of-type {\n",
       "        vertical-align: middle;\n",
       "    }\n",
       "\n",
       "    .dataframe tbody tr th {\n",
       "        vertical-align: top;\n",
       "    }\n",
       "\n",
       "    .dataframe thead th {\n",
       "        text-align: right;\n",
       "    }\n",
       "</style>\n",
       "<table border=\"1\" class=\"dataframe\">\n",
       "  <thead>\n",
       "    <tr style=\"text-align: right;\">\n",
       "      <th></th>\n",
       "      <th>YearStart</th>\n",
       "      <th>YearEnd</th>\n",
       "      <th>LocationAbbr</th>\n",
       "      <th>Data_Value</th>\n",
       "      <th>Data_Value_Alt</th>\n",
       "      <th>Data_Value_Footnote</th>\n",
       "      <th>Low_Confidence_Limit</th>\n",
       "      <th>High_Confidence_Limit</th>\n",
       "      <th>Sample_Size</th>\n",
       "      <th>Age(years)</th>\n",
       "      <th>Education</th>\n",
       "      <th>Gender</th>\n",
       "      <th>Income</th>\n",
       "      <th>Race/Ethnicity</th>\n",
       "      <th>ClassID</th>\n",
       "      <th>QuestionID</th>\n",
       "      <th>StratificationCategory1</th>\n",
       "      <th>Stratification1</th>\n",
       "    </tr>\n",
       "  </thead>\n",
       "  <tbody>\n",
       "    <tr>\n",
       "      <th>40985</th>\n",
       "      <td>2015</td>\n",
       "      <td>2015</td>\n",
       "      <td>ME</td>\n",
       "      <td>30.7</td>\n",
       "      <td>30.7</td>\n",
       "      <td>NaN</td>\n",
       "      <td>28.6</td>\n",
       "      <td>32.9</td>\n",
       "      <td>3210.0</td>\n",
       "      <td>65 or older</td>\n",
       "      <td>NaN</td>\n",
       "      <td>NaN</td>\n",
       "      <td>NaN</td>\n",
       "      <td>NaN</td>\n",
       "      <td>PA</td>\n",
       "      <td>Q047</td>\n",
       "      <td>Age (years)</td>\n",
       "      <td>65 or older</td>\n",
       "    </tr>\n",
       "    <tr>\n",
       "      <th>12056</th>\n",
       "      <td>2013</td>\n",
       "      <td>2013</td>\n",
       "      <td>KY</td>\n",
       "      <td>36.3</td>\n",
       "      <td>36.3</td>\n",
       "      <td>NaN</td>\n",
       "      <td>32.1</td>\n",
       "      <td>40.6</td>\n",
       "      <td>821.0</td>\n",
       "      <td>25 - 34</td>\n",
       "      <td>NaN</td>\n",
       "      <td>NaN</td>\n",
       "      <td>NaN</td>\n",
       "      <td>NaN</td>\n",
       "      <td>PA</td>\n",
       "      <td>Q046</td>\n",
       "      <td>Age (years)</td>\n",
       "      <td>25 - 34</td>\n",
       "    </tr>\n",
       "    <tr>\n",
       "      <th>180</th>\n",
       "      <td>2011</td>\n",
       "      <td>2011</td>\n",
       "      <td>AL</td>\n",
       "      <td>20.9</td>\n",
       "      <td>20.9</td>\n",
       "      <td>NaN</td>\n",
       "      <td>17.1</td>\n",
       "      <td>25.2</td>\n",
       "      <td>609.0</td>\n",
       "      <td>25 - 34</td>\n",
       "      <td>NaN</td>\n",
       "      <td>NaN</td>\n",
       "      <td>NaN</td>\n",
       "      <td>NaN</td>\n",
       "      <td>PA</td>\n",
       "      <td>Q045</td>\n",
       "      <td>Age (years)</td>\n",
       "      <td>25 - 34</td>\n",
       "    </tr>\n",
       "    <tr>\n",
       "      <th>29262</th>\n",
       "      <td>2011</td>\n",
       "      <td>2011</td>\n",
       "      <td>TN</td>\n",
       "      <td>NaN</td>\n",
       "      <td>NaN</td>\n",
       "      <td>Data not available because sample size is insufficient.</td>\n",
       "      <td>NaN</td>\n",
       "      <td>NaN</td>\n",
       "      <td>NaN</td>\n",
       "      <td>NaN</td>\n",
       "      <td>NaN</td>\n",
       "      <td>NaN</td>\n",
       "      <td>NaN</td>\n",
       "      <td>Hawaiian/Pacific Islander</td>\n",
       "      <td>PA</td>\n",
       "      <td>Q043</td>\n",
       "      <td>Race/Ethnicity</td>\n",
       "      <td>Hawaiian/Pacific Islander</td>\n",
       "    </tr>\n",
       "  </tbody>\n",
       "</table>\n",
       "</div>"
      ],
      "text/plain": [
       "       YearStart  YearEnd LocationAbbr  Data_Value  Data_Value_Alt  \\\n",
       "40985       2015     2015           ME        30.7            30.7   \n",
       "12056       2013     2013           KY        36.3            36.3   \n",
       "180         2011     2011           AL        20.9            20.9   \n",
       "29262       2011     2011           TN         NaN             NaN   \n",
       "\n",
       "                                           Data_Value_Footnote  \\\n",
       "40985                                                      NaN   \n",
       "12056                                                      NaN   \n",
       "180                                                        NaN   \n",
       "29262  Data not available because sample size is insufficient.   \n",
       "\n",
       "       Low_Confidence_Limit  High_Confidence_Limit   Sample_Size   Age(years)  \\\n",
       "40985                  28.6                    32.9       3210.0  65 or older   \n",
       "12056                  32.1                    40.6        821.0      25 - 34   \n",
       "180                    17.1                    25.2        609.0      25 - 34   \n",
       "29262                   NaN                     NaN          NaN          NaN   \n",
       "\n",
       "      Education Gender Income             Race/Ethnicity ClassID QuestionID  \\\n",
       "40985       NaN    NaN    NaN                        NaN      PA       Q047   \n",
       "12056       NaN    NaN    NaN                        NaN      PA       Q046   \n",
       "180         NaN    NaN    NaN                        NaN      PA       Q045   \n",
       "29262       NaN    NaN    NaN  Hawaiian/Pacific Islander      PA       Q043   \n",
       "\n",
       "      StratificationCategory1            Stratification1  \n",
       "40985             Age (years)                65 or older  \n",
       "12056             Age (years)                    25 - 34  \n",
       "180               Age (years)                    25 - 34  \n",
       "29262          Race/Ethnicity  Hawaiian/Pacific Islander  "
      ]
     },
     "execution_count": 34,
     "metadata": {},
     "output_type": "execute_result"
    }
   ],
   "source": [
    "atomic_df = df_clean.drop(['LocationID', 'LocationDesc', 'GeoLocation', 'StratificationID1', 'StratificationCategoryId1', 'Class', 'Topic', 'Question', 'TopicID'], axis=1)\n",
    "atomic_df.sample(4)"
   ]
  },
  {
   "cell_type": "code",
   "execution_count": 35,
   "metadata": {},
   "outputs": [
    {
     "data": {
      "text/plain": [
       "(53392, 18)"
      ]
     },
     "execution_count": 35,
     "metadata": {},
     "output_type": "execute_result"
    }
   ],
   "source": [
    "atomic_df.shape"
   ]
  },
  {
   "cell_type": "markdown",
   "metadata": {},
   "source": [
    "> The atomic dataframe now obeys one of the laws of atomicity - each variable is represented by one column. A direct result of this is the sharp reduction in the dimensions of the dataset"
   ]
  },
  {
   "cell_type": "markdown",
   "metadata": {},
   "source": [
    "##### Problem Definition"
   ]
  },
  {
   "cell_type": "markdown",
   "metadata": {},
   "source": [
    "YearStart has a perfect correlation to YearEnd"
   ]
  },
  {
   "cell_type": "markdown",
   "metadata": {},
   "source": [
    "##### Resolution Plan"
   ]
  },
  {
   "cell_type": "markdown",
   "metadata": {},
   "source": [
    "Drop one of YearStart and YearEnd, then rename the remaining column as simply Year"
   ]
  },
  {
   "cell_type": "markdown",
   "metadata": {},
   "source": [
    "##### Implementation and Testing"
   ]
  },
  {
   "cell_type": "code",
   "execution_count": 36,
   "metadata": {},
   "outputs": [
    {
     "data": {
      "text/html": [
       "<div>\n",
       "<style scoped>\n",
       "    .dataframe tbody tr th:only-of-type {\n",
       "        vertical-align: middle;\n",
       "    }\n",
       "\n",
       "    .dataframe tbody tr th {\n",
       "        vertical-align: top;\n",
       "    }\n",
       "\n",
       "    .dataframe thead th {\n",
       "        text-align: right;\n",
       "    }\n",
       "</style>\n",
       "<table border=\"1\" class=\"dataframe\">\n",
       "  <thead>\n",
       "    <tr style=\"text-align: right;\">\n",
       "      <th></th>\n",
       "      <th>Year</th>\n",
       "      <th>LocationAbbr</th>\n",
       "      <th>Data_Value</th>\n",
       "      <th>Data_Value_Alt</th>\n",
       "      <th>Data_Value_Footnote</th>\n",
       "      <th>Low_Confidence_Limit</th>\n",
       "      <th>High_Confidence_Limit</th>\n",
       "      <th>Sample_Size</th>\n",
       "      <th>Age(years)</th>\n",
       "      <th>Education</th>\n",
       "      <th>Gender</th>\n",
       "      <th>Income</th>\n",
       "      <th>Race/Ethnicity</th>\n",
       "      <th>ClassID</th>\n",
       "      <th>QuestionID</th>\n",
       "      <th>StratificationCategory1</th>\n",
       "      <th>Stratification1</th>\n",
       "    </tr>\n",
       "  </thead>\n",
       "  <tbody>\n",
       "    <tr>\n",
       "      <th>0</th>\n",
       "      <td>2011</td>\n",
       "      <td>AL</td>\n",
       "      <td>32.0</td>\n",
       "      <td>32.0</td>\n",
       "      <td>NaN</td>\n",
       "      <td>30.5</td>\n",
       "      <td>33.5</td>\n",
       "      <td>7304.0</td>\n",
       "      <td>NaN</td>\n",
       "      <td>NaN</td>\n",
       "      <td>NaN</td>\n",
       "      <td>NaN</td>\n",
       "      <td>NaN</td>\n",
       "      <td>OWS</td>\n",
       "      <td>Q036</td>\n",
       "      <td>Total</td>\n",
       "      <td>Total</td>\n",
       "    </tr>\n",
       "    <tr>\n",
       "      <th>1</th>\n",
       "      <td>2011</td>\n",
       "      <td>AL</td>\n",
       "      <td>32.3</td>\n",
       "      <td>32.3</td>\n",
       "      <td>NaN</td>\n",
       "      <td>29.9</td>\n",
       "      <td>34.7</td>\n",
       "      <td>2581.0</td>\n",
       "      <td>NaN</td>\n",
       "      <td>NaN</td>\n",
       "      <td>Male</td>\n",
       "      <td>NaN</td>\n",
       "      <td>NaN</td>\n",
       "      <td>OWS</td>\n",
       "      <td>Q036</td>\n",
       "      <td>Gender</td>\n",
       "      <td>Male</td>\n",
       "    </tr>\n",
       "    <tr>\n",
       "      <th>2</th>\n",
       "      <td>2011</td>\n",
       "      <td>AL</td>\n",
       "      <td>31.8</td>\n",
       "      <td>31.8</td>\n",
       "      <td>NaN</td>\n",
       "      <td>30.0</td>\n",
       "      <td>33.6</td>\n",
       "      <td>4723.0</td>\n",
       "      <td>NaN</td>\n",
       "      <td>NaN</td>\n",
       "      <td>Female</td>\n",
       "      <td>NaN</td>\n",
       "      <td>NaN</td>\n",
       "      <td>OWS</td>\n",
       "      <td>Q036</td>\n",
       "      <td>Gender</td>\n",
       "      <td>Female</td>\n",
       "    </tr>\n",
       "    <tr>\n",
       "      <th>3</th>\n",
       "      <td>2011</td>\n",
       "      <td>AL</td>\n",
       "      <td>33.6</td>\n",
       "      <td>33.6</td>\n",
       "      <td>NaN</td>\n",
       "      <td>29.9</td>\n",
       "      <td>37.6</td>\n",
       "      <td>1153.0</td>\n",
       "      <td>NaN</td>\n",
       "      <td>Less than high school</td>\n",
       "      <td>NaN</td>\n",
       "      <td>NaN</td>\n",
       "      <td>NaN</td>\n",
       "      <td>OWS</td>\n",
       "      <td>Q036</td>\n",
       "      <td>Education</td>\n",
       "      <td>Less than high school</td>\n",
       "    </tr>\n",
       "    <tr>\n",
       "      <th>4</th>\n",
       "      <td>2011</td>\n",
       "      <td>AL</td>\n",
       "      <td>32.8</td>\n",
       "      <td>32.8</td>\n",
       "      <td>NaN</td>\n",
       "      <td>30.2</td>\n",
       "      <td>35.6</td>\n",
       "      <td>2402.0</td>\n",
       "      <td>NaN</td>\n",
       "      <td>High school graduate</td>\n",
       "      <td>NaN</td>\n",
       "      <td>NaN</td>\n",
       "      <td>NaN</td>\n",
       "      <td>OWS</td>\n",
       "      <td>Q036</td>\n",
       "      <td>Education</td>\n",
       "      <td>High school graduate</td>\n",
       "    </tr>\n",
       "  </tbody>\n",
       "</table>\n",
       "</div>"
      ],
      "text/plain": [
       "   Year LocationAbbr  Data_Value  Data_Value_Alt Data_Value_Footnote  \\\n",
       "0  2011           AL        32.0            32.0                 NaN   \n",
       "1  2011           AL        32.3            32.3                 NaN   \n",
       "2  2011           AL        31.8            31.8                 NaN   \n",
       "3  2011           AL        33.6            33.6                 NaN   \n",
       "4  2011           AL        32.8            32.8                 NaN   \n",
       "\n",
       "   Low_Confidence_Limit  High_Confidence_Limit   Sample_Size Age(years)  \\\n",
       "0                  30.5                    33.5       7304.0        NaN   \n",
       "1                  29.9                    34.7       2581.0        NaN   \n",
       "2                  30.0                    33.6       4723.0        NaN   \n",
       "3                  29.9                    37.6       1153.0        NaN   \n",
       "4                  30.2                    35.6       2402.0        NaN   \n",
       "\n",
       "               Education  Gender Income Race/Ethnicity ClassID QuestionID  \\\n",
       "0                    NaN     NaN    NaN            NaN     OWS       Q036   \n",
       "1                    NaN    Male    NaN            NaN     OWS       Q036   \n",
       "2                    NaN  Female    NaN            NaN     OWS       Q036   \n",
       "3  Less than high school     NaN    NaN            NaN     OWS       Q036   \n",
       "4   High school graduate     NaN    NaN            NaN     OWS       Q036   \n",
       "\n",
       "  StratificationCategory1        Stratification1  \n",
       "0                   Total                  Total  \n",
       "1                  Gender                   Male  \n",
       "2                  Gender                 Female  \n",
       "3               Education  Less than high school  \n",
       "4               Education   High school graduate  "
      ]
     },
     "execution_count": 36,
     "metadata": {},
     "output_type": "execute_result"
    }
   ],
   "source": [
    "atomic_df = atomic_df.drop(['YearEnd'], axis=1)\n",
    "atomic_df.rename(columns={'YearStart': 'Year'}, inplace=True)\n",
    "atomic_df.head()"
   ]
  },
  {
   "cell_type": "markdown",
   "metadata": {},
   "source": [
    "> This result has also resulted in the reduction of 1 dimension"
   ]
  },
  {
   "cell_type": "markdown",
   "metadata": {},
   "source": [
    "##### Problem Definition"
   ]
  },
  {
   "cell_type": "markdown",
   "metadata": {},
   "source": [
    "Data_Value has a perfect correlation to Data_Value_Alt"
   ]
  },
  {
   "cell_type": "markdown",
   "metadata": {},
   "source": [
    "##### Resolution Plan"
   ]
  },
  {
   "cell_type": "markdown",
   "metadata": {},
   "source": [
    "Drop one of Data_Value and Data_Value_Alt"
   ]
  },
  {
   "cell_type": "markdown",
   "metadata": {},
   "source": [
    "##### Implementation and Testing"
   ]
  },
  {
   "cell_type": "code",
   "execution_count": 37,
   "metadata": {},
   "outputs": [
    {
     "data": {
      "text/html": [
       "<div>\n",
       "<style scoped>\n",
       "    .dataframe tbody tr th:only-of-type {\n",
       "        vertical-align: middle;\n",
       "    }\n",
       "\n",
       "    .dataframe tbody tr th {\n",
       "        vertical-align: top;\n",
       "    }\n",
       "\n",
       "    .dataframe thead th {\n",
       "        text-align: right;\n",
       "    }\n",
       "</style>\n",
       "<table border=\"1\" class=\"dataframe\">\n",
       "  <thead>\n",
       "    <tr style=\"text-align: right;\">\n",
       "      <th></th>\n",
       "      <th>Year</th>\n",
       "      <th>LocationAbbr</th>\n",
       "      <th>Data_Value</th>\n",
       "      <th>Data_Value_Footnote</th>\n",
       "      <th>Low_Confidence_Limit</th>\n",
       "      <th>High_Confidence_Limit</th>\n",
       "      <th>Sample_Size</th>\n",
       "      <th>Age(years)</th>\n",
       "      <th>Education</th>\n",
       "      <th>Gender</th>\n",
       "      <th>Income</th>\n",
       "      <th>Race/Ethnicity</th>\n",
       "      <th>ClassID</th>\n",
       "      <th>QuestionID</th>\n",
       "      <th>StratificationCategory1</th>\n",
       "      <th>Stratification1</th>\n",
       "    </tr>\n",
       "  </thead>\n",
       "  <tbody>\n",
       "    <tr>\n",
       "      <th>0</th>\n",
       "      <td>2011</td>\n",
       "      <td>AL</td>\n",
       "      <td>32.0</td>\n",
       "      <td>NaN</td>\n",
       "      <td>30.5</td>\n",
       "      <td>33.5</td>\n",
       "      <td>7304.0</td>\n",
       "      <td>NaN</td>\n",
       "      <td>NaN</td>\n",
       "      <td>NaN</td>\n",
       "      <td>NaN</td>\n",
       "      <td>NaN</td>\n",
       "      <td>OWS</td>\n",
       "      <td>Q036</td>\n",
       "      <td>Total</td>\n",
       "      <td>Total</td>\n",
       "    </tr>\n",
       "    <tr>\n",
       "      <th>1</th>\n",
       "      <td>2011</td>\n",
       "      <td>AL</td>\n",
       "      <td>32.3</td>\n",
       "      <td>NaN</td>\n",
       "      <td>29.9</td>\n",
       "      <td>34.7</td>\n",
       "      <td>2581.0</td>\n",
       "      <td>NaN</td>\n",
       "      <td>NaN</td>\n",
       "      <td>Male</td>\n",
       "      <td>NaN</td>\n",
       "      <td>NaN</td>\n",
       "      <td>OWS</td>\n",
       "      <td>Q036</td>\n",
       "      <td>Gender</td>\n",
       "      <td>Male</td>\n",
       "    </tr>\n",
       "    <tr>\n",
       "      <th>2</th>\n",
       "      <td>2011</td>\n",
       "      <td>AL</td>\n",
       "      <td>31.8</td>\n",
       "      <td>NaN</td>\n",
       "      <td>30.0</td>\n",
       "      <td>33.6</td>\n",
       "      <td>4723.0</td>\n",
       "      <td>NaN</td>\n",
       "      <td>NaN</td>\n",
       "      <td>Female</td>\n",
       "      <td>NaN</td>\n",
       "      <td>NaN</td>\n",
       "      <td>OWS</td>\n",
       "      <td>Q036</td>\n",
       "      <td>Gender</td>\n",
       "      <td>Female</td>\n",
       "    </tr>\n",
       "    <tr>\n",
       "      <th>3</th>\n",
       "      <td>2011</td>\n",
       "      <td>AL</td>\n",
       "      <td>33.6</td>\n",
       "      <td>NaN</td>\n",
       "      <td>29.9</td>\n",
       "      <td>37.6</td>\n",
       "      <td>1153.0</td>\n",
       "      <td>NaN</td>\n",
       "      <td>Less than high school</td>\n",
       "      <td>NaN</td>\n",
       "      <td>NaN</td>\n",
       "      <td>NaN</td>\n",
       "      <td>OWS</td>\n",
       "      <td>Q036</td>\n",
       "      <td>Education</td>\n",
       "      <td>Less than high school</td>\n",
       "    </tr>\n",
       "    <tr>\n",
       "      <th>4</th>\n",
       "      <td>2011</td>\n",
       "      <td>AL</td>\n",
       "      <td>32.8</td>\n",
       "      <td>NaN</td>\n",
       "      <td>30.2</td>\n",
       "      <td>35.6</td>\n",
       "      <td>2402.0</td>\n",
       "      <td>NaN</td>\n",
       "      <td>High school graduate</td>\n",
       "      <td>NaN</td>\n",
       "      <td>NaN</td>\n",
       "      <td>NaN</td>\n",
       "      <td>OWS</td>\n",
       "      <td>Q036</td>\n",
       "      <td>Education</td>\n",
       "      <td>High school graduate</td>\n",
       "    </tr>\n",
       "  </tbody>\n",
       "</table>\n",
       "</div>"
      ],
      "text/plain": [
       "   Year LocationAbbr  Data_Value Data_Value_Footnote  Low_Confidence_Limit  \\\n",
       "0  2011           AL        32.0                 NaN                  30.5   \n",
       "1  2011           AL        32.3                 NaN                  29.9   \n",
       "2  2011           AL        31.8                 NaN                  30.0   \n",
       "3  2011           AL        33.6                 NaN                  29.9   \n",
       "4  2011           AL        32.8                 NaN                  30.2   \n",
       "\n",
       "   High_Confidence_Limit   Sample_Size Age(years)              Education  \\\n",
       "0                    33.5       7304.0        NaN                    NaN   \n",
       "1                    34.7       2581.0        NaN                    NaN   \n",
       "2                    33.6       4723.0        NaN                    NaN   \n",
       "3                    37.6       1153.0        NaN  Less than high school   \n",
       "4                    35.6       2402.0        NaN   High school graduate   \n",
       "\n",
       "   Gender Income Race/Ethnicity ClassID QuestionID StratificationCategory1  \\\n",
       "0     NaN    NaN            NaN     OWS       Q036                   Total   \n",
       "1    Male    NaN            NaN     OWS       Q036                  Gender   \n",
       "2  Female    NaN            NaN     OWS       Q036                  Gender   \n",
       "3     NaN    NaN            NaN     OWS       Q036               Education   \n",
       "4     NaN    NaN            NaN     OWS       Q036               Education   \n",
       "\n",
       "         Stratification1  \n",
       "0                  Total  \n",
       "1                   Male  \n",
       "2                 Female  \n",
       "3  Less than high school  \n",
       "4   High school graduate  "
      ]
     },
     "execution_count": 37,
     "metadata": {},
     "output_type": "execute_result"
    }
   ],
   "source": [
    "atomic_df = atomic_df.drop(['Data_Value_Alt'], axis=1)\n",
    "atomic_df.head()"
   ]
  },
  {
   "cell_type": "code",
   "execution_count": 38,
   "metadata": {},
   "outputs": [
    {
     "data": {
      "text/plain": [
       "(53392, 16)"
      ]
     },
     "execution_count": 38,
     "metadata": {},
     "output_type": "execute_result"
    }
   ],
   "source": [
    "atomic_df.shape"
   ]
  },
  {
   "cell_type": "markdown",
   "metadata": {},
   "source": [
    "> 1 unnecessary dimension has also been removed from the data"
   ]
  },
  {
   "cell_type": "code",
   "execution_count": 39,
   "metadata": {},
   "outputs": [
    {
     "data": {
      "text/plain": [
       "Year                           0\n",
       "LocationAbbr                   0\n",
       "ClassID                        0\n",
       "QuestionID                     0\n",
       "StratificationCategory1        0\n",
       "Stratification1                0\n",
       "Data_Value                  5046\n",
       "Low_Confidence_Limit        5046\n",
       "High_Confidence_Limit       5046\n",
       "Sample_Size                 5046\n",
       "Race/Ethnicity             38136\n",
       "Income                     40043\n",
       "Age(years)                 41954\n",
       "Education                  45764\n",
       "Data_Value_Footnote        48346\n",
       "Gender                     49578\n",
       "dtype: int64"
      ]
     },
     "execution_count": 39,
     "metadata": {},
     "output_type": "execute_result"
    }
   ],
   "source": [
    "atomic_df.isnull().sum().sort_values()"
   ]
  },
  {
   "cell_type": "code",
   "execution_count": 40,
   "metadata": {},
   "outputs": [
    {
     "data": {
      "text/plain": [
       "Year                         int64\n",
       "LocationAbbr                object\n",
       "Data_Value                 float64\n",
       "Data_Value_Footnote         object\n",
       "Low_Confidence_Limit       float64\n",
       "High_Confidence_Limit      float64\n",
       "Sample_Size                float64\n",
       "Age(years)                  object\n",
       "Education                   object\n",
       "Gender                      object\n",
       "Income                      object\n",
       "Race/Ethnicity              object\n",
       "ClassID                     object\n",
       "QuestionID                  object\n",
       "StratificationCategory1     object\n",
       "Stratification1             object\n",
       "dtype: object"
      ]
     },
     "execution_count": 40,
     "metadata": {},
     "output_type": "execute_result"
    }
   ],
   "source": [
    "atomic_df.dtypes"
   ]
  },
  {
   "cell_type": "code",
   "execution_count": 41,
   "metadata": {},
   "outputs": [
    {
     "data": {
      "text/plain": [
       "array([nan, 'Data not available because sample size is insufficient.',\n",
       "       'Data not available because sample size is insufficient.  If data only missing for the confidence interval, the confidence interval was not calculated.'],\n",
       "      dtype=object)"
      ]
     },
     "execution_count": 41,
     "metadata": {},
     "output_type": "execute_result"
    }
   ],
   "source": [
    "atomic_df['Data_Value_Footnote'].unique()"
   ]
  },
  {
   "cell_type": "code",
   "execution_count": 42,
   "metadata": {},
   "outputs": [
    {
     "data": {
      "text/plain": [
       "Data not available because sample size is insufficient.                                                                                                   4624\n",
       "Data not available because sample size is insufficient.  If data only missing for the confidence interval, the confidence interval was not calculated.     422\n",
       "Name: Data_Value_Footnote, dtype: int64"
      ]
     },
     "execution_count": 42,
     "metadata": {},
     "output_type": "execute_result"
    }
   ],
   "source": [
    "atomic_df['Data_Value_Footnote'].value_counts()"
   ]
  },
  {
   "cell_type": "markdown",
   "metadata": {},
   "source": [
    "> Looking at the stratification column, it seems as though information about Age, Income, Race and Gender are encoded in long form.\n",
    ">\n",
    "> It now begins to make sense why such important indicators have numerous null values"
   ]
  },
  {
   "cell_type": "code",
   "execution_count": 43,
   "metadata": {},
   "outputs": [
    {
     "data": {
      "text/plain": [
       "array(['Total', 'Gender', 'Education', 'Age (years)', 'Income',\n",
       "       'Race/Ethnicity'], dtype=object)"
      ]
     },
     "execution_count": 43,
     "metadata": {},
     "output_type": "execute_result"
    }
   ],
   "source": [
    "atomic_df['StratificationCategory1'].unique()"
   ]
  },
  {
   "cell_type": "markdown",
   "metadata": {},
   "source": [
    "> The StratificationCategory1 column are exactly the same columns that had so many null values\n",
    ">\n",
    "> I will extract each stratitification category individually and perform analysis independently, since it seems that the dataset is just a concatenation of other smaller datasets. With this, I will indirectly be dealing with the issues of missing values."
   ]
  },
  {
   "cell_type": "markdown",
   "metadata": {},
   "source": [
    "#### Education Dataset"
   ]
  },
  {
   "cell_type": "markdown",
   "metadata": {},
   "source": [
    "> I begin by isolating data that was stratified by education"
   ]
  },
  {
   "cell_type": "code",
   "execution_count": 44,
   "metadata": {},
   "outputs": [
    {
     "data": {
      "text/html": [
       "<div>\n",
       "<style scoped>\n",
       "    .dataframe tbody tr th:only-of-type {\n",
       "        vertical-align: middle;\n",
       "    }\n",
       "\n",
       "    .dataframe tbody tr th {\n",
       "        vertical-align: top;\n",
       "    }\n",
       "\n",
       "    .dataframe thead th {\n",
       "        text-align: right;\n",
       "    }\n",
       "</style>\n",
       "<table border=\"1\" class=\"dataframe\">\n",
       "  <thead>\n",
       "    <tr style=\"text-align: right;\">\n",
       "      <th></th>\n",
       "      <th>Year</th>\n",
       "      <th>LocationAbbr</th>\n",
       "      <th>Data_Value</th>\n",
       "      <th>Data_Value_Footnote</th>\n",
       "      <th>Low_Confidence_Limit</th>\n",
       "      <th>High_Confidence_Limit</th>\n",
       "      <th>Sample_Size</th>\n",
       "      <th>Age(years)</th>\n",
       "      <th>Education</th>\n",
       "      <th>Gender</th>\n",
       "      <th>Income</th>\n",
       "      <th>Race/Ethnicity</th>\n",
       "      <th>ClassID</th>\n",
       "      <th>QuestionID</th>\n",
       "      <th>StratificationCategory1</th>\n",
       "      <th>Stratification1</th>\n",
       "    </tr>\n",
       "  </thead>\n",
       "  <tbody>\n",
       "    <tr>\n",
       "      <th>0</th>\n",
       "      <td>2011</td>\n",
       "      <td>AL</td>\n",
       "      <td>33.6</td>\n",
       "      <td>NaN</td>\n",
       "      <td>29.9</td>\n",
       "      <td>37.6</td>\n",
       "      <td>1153.0</td>\n",
       "      <td>NaN</td>\n",
       "      <td>Less than high school</td>\n",
       "      <td>NaN</td>\n",
       "      <td>NaN</td>\n",
       "      <td>NaN</td>\n",
       "      <td>OWS</td>\n",
       "      <td>Q036</td>\n",
       "      <td>Education</td>\n",
       "      <td>Less than high school</td>\n",
       "    </tr>\n",
       "    <tr>\n",
       "      <th>1</th>\n",
       "      <td>2011</td>\n",
       "      <td>AL</td>\n",
       "      <td>32.8</td>\n",
       "      <td>NaN</td>\n",
       "      <td>30.2</td>\n",
       "      <td>35.6</td>\n",
       "      <td>2402.0</td>\n",
       "      <td>NaN</td>\n",
       "      <td>High school graduate</td>\n",
       "      <td>NaN</td>\n",
       "      <td>NaN</td>\n",
       "      <td>NaN</td>\n",
       "      <td>OWS</td>\n",
       "      <td>Q036</td>\n",
       "      <td>Education</td>\n",
       "      <td>High school graduate</td>\n",
       "    </tr>\n",
       "    <tr>\n",
       "      <th>2</th>\n",
       "      <td>2011</td>\n",
       "      <td>AL</td>\n",
       "      <td>33.8</td>\n",
       "      <td>NaN</td>\n",
       "      <td>31.0</td>\n",
       "      <td>36.8</td>\n",
       "      <td>1925.0</td>\n",
       "      <td>NaN</td>\n",
       "      <td>Some college or technical school</td>\n",
       "      <td>NaN</td>\n",
       "      <td>NaN</td>\n",
       "      <td>NaN</td>\n",
       "      <td>OWS</td>\n",
       "      <td>Q036</td>\n",
       "      <td>Education</td>\n",
       "      <td>Some college or technical school</td>\n",
       "    </tr>\n",
       "    <tr>\n",
       "      <th>3</th>\n",
       "      <td>2011</td>\n",
       "      <td>AL</td>\n",
       "      <td>26.4</td>\n",
       "      <td>NaN</td>\n",
       "      <td>23.7</td>\n",
       "      <td>29.3</td>\n",
       "      <td>1812.0</td>\n",
       "      <td>NaN</td>\n",
       "      <td>College graduate</td>\n",
       "      <td>NaN</td>\n",
       "      <td>NaN</td>\n",
       "      <td>NaN</td>\n",
       "      <td>OWS</td>\n",
       "      <td>Q036</td>\n",
       "      <td>Education</td>\n",
       "      <td>College graduate</td>\n",
       "    </tr>\n",
       "    <tr>\n",
       "      <th>4</th>\n",
       "      <td>2011</td>\n",
       "      <td>AL</td>\n",
       "      <td>33.2</td>\n",
       "      <td>NaN</td>\n",
       "      <td>29.2</td>\n",
       "      <td>37.5</td>\n",
       "      <td>1153.0</td>\n",
       "      <td>NaN</td>\n",
       "      <td>Less than high school</td>\n",
       "      <td>NaN</td>\n",
       "      <td>NaN</td>\n",
       "      <td>NaN</td>\n",
       "      <td>OWS</td>\n",
       "      <td>Q037</td>\n",
       "      <td>Education</td>\n",
       "      <td>Less than high school</td>\n",
       "    </tr>\n",
       "  </tbody>\n",
       "</table>\n",
       "</div>"
      ],
      "text/plain": [
       "   Year LocationAbbr  Data_Value Data_Value_Footnote  Low_Confidence_Limit  \\\n",
       "0  2011           AL        33.6                 NaN                  29.9   \n",
       "1  2011           AL        32.8                 NaN                  30.2   \n",
       "2  2011           AL        33.8                 NaN                  31.0   \n",
       "3  2011           AL        26.4                 NaN                  23.7   \n",
       "4  2011           AL        33.2                 NaN                  29.2   \n",
       "\n",
       "   High_Confidence_Limit   Sample_Size Age(years)  \\\n",
       "0                    37.6       1153.0        NaN   \n",
       "1                    35.6       2402.0        NaN   \n",
       "2                    36.8       1925.0        NaN   \n",
       "3                    29.3       1812.0        NaN   \n",
       "4                    37.5       1153.0        NaN   \n",
       "\n",
       "                          Education Gender Income Race/Ethnicity ClassID  \\\n",
       "0             Less than high school    NaN    NaN            NaN     OWS   \n",
       "1              High school graduate    NaN    NaN            NaN     OWS   \n",
       "2  Some college or technical school    NaN    NaN            NaN     OWS   \n",
       "3                  College graduate    NaN    NaN            NaN     OWS   \n",
       "4             Less than high school    NaN    NaN            NaN     OWS   \n",
       "\n",
       "  QuestionID StratificationCategory1                   Stratification1  \n",
       "0       Q036               Education             Less than high school  \n",
       "1       Q036               Education              High school graduate  \n",
       "2       Q036               Education  Some college or technical school  \n",
       "3       Q036               Education                  College graduate  \n",
       "4       Q037               Education             Less than high school  "
      ]
     },
     "execution_count": 44,
     "metadata": {},
     "output_type": "execute_result"
    }
   ],
   "source": [
    "education_df = atomic_df[atomic_df['StratificationCategory1'] == 'Education']\n",
    "education_df.reset_index(drop=True, inplace=True)\n",
    "education_df.head()"
   ]
  },
  {
   "cell_type": "code",
   "execution_count": 45,
   "metadata": {},
   "outputs": [
    {
     "data": {
      "text/plain": [
       "(7628, 16)"
      ]
     },
     "execution_count": 45,
     "metadata": {},
     "output_type": "execute_result"
    }
   ],
   "source": [
    "education_df.shape"
   ]
  },
  {
   "cell_type": "code",
   "execution_count": 46,
   "metadata": {},
   "outputs": [
    {
     "data": {
      "text/plain": [
       "Year                          0\n",
       "LocationAbbr                  0\n",
       "Data_Value                    0\n",
       "Low_Confidence_Limit          0\n",
       "High_Confidence_Limit         0\n",
       "Sample_Size                   0\n",
       "Education                     0\n",
       "ClassID                       0\n",
       "QuestionID                    0\n",
       "StratificationCategory1       0\n",
       "Stratification1               0\n",
       "Data_Value_Footnote        7628\n",
       "Age(years)                 7628\n",
       "Gender                     7628\n",
       "Income                     7628\n",
       "Race/Ethnicity             7628\n",
       "dtype: int64"
      ]
     },
     "execution_count": 46,
     "metadata": {},
     "output_type": "execute_result"
    }
   ],
   "source": [
    "education_df.isnull().sum().sort_values()"
   ]
  },
  {
   "cell_type": "markdown",
   "metadata": {},
   "source": [
    "> The columns 'Age(years)', 'Income', 'Race/Ethnicity', 'Data_Value_Footnote' and 'Gender' have no use remaining in the dataset, since they contain 100% null values\n",
    ">\n",
    "> Also, the stratification columns can be ignored since they contain the same information"
   ]
  },
  {
   "cell_type": "code",
   "execution_count": 47,
   "metadata": {},
   "outputs": [
    {
     "data": {
      "text/html": [
       "<div>\n",
       "<style scoped>\n",
       "    .dataframe tbody tr th:only-of-type {\n",
       "        vertical-align: middle;\n",
       "    }\n",
       "\n",
       "    .dataframe tbody tr th {\n",
       "        vertical-align: top;\n",
       "    }\n",
       "\n",
       "    .dataframe thead th {\n",
       "        text-align: right;\n",
       "    }\n",
       "</style>\n",
       "<table border=\"1\" class=\"dataframe\">\n",
       "  <thead>\n",
       "    <tr style=\"text-align: right;\">\n",
       "      <th></th>\n",
       "      <th>Year</th>\n",
       "      <th>LocationAbbr</th>\n",
       "      <th>Data_Value</th>\n",
       "      <th>Low_Confidence_Limit</th>\n",
       "      <th>High_Confidence_Limit</th>\n",
       "      <th>Sample_Size</th>\n",
       "      <th>Education</th>\n",
       "      <th>ClassID</th>\n",
       "      <th>QuestionID</th>\n",
       "    </tr>\n",
       "  </thead>\n",
       "  <tbody>\n",
       "    <tr>\n",
       "      <th>0</th>\n",
       "      <td>2011</td>\n",
       "      <td>AL</td>\n",
       "      <td>33.6</td>\n",
       "      <td>29.9</td>\n",
       "      <td>37.6</td>\n",
       "      <td>1153.0</td>\n",
       "      <td>Less than high school</td>\n",
       "      <td>OWS</td>\n",
       "      <td>Q036</td>\n",
       "    </tr>\n",
       "    <tr>\n",
       "      <th>1</th>\n",
       "      <td>2011</td>\n",
       "      <td>AL</td>\n",
       "      <td>32.8</td>\n",
       "      <td>30.2</td>\n",
       "      <td>35.6</td>\n",
       "      <td>2402.0</td>\n",
       "      <td>High school graduate</td>\n",
       "      <td>OWS</td>\n",
       "      <td>Q036</td>\n",
       "    </tr>\n",
       "    <tr>\n",
       "      <th>2</th>\n",
       "      <td>2011</td>\n",
       "      <td>AL</td>\n",
       "      <td>33.8</td>\n",
       "      <td>31.0</td>\n",
       "      <td>36.8</td>\n",
       "      <td>1925.0</td>\n",
       "      <td>Some college or technical school</td>\n",
       "      <td>OWS</td>\n",
       "      <td>Q036</td>\n",
       "    </tr>\n",
       "    <tr>\n",
       "      <th>3</th>\n",
       "      <td>2011</td>\n",
       "      <td>AL</td>\n",
       "      <td>26.4</td>\n",
       "      <td>23.7</td>\n",
       "      <td>29.3</td>\n",
       "      <td>1812.0</td>\n",
       "      <td>College graduate</td>\n",
       "      <td>OWS</td>\n",
       "      <td>Q036</td>\n",
       "    </tr>\n",
       "    <tr>\n",
       "      <th>4</th>\n",
       "      <td>2011</td>\n",
       "      <td>AL</td>\n",
       "      <td>33.2</td>\n",
       "      <td>29.2</td>\n",
       "      <td>37.5</td>\n",
       "      <td>1153.0</td>\n",
       "      <td>Less than high school</td>\n",
       "      <td>OWS</td>\n",
       "      <td>Q037</td>\n",
       "    </tr>\n",
       "  </tbody>\n",
       "</table>\n",
       "</div>"
      ],
      "text/plain": [
       "   Year LocationAbbr  Data_Value  Low_Confidence_Limit  \\\n",
       "0  2011           AL        33.6                  29.9   \n",
       "1  2011           AL        32.8                  30.2   \n",
       "2  2011           AL        33.8                  31.0   \n",
       "3  2011           AL        26.4                  23.7   \n",
       "4  2011           AL        33.2                  29.2   \n",
       "\n",
       "   High_Confidence_Limit   Sample_Size                         Education  \\\n",
       "0                    37.6       1153.0             Less than high school   \n",
       "1                    35.6       2402.0              High school graduate   \n",
       "2                    36.8       1925.0  Some college or technical school   \n",
       "3                    29.3       1812.0                  College graduate   \n",
       "4                    37.5       1153.0             Less than high school   \n",
       "\n",
       "  ClassID QuestionID  \n",
       "0     OWS       Q036  \n",
       "1     OWS       Q036  \n",
       "2     OWS       Q036  \n",
       "3     OWS       Q036  \n",
       "4     OWS       Q037  "
      ]
     },
     "execution_count": 47,
     "metadata": {},
     "output_type": "execute_result"
    }
   ],
   "source": [
    "education_df = education_df.drop(['Age(years)', 'Income', 'Race/Ethnicity', 'Data_Value_Footnote', 'Gender', 'StratificationCategory1', 'Stratification1'], axis=1)\n",
    "education_df.head()"
   ]
  },
  {
   "cell_type": "code",
   "execution_count": 48,
   "metadata": {},
   "outputs": [
    {
     "data": {
      "text/html": [
       "<div>\n",
       "<style scoped>\n",
       "    .dataframe tbody tr th:only-of-type {\n",
       "        vertical-align: middle;\n",
       "    }\n",
       "\n",
       "    .dataframe tbody tr th {\n",
       "        vertical-align: top;\n",
       "    }\n",
       "\n",
       "    .dataframe thead tr th {\n",
       "        text-align: left;\n",
       "    }\n",
       "</style>\n",
       "<table border=\"1\" class=\"dataframe\">\n",
       "  <thead>\n",
       "    <tr>\n",
       "      <th>QuestionID</th>\n",
       "      <th colspan=\"4\" halign=\"left\">Q018</th>\n",
       "      <th colspan=\"4\" halign=\"left\">Q019</th>\n",
       "      <th colspan=\"4\" halign=\"left\">Q036</th>\n",
       "      <th colspan=\"4\" halign=\"left\">Q037</th>\n",
       "      <th colspan=\"4\" halign=\"left\">Q043</th>\n",
       "      <th colspan=\"4\" halign=\"left\">Q044</th>\n",
       "      <th colspan=\"4\" halign=\"left\">Q045</th>\n",
       "      <th colspan=\"4\" halign=\"left\">Q046</th>\n",
       "      <th colspan=\"4\" halign=\"left\">Q047</th>\n",
       "    </tr>\n",
       "    <tr>\n",
       "      <th>Education</th>\n",
       "      <th>College graduate</th>\n",
       "      <th>High school graduate</th>\n",
       "      <th>Less than high school</th>\n",
       "      <th>Some college or technical school</th>\n",
       "      <th>College graduate</th>\n",
       "      <th>High school graduate</th>\n",
       "      <th>Less than high school</th>\n",
       "      <th>Some college or technical school</th>\n",
       "      <th>College graduate</th>\n",
       "      <th>High school graduate</th>\n",
       "      <th>Less than high school</th>\n",
       "      <th>Some college or technical school</th>\n",
       "      <th>College graduate</th>\n",
       "      <th>High school graduate</th>\n",
       "      <th>Less than high school</th>\n",
       "      <th>Some college or technical school</th>\n",
       "      <th>College graduate</th>\n",
       "      <th>High school graduate</th>\n",
       "      <th>Less than high school</th>\n",
       "      <th>Some college or technical school</th>\n",
       "      <th>College graduate</th>\n",
       "      <th>High school graduate</th>\n",
       "      <th>Less than high school</th>\n",
       "      <th>Some college or technical school</th>\n",
       "      <th>College graduate</th>\n",
       "      <th>High school graduate</th>\n",
       "      <th>Less than high school</th>\n",
       "      <th>Some college or technical school</th>\n",
       "      <th>College graduate</th>\n",
       "      <th>High school graduate</th>\n",
       "      <th>Less than high school</th>\n",
       "      <th>Some college or technical school</th>\n",
       "      <th>College graduate</th>\n",
       "      <th>High school graduate</th>\n",
       "      <th>Less than high school</th>\n",
       "      <th>Some college or technical school</th>\n",
       "    </tr>\n",
       "  </thead>\n",
       "  <tbody>\n",
       "    <tr>\n",
       "      <th>count</th>\n",
       "      <td>158.000000</td>\n",
       "      <td>158.000000</td>\n",
       "      <td>158.000000</td>\n",
       "      <td>158.000000</td>\n",
       "      <td>158.000000</td>\n",
       "      <td>158.000000</td>\n",
       "      <td>158.000000</td>\n",
       "      <td>158.000000</td>\n",
       "      <td>320.000000</td>\n",
       "      <td>320.000000</td>\n",
       "      <td>320.000000</td>\n",
       "      <td>320.000000</td>\n",
       "      <td>320.000000</td>\n",
       "      <td>320.000000</td>\n",
       "      <td>320.000000</td>\n",
       "      <td>320.000000</td>\n",
       "      <td>158.000000</td>\n",
       "      <td>158.000000</td>\n",
       "      <td>158.000000</td>\n",
       "      <td>158.000000</td>\n",
       "      <td>158.000000</td>\n",
       "      <td>158.000000</td>\n",
       "      <td>158.000000</td>\n",
       "      <td>158.000000</td>\n",
       "      <td>158.000000</td>\n",
       "      <td>158.000000</td>\n",
       "      <td>158.000000</td>\n",
       "      <td>158.000000</td>\n",
       "      <td>158.000000</td>\n",
       "      <td>158.000000</td>\n",
       "      <td>158.000000</td>\n",
       "      <td>158.000000</td>\n",
       "      <td>319.00000</td>\n",
       "      <td>319.000000</td>\n",
       "      <td>319.000000</td>\n",
       "      <td>319.000000</td>\n",
       "    </tr>\n",
       "    <tr>\n",
       "      <th>mean</th>\n",
       "      <td>31.493671</td>\n",
       "      <td>44.288608</td>\n",
       "      <td>46.772152</td>\n",
       "      <td>39.600633</td>\n",
       "      <td>14.291139</td>\n",
       "      <td>27.952532</td>\n",
       "      <td>33.270253</td>\n",
       "      <td>21.242405</td>\n",
       "      <td>22.791250</td>\n",
       "      <td>30.939688</td>\n",
       "      <td>33.026250</td>\n",
       "      <td>30.110313</td>\n",
       "      <td>37.069688</td>\n",
       "      <td>35.347812</td>\n",
       "      <td>33.951563</td>\n",
       "      <td>35.024062</td>\n",
       "      <td>59.822152</td>\n",
       "      <td>47.068354</td>\n",
       "      <td>39.274051</td>\n",
       "      <td>52.448101</td>\n",
       "      <td>26.600633</td>\n",
       "      <td>16.667722</td>\n",
       "      <td>12.327848</td>\n",
       "      <td>21.334810</td>\n",
       "      <td>35.647468</td>\n",
       "      <td>30.319620</td>\n",
       "      <td>25.951266</td>\n",
       "      <td>32.182911</td>\n",
       "      <td>36.517089</td>\n",
       "      <td>25.175316</td>\n",
       "      <td>20.361392</td>\n",
       "      <td>31.168987</td>\n",
       "      <td>13.73605</td>\n",
       "      <td>30.106897</td>\n",
       "      <td>40.105329</td>\n",
       "      <td>22.231348</td>\n",
       "    </tr>\n",
       "    <tr>\n",
       "      <th>std</th>\n",
       "      <td>4.989335</td>\n",
       "      <td>4.795486</td>\n",
       "      <td>6.050161</td>\n",
       "      <td>4.826592</td>\n",
       "      <td>2.903136</td>\n",
       "      <td>3.325748</td>\n",
       "      <td>5.589999</td>\n",
       "      <td>3.221115</td>\n",
       "      <td>4.166238</td>\n",
       "      <td>3.388532</td>\n",
       "      <td>3.907945</td>\n",
       "      <td>3.632661</td>\n",
       "      <td>1.745515</td>\n",
       "      <td>1.933777</td>\n",
       "      <td>3.475025</td>\n",
       "      <td>1.740451</td>\n",
       "      <td>5.446399</td>\n",
       "      <td>5.021966</td>\n",
       "      <td>5.449071</td>\n",
       "      <td>5.071988</td>\n",
       "      <td>3.487621</td>\n",
       "      <td>3.068377</td>\n",
       "      <td>3.353900</td>\n",
       "      <td>3.122426</td>\n",
       "      <td>5.075063</td>\n",
       "      <td>4.239689</td>\n",
       "      <td>4.883232</td>\n",
       "      <td>4.404575</td>\n",
       "      <td>3.520535</td>\n",
       "      <td>3.779473</td>\n",
       "      <td>4.294934</td>\n",
       "      <td>3.338883</td>\n",
       "      <td>3.72912</td>\n",
       "      <td>4.441735</td>\n",
       "      <td>5.499520</td>\n",
       "      <td>4.205928</td>\n",
       "    </tr>\n",
       "    <tr>\n",
       "      <th>min</th>\n",
       "      <td>19.400000</td>\n",
       "      <td>33.900000</td>\n",
       "      <td>29.200000</td>\n",
       "      <td>29.500000</td>\n",
       "      <td>7.500000</td>\n",
       "      <td>20.200000</td>\n",
       "      <td>19.200000</td>\n",
       "      <td>13.500000</td>\n",
       "      <td>11.900000</td>\n",
       "      <td>21.700000</td>\n",
       "      <td>21.300000</td>\n",
       "      <td>21.800000</td>\n",
       "      <td>29.100000</td>\n",
       "      <td>27.700000</td>\n",
       "      <td>22.200000</td>\n",
       "      <td>27.300000</td>\n",
       "      <td>40.000000</td>\n",
       "      <td>32.500000</td>\n",
       "      <td>24.600000</td>\n",
       "      <td>39.100000</td>\n",
       "      <td>14.300000</td>\n",
       "      <td>6.200000</td>\n",
       "      <td>2.500000</td>\n",
       "      <td>10.800000</td>\n",
       "      <td>19.000000</td>\n",
       "      <td>16.600000</td>\n",
       "      <td>14.100000</td>\n",
       "      <td>19.600000</td>\n",
       "      <td>19.400000</td>\n",
       "      <td>8.300000</td>\n",
       "      <td>3.600000</td>\n",
       "      <td>14.200000</td>\n",
       "      <td>6.60000</td>\n",
       "      <td>20.300000</td>\n",
       "      <td>26.700000</td>\n",
       "      <td>13.200000</td>\n",
       "    </tr>\n",
       "    <tr>\n",
       "      <th>25%</th>\n",
       "      <td>28.500000</td>\n",
       "      <td>41.000000</td>\n",
       "      <td>42.900000</td>\n",
       "      <td>36.200000</td>\n",
       "      <td>12.200000</td>\n",
       "      <td>25.775000</td>\n",
       "      <td>29.800000</td>\n",
       "      <td>19.000000</td>\n",
       "      <td>20.200000</td>\n",
       "      <td>28.700000</td>\n",
       "      <td>30.575000</td>\n",
       "      <td>27.375000</td>\n",
       "      <td>36.100000</td>\n",
       "      <td>34.100000</td>\n",
       "      <td>31.900000</td>\n",
       "      <td>33.900000</td>\n",
       "      <td>56.700000</td>\n",
       "      <td>44.125000</td>\n",
       "      <td>35.700000</td>\n",
       "      <td>49.025000</td>\n",
       "      <td>24.600000</td>\n",
       "      <td>14.600000</td>\n",
       "      <td>10.325000</td>\n",
       "      <td>19.525000</td>\n",
       "      <td>32.100000</td>\n",
       "      <td>27.525000</td>\n",
       "      <td>22.500000</td>\n",
       "      <td>29.100000</td>\n",
       "      <td>34.800000</td>\n",
       "      <td>22.925000</td>\n",
       "      <td>18.225000</td>\n",
       "      <td>29.500000</td>\n",
       "      <td>11.40000</td>\n",
       "      <td>27.200000</td>\n",
       "      <td>36.650000</td>\n",
       "      <td>19.400000</td>\n",
       "    </tr>\n",
       "    <tr>\n",
       "      <th>50%</th>\n",
       "      <td>30.850000</td>\n",
       "      <td>44.200000</td>\n",
       "      <td>46.100000</td>\n",
       "      <td>39.250000</td>\n",
       "      <td>14.550000</td>\n",
       "      <td>28.050000</td>\n",
       "      <td>32.900000</td>\n",
       "      <td>21.250000</td>\n",
       "      <td>22.500000</td>\n",
       "      <td>31.100000</td>\n",
       "      <td>33.150000</td>\n",
       "      <td>30.200000</td>\n",
       "      <td>37.200000</td>\n",
       "      <td>35.400000</td>\n",
       "      <td>34.200000</td>\n",
       "      <td>35.100000</td>\n",
       "      <td>59.600000</td>\n",
       "      <td>47.500000</td>\n",
       "      <td>38.850000</td>\n",
       "      <td>52.600000</td>\n",
       "      <td>26.650000</td>\n",
       "      <td>16.600000</td>\n",
       "      <td>12.200000</td>\n",
       "      <td>21.600000</td>\n",
       "      <td>35.150000</td>\n",
       "      <td>30.450000</td>\n",
       "      <td>25.700000</td>\n",
       "      <td>32.400000</td>\n",
       "      <td>36.900000</td>\n",
       "      <td>25.450000</td>\n",
       "      <td>20.000000</td>\n",
       "      <td>31.750000</td>\n",
       "      <td>13.30000</td>\n",
       "      <td>30.300000</td>\n",
       "      <td>39.900000</td>\n",
       "      <td>21.800000</td>\n",
       "    </tr>\n",
       "    <tr>\n",
       "      <th>75%</th>\n",
       "      <td>34.375000</td>\n",
       "      <td>47.250000</td>\n",
       "      <td>50.200000</td>\n",
       "      <td>42.400000</td>\n",
       "      <td>15.900000</td>\n",
       "      <td>30.000000</td>\n",
       "      <td>37.275000</td>\n",
       "      <td>23.100000</td>\n",
       "      <td>25.625000</td>\n",
       "      <td>33.125000</td>\n",
       "      <td>35.500000</td>\n",
       "      <td>32.625000</td>\n",
       "      <td>38.200000</td>\n",
       "      <td>36.700000</td>\n",
       "      <td>36.200000</td>\n",
       "      <td>36.000000</td>\n",
       "      <td>63.700000</td>\n",
       "      <td>50.575000</td>\n",
       "      <td>43.350000</td>\n",
       "      <td>55.900000</td>\n",
       "      <td>28.775000</td>\n",
       "      <td>18.675000</td>\n",
       "      <td>14.100000</td>\n",
       "      <td>23.575000</td>\n",
       "      <td>39.400000</td>\n",
       "      <td>33.100000</td>\n",
       "      <td>29.475000</td>\n",
       "      <td>35.075000</td>\n",
       "      <td>38.375000</td>\n",
       "      <td>27.300000</td>\n",
       "      <td>22.700000</td>\n",
       "      <td>33.250000</td>\n",
       "      <td>15.80000</td>\n",
       "      <td>32.600000</td>\n",
       "      <td>43.100000</td>\n",
       "      <td>24.450000</td>\n",
       "    </tr>\n",
       "    <tr>\n",
       "      <th>max</th>\n",
       "      <td>47.000000</td>\n",
       "      <td>58.300000</td>\n",
       "      <td>63.000000</td>\n",
       "      <td>53.700000</td>\n",
       "      <td>23.100000</td>\n",
       "      <td>39.300000</td>\n",
       "      <td>49.300000</td>\n",
       "      <td>32.200000</td>\n",
       "      <td>32.500000</td>\n",
       "      <td>40.700000</td>\n",
       "      <td>43.300000</td>\n",
       "      <td>40.800000</td>\n",
       "      <td>43.200000</td>\n",
       "      <td>41.100000</td>\n",
       "      <td>43.000000</td>\n",
       "      <td>40.400000</td>\n",
       "      <td>71.600000</td>\n",
       "      <td>60.500000</td>\n",
       "      <td>53.100000</td>\n",
       "      <td>65.700000</td>\n",
       "      <td>34.800000</td>\n",
       "      <td>24.500000</td>\n",
       "      <td>21.700000</td>\n",
       "      <td>28.300000</td>\n",
       "      <td>47.800000</td>\n",
       "      <td>42.600000</td>\n",
       "      <td>39.500000</td>\n",
       "      <td>42.100000</td>\n",
       "      <td>44.900000</td>\n",
       "      <td>34.300000</td>\n",
       "      <td>31.900000</td>\n",
       "      <td>37.600000</td>\n",
       "      <td>36.70000</td>\n",
       "      <td>50.900000</td>\n",
       "      <td>60.500000</td>\n",
       "      <td>41.700000</td>\n",
       "    </tr>\n",
       "  </tbody>\n",
       "</table>\n",
       "</div>"
      ],
      "text/plain": [
       "QuestionID             Q018                                             \\\n",
       "Education  College graduate High school graduate Less than high school   \n",
       "count            158.000000           158.000000            158.000000   \n",
       "mean              31.493671            44.288608             46.772152   \n",
       "std                4.989335             4.795486              6.050161   \n",
       "min               19.400000            33.900000             29.200000   \n",
       "25%               28.500000            41.000000             42.900000   \n",
       "50%               30.850000            44.200000             46.100000   \n",
       "75%               34.375000            47.250000             50.200000   \n",
       "max               47.000000            58.300000             63.000000   \n",
       "\n",
       "QuestionID                                              Q019  \\\n",
       "Education  Some college or technical school College graduate   \n",
       "count                            158.000000       158.000000   \n",
       "mean                              39.600633        14.291139   \n",
       "std                                4.826592         2.903136   \n",
       "min                               29.500000         7.500000   \n",
       "25%                               36.200000        12.200000   \n",
       "50%                               39.250000        14.550000   \n",
       "75%                               42.400000        15.900000   \n",
       "max                               53.700000        23.100000   \n",
       "\n",
       "QuestionID                                             \\\n",
       "Education  High school graduate Less than high school   \n",
       "count                158.000000            158.000000   \n",
       "mean                  27.952532             33.270253   \n",
       "std                    3.325748              5.589999   \n",
       "min                   20.200000             19.200000   \n",
       "25%                   25.775000             29.800000   \n",
       "50%                   28.050000             32.900000   \n",
       "75%                   30.000000             37.275000   \n",
       "max                   39.300000             49.300000   \n",
       "\n",
       "QuestionID                                              Q036  \\\n",
       "Education  Some college or technical school College graduate   \n",
       "count                            158.000000       320.000000   \n",
       "mean                              21.242405        22.791250   \n",
       "std                                3.221115         4.166238   \n",
       "min                               13.500000        11.900000   \n",
       "25%                               19.000000        20.200000   \n",
       "50%                               21.250000        22.500000   \n",
       "75%                               23.100000        25.625000   \n",
       "max                               32.200000        32.500000   \n",
       "\n",
       "QuestionID                                             \\\n",
       "Education  High school graduate Less than high school   \n",
       "count                320.000000            320.000000   \n",
       "mean                  30.939688             33.026250   \n",
       "std                    3.388532              3.907945   \n",
       "min                   21.700000             21.300000   \n",
       "25%                   28.700000             30.575000   \n",
       "50%                   31.100000             33.150000   \n",
       "75%                   33.125000             35.500000   \n",
       "max                   40.700000             43.300000   \n",
       "\n",
       "QuestionID                                              Q037  \\\n",
       "Education  Some college or technical school College graduate   \n",
       "count                            320.000000       320.000000   \n",
       "mean                              30.110313        37.069688   \n",
       "std                                3.632661         1.745515   \n",
       "min                               21.800000        29.100000   \n",
       "25%                               27.375000        36.100000   \n",
       "50%                               30.200000        37.200000   \n",
       "75%                               32.625000        38.200000   \n",
       "max                               40.800000        43.200000   \n",
       "\n",
       "QuestionID                                             \\\n",
       "Education  High school graduate Less than high school   \n",
       "count                320.000000            320.000000   \n",
       "mean                  35.347812             33.951563   \n",
       "std                    1.933777              3.475025   \n",
       "min                   27.700000             22.200000   \n",
       "25%                   34.100000             31.900000   \n",
       "50%                   35.400000             34.200000   \n",
       "75%                   36.700000             36.200000   \n",
       "max                   41.100000             43.000000   \n",
       "\n",
       "QuestionID                                              Q043  \\\n",
       "Education  Some college or technical school College graduate   \n",
       "count                            320.000000       158.000000   \n",
       "mean                              35.024062        59.822152   \n",
       "std                                1.740451         5.446399   \n",
       "min                               27.300000        40.000000   \n",
       "25%                               33.900000        56.700000   \n",
       "50%                               35.100000        59.600000   \n",
       "75%                               36.000000        63.700000   \n",
       "max                               40.400000        71.600000   \n",
       "\n",
       "QuestionID                                             \\\n",
       "Education  High school graduate Less than high school   \n",
       "count                158.000000            158.000000   \n",
       "mean                  47.068354             39.274051   \n",
       "std                    5.021966              5.449071   \n",
       "min                   32.500000             24.600000   \n",
       "25%                   44.125000             35.700000   \n",
       "50%                   47.500000             38.850000   \n",
       "75%                   50.575000             43.350000   \n",
       "max                   60.500000             53.100000   \n",
       "\n",
       "QuestionID                                              Q044  \\\n",
       "Education  Some college or technical school College graduate   \n",
       "count                            158.000000       158.000000   \n",
       "mean                              52.448101        26.600633   \n",
       "std                                5.071988         3.487621   \n",
       "min                               39.100000        14.300000   \n",
       "25%                               49.025000        24.600000   \n",
       "50%                               52.600000        26.650000   \n",
       "75%                               55.900000        28.775000   \n",
       "max                               65.700000        34.800000   \n",
       "\n",
       "QuestionID                                             \\\n",
       "Education  High school graduate Less than high school   \n",
       "count                158.000000            158.000000   \n",
       "mean                  16.667722             12.327848   \n",
       "std                    3.068377              3.353900   \n",
       "min                    6.200000              2.500000   \n",
       "25%                   14.600000             10.325000   \n",
       "50%                   16.600000             12.200000   \n",
       "75%                   18.675000             14.100000   \n",
       "max                   24.500000             21.700000   \n",
       "\n",
       "QuestionID                                              Q045  \\\n",
       "Education  Some college or technical school College graduate   \n",
       "count                            158.000000       158.000000   \n",
       "mean                              21.334810        35.647468   \n",
       "std                                3.122426         5.075063   \n",
       "min                               10.800000        19.000000   \n",
       "25%                               19.525000        32.100000   \n",
       "50%                               21.600000        35.150000   \n",
       "75%                               23.575000        39.400000   \n",
       "max                               28.300000        47.800000   \n",
       "\n",
       "QuestionID                                             \\\n",
       "Education  High school graduate Less than high school   \n",
       "count                158.000000            158.000000   \n",
       "mean                  30.319620             25.951266   \n",
       "std                    4.239689              4.883232   \n",
       "min                   16.600000             14.100000   \n",
       "25%                   27.525000             22.500000   \n",
       "50%                   30.450000             25.700000   \n",
       "75%                   33.100000             29.475000   \n",
       "max                   42.600000             39.500000   \n",
       "\n",
       "QuestionID                                              Q046  \\\n",
       "Education  Some college or technical school College graduate   \n",
       "count                            158.000000       158.000000   \n",
       "mean                              32.182911        36.517089   \n",
       "std                                4.404575         3.520535   \n",
       "min                               19.600000        19.400000   \n",
       "25%                               29.100000        34.800000   \n",
       "50%                               32.400000        36.900000   \n",
       "75%                               35.075000        38.375000   \n",
       "max                               42.100000        44.900000   \n",
       "\n",
       "QuestionID                                             \\\n",
       "Education  High school graduate Less than high school   \n",
       "count                158.000000            158.000000   \n",
       "mean                  25.175316             20.361392   \n",
       "std                    3.779473              4.294934   \n",
       "min                    8.300000              3.600000   \n",
       "25%                   22.925000             18.225000   \n",
       "50%                   25.450000             20.000000   \n",
       "75%                   27.300000             22.700000   \n",
       "max                   34.300000             31.900000   \n",
       "\n",
       "QuestionID                                              Q047  \\\n",
       "Education  Some college or technical school College graduate   \n",
       "count                            158.000000        319.00000   \n",
       "mean                              31.168987         13.73605   \n",
       "std                                3.338883          3.72912   \n",
       "min                               14.200000          6.60000   \n",
       "25%                               29.500000         11.40000   \n",
       "50%                               31.750000         13.30000   \n",
       "75%                               33.250000         15.80000   \n",
       "max                               37.600000         36.70000   \n",
       "\n",
       "QuestionID                                             \\\n",
       "Education  High school graduate Less than high school   \n",
       "count                319.000000            319.000000   \n",
       "mean                  30.106897             40.105329   \n",
       "std                    4.441735              5.499520   \n",
       "min                   20.300000             26.700000   \n",
       "25%                   27.200000             36.650000   \n",
       "50%                   30.300000             39.900000   \n",
       "75%                   32.600000             43.100000   \n",
       "max                   50.900000             60.500000   \n",
       "\n",
       "QuestionID                                   \n",
       "Education  Some college or technical school  \n",
       "count                            319.000000  \n",
       "mean                              22.231348  \n",
       "std                                4.205928  \n",
       "min                               13.200000  \n",
       "25%                               19.400000  \n",
       "50%                               21.800000  \n",
       "75%                               24.450000  \n",
       "max                               41.700000  "
      ]
     },
     "execution_count": 48,
     "metadata": {},
     "output_type": "execute_result"
    }
   ],
   "source": [
    "education_df.groupby(['QuestionID', 'Education'])['Data_Value'].describe().transpose()"
   ]
  },
  {
   "cell_type": "code",
   "execution_count": 49,
   "metadata": {},
   "outputs": [
    {
     "data": {
      "text/plain": [
       "array(['Less than high school', 'High school graduate',\n",
       "       'Some college or technical school', 'College graduate'],\n",
       "      dtype=object)"
      ]
     },
     "execution_count": 49,
     "metadata": {},
     "output_type": "execute_result"
    }
   ],
   "source": [
    "education_df['Education'].unique()"
   ]
  },
  {
   "cell_type": "code",
   "execution_count": 50,
   "metadata": {},
   "outputs": [
    {
     "data": {
      "text/html": [
       "<div>\n",
       "<style scoped>\n",
       "    .dataframe tbody tr th:only-of-type {\n",
       "        vertical-align: middle;\n",
       "    }\n",
       "\n",
       "    .dataframe tbody tr th {\n",
       "        vertical-align: top;\n",
       "    }\n",
       "\n",
       "    .dataframe thead th {\n",
       "        text-align: right;\n",
       "    }\n",
       "</style>\n",
       "<table border=\"1\" class=\"dataframe\">\n",
       "  <thead>\n",
       "    <tr style=\"text-align: right;\">\n",
       "      <th></th>\n",
       "      <th>Year</th>\n",
       "      <th>LocationAbbr</th>\n",
       "      <th>Data_Value</th>\n",
       "      <th>Low_Confidence_Limit</th>\n",
       "      <th>High_Confidence_Limit</th>\n",
       "      <th>Sample_Size</th>\n",
       "      <th>Education</th>\n",
       "      <th>ClassID</th>\n",
       "      <th>QuestionID</th>\n",
       "    </tr>\n",
       "  </thead>\n",
       "  <tbody>\n",
       "    <tr>\n",
       "      <th>0</th>\n",
       "      <td>2011</td>\n",
       "      <td>AL</td>\n",
       "      <td>33.6</td>\n",
       "      <td>29.9</td>\n",
       "      <td>37.6</td>\n",
       "      <td>1153.0</td>\n",
       "      <td>LTHS</td>\n",
       "      <td>OWS</td>\n",
       "      <td>Q036</td>\n",
       "    </tr>\n",
       "    <tr>\n",
       "      <th>1</th>\n",
       "      <td>2011</td>\n",
       "      <td>AL</td>\n",
       "      <td>32.8</td>\n",
       "      <td>30.2</td>\n",
       "      <td>35.6</td>\n",
       "      <td>2402.0</td>\n",
       "      <td>HSG</td>\n",
       "      <td>OWS</td>\n",
       "      <td>Q036</td>\n",
       "    </tr>\n",
       "    <tr>\n",
       "      <th>2</th>\n",
       "      <td>2011</td>\n",
       "      <td>AL</td>\n",
       "      <td>33.8</td>\n",
       "      <td>31.0</td>\n",
       "      <td>36.8</td>\n",
       "      <td>1925.0</td>\n",
       "      <td>CTS</td>\n",
       "      <td>OWS</td>\n",
       "      <td>Q036</td>\n",
       "    </tr>\n",
       "    <tr>\n",
       "      <th>3</th>\n",
       "      <td>2011</td>\n",
       "      <td>AL</td>\n",
       "      <td>26.4</td>\n",
       "      <td>23.7</td>\n",
       "      <td>29.3</td>\n",
       "      <td>1812.0</td>\n",
       "      <td>CG</td>\n",
       "      <td>OWS</td>\n",
       "      <td>Q036</td>\n",
       "    </tr>\n",
       "    <tr>\n",
       "      <th>4</th>\n",
       "      <td>2011</td>\n",
       "      <td>AL</td>\n",
       "      <td>33.2</td>\n",
       "      <td>29.2</td>\n",
       "      <td>37.5</td>\n",
       "      <td>1153.0</td>\n",
       "      <td>LTHS</td>\n",
       "      <td>OWS</td>\n",
       "      <td>Q037</td>\n",
       "    </tr>\n",
       "  </tbody>\n",
       "</table>\n",
       "</div>"
      ],
      "text/plain": [
       "   Year LocationAbbr  Data_Value  Low_Confidence_Limit  \\\n",
       "0  2011           AL        33.6                  29.9   \n",
       "1  2011           AL        32.8                  30.2   \n",
       "2  2011           AL        33.8                  31.0   \n",
       "3  2011           AL        26.4                  23.7   \n",
       "4  2011           AL        33.2                  29.2   \n",
       "\n",
       "   High_Confidence_Limit   Sample_Size Education ClassID QuestionID  \n",
       "0                    37.6       1153.0      LTHS     OWS       Q036  \n",
       "1                    35.6       2402.0       HSG     OWS       Q036  \n",
       "2                    36.8       1925.0       CTS     OWS       Q036  \n",
       "3                    29.3       1812.0        CG     OWS       Q036  \n",
       "4                    37.5       1153.0      LTHS     OWS       Q037  "
      ]
     },
     "execution_count": 50,
     "metadata": {},
     "output_type": "execute_result"
    }
   ],
   "source": [
    "education_encoding = {'Education': {'Less than high school': 'LTHS', 'High school graduate': 'HSG', 'Some college or technical school': 'CTS', 'College graduate': 'CG'}}\n",
    "education_df = education_df.replace(education_encoding)\n",
    "education_df.head()"
   ]
  },
  {
   "cell_type": "code",
   "execution_count": 51,
   "metadata": {},
   "outputs": [
    {
     "data": {
      "image/png": "[encoded data removed]",
      "text/plain": [
       "<Figure size 1440x1296 with 9 Axes>"
      ]
     },
     "metadata": {
      "needs_background": "light"
     },
     "output_type": "display_data"
    }
   ],
   "source": [
    "fig, axes = plt.subplots(3, 3, figsize=(20, 18), sharey=True, sharex=True)\n",
    "fig.suptitle('Classification by Education');\n",
    "\n",
    "k = 0\n",
    "for i in range(3):\n",
    "    if k >= questions_df.shape[0]:\n",
    "        break\n",
    "    for j in range(3):\n",
    "        if k >= questions_df.shape[0]:\n",
    "            break\n",
    "        question_id = questions_df.iloc[[k]]['QuestionID'][k]\n",
    "        sns.barplot(ax=axes[i][j], data=education_df[education_df['QuestionID']==question_id], x='Education', y='Data_Value', color='grey');\n",
    "        axes[i][j].set_title(question_id);\n",
    "        k += 1"
   ]
  },
  {
   "cell_type": "markdown",
   "metadata": {},
   "source": [
    "> College graduates reported the least percentage of people who had obesity, while those with less than high education reported the highest percentages of people with obesity\n",
    ">\n",
    "> However, there seemed to be no clear disparity among people of the different levels of education by their overweight classification. In fact, college graduates reported slighlty higher percentages of overweight status.\n",
    ">\n",
    "> It is somewhat confounding that more college graduates confessed to be consuming fruits less than once daily than those from all the other levels of education. On the flipside, around 30% of people with less than high school education revealed that they consume veges less than once daily - almost twice the percentage of college graduates who reported to consume veges less than once daily.\n",
    ">\n",
    "> People with at least a college degree are also more likely to engage in moderate intensity or vigorous-intensity aerobics, although those with less than high school education were more likely to engage in leisure-time physical activity."
   ]
  },
  {
   "cell_type": "markdown",
   "metadata": {},
   "source": [
    "> Data values do not show any correlation to education level. Values for all education levels occur all across the spectrum."
   ]
  },
  {
   "cell_type": "code",
   "execution_count": null,
   "metadata": {},
   "outputs": [],
   "source": [
    "fig, axes = plt.subplots(3, 3, figsize=(20, 18), sharey=True, sharex=True)\n",
    "fig.suptitle('Distribution of Values by Education');\n",
    "\n",
    "k = 0\n",
    "for i in range(3):\n",
    "    if k >= questions_df.shape[0]:\n",
    "        break\n",
    "    for j in range(3):\n",
    "        if k >= questions_df.shape[0]:\n",
    "            break\n",
    "        question_id = questions_df.iloc[[k]]['QuestionID'][k]\n",
    "        sns.boxplot(ax=axes[i][j],x='Education', y='Data_Value', data=education_df[education_df['QuestionID']==question_id], whis=[0, 100], width=.6, color='grey')\n",
    "        axes[i][j].set_title(question_id);\n",
    "        k += 1"
   ]
  },
  {
   "cell_type": "markdown",
   "metadata": {},
   "source": [
    "> Question Q037 had the smallest range of values, among all questions put forward.\n",
    ">\n",
    "> On the other hand, question Q047 had the largest range among the questions asked.\n",
    ">\n",
    "> People with less than high school education also provided more spread out values than people from any other education stratum."
   ]
  },
  {
   "cell_type": "code",
   "execution_count": null,
   "metadata": {},
   "outputs": [],
   "source": [
    "questions_df[questions_df['QuestionID'] == 'Q037']"
   ]
  },
  {
   "cell_type": "code",
   "execution_count": null,
   "metadata": {},
   "outputs": [],
   "source": [
    "questions_df[questions_df['QuestionID'] == 'Q047']"
   ]
  },
  {
   "cell_type": "code",
   "execution_count": null,
   "metadata": {},
   "outputs": [],
   "source": [
    "fig, axes = plt.subplots(3, 3, figsize=(20, 18), sharey=True, sharex=True)\n",
    "fig.suptitle('Classification by Education');\n",
    "\n",
    "k = 0\n",
    "for i in range(3):\n",
    "    if k >= questions_df.shape[0]:\n",
    "        break\n",
    "    for j in range(3):\n",
    "        if k >= questions_df.shape[0]:\n",
    "            break\n",
    "        question_id = questions_df.iloc[[k]]['QuestionID'][k]\n",
    "        sns.violinplot(ax=axes[i][j],x='Education', y='Data_Value', data=education_df[education_df['QuestionID']==question_id], split=True, color='grey');\n",
    "        axes[i][j].set_title(question_id);\n",
    "        k += 1"
   ]
  },
  {
   "cell_type": "markdown",
   "metadata": {},
   "source": [
    "> That the values overlap suggests that the probability distributions of the of the values quoted by the respondents are very similar."
   ]
  },
  {
   "cell_type": "markdown",
   "metadata": {},
   "source": [
    "#### Stratitification by Age"
   ]
  },
  {
   "cell_type": "code",
   "execution_count": null,
   "metadata": {},
   "outputs": [],
   "source": [
    "age_df = atomic_df[atomic_df['StratificationCategory1'] == 'Age (years)']\n",
    "age_df.reset_index(drop=True, inplace=True)\n",
    "age_df.head()"
   ]
  },
  {
   "cell_type": "code",
   "execution_count": null,
   "metadata": {},
   "outputs": [],
   "source": [
    "age_df.shape"
   ]
  },
  {
   "cell_type": "code",
   "execution_count": null,
   "metadata": {},
   "outputs": [],
   "source": [
    "age_df.isnull().sum().sort_values()"
   ]
  },
  {
   "cell_type": "markdown",
   "metadata": {},
   "source": [
    "> As with the education dataframe, the other stratification columns need to be removed since they do not contain any information."
   ]
  },
  {
   "cell_type": "code",
   "execution_count": null,
   "metadata": {},
   "outputs": [],
   "source": [
    "age_df = age_df.drop(['Education', 'Income', 'Race/Ethnicity', 'Data_Value_Footnote', 'Gender', 'StratificationCategory1', 'Stratification1'], axis=1)\n",
    "age_df.head()"
   ]
  },
  {
   "cell_type": "code",
   "execution_count": null,
   "metadata": {},
   "outputs": [],
   "source": [
    "#Showing 9 subplots side by side, one for each question in the questions dataset and examining how people of different ages respond to them\n",
    "#Bar plots are generally used to compare categorical data - in this case, how responses to the questions vary by age groups\n",
    "\n",
    "fig, axes = plt.subplots(3, 3, figsize=(20, 18), sharey=True, sharex=True) #define the figure and axis that will be used for plotting\n",
    "fig.suptitle('Classification by Age');\n",
    "\n",
    "k = 0 # I used this variable to ensure that the plot does not burst the size questions, and plot a non existent dimension. Doing so will definitely throw an error\n",
    "for i in range(3): # Lopping over 3 times, for the 3 rows in the subplots matrix\n",
    "    if k >= questions_df.shape[0]: # stop the looping if all questions have been encountered\n",
    "        break\n",
    "    for j in range(3): # loop over each column in the subplot matrix\n",
    "        if k >= questions_df.shape[0]: # stop the looping if all questions have been encountered\n",
    "            break\n",
    "        question_id = questions_df.iloc[[k]]['QuestionID'][k] #retrieve the ID of the each question, and assign it to the varibale question_id\n",
    "        sns.barplot(ax=axes[i][j], data=age_df[age_df['QuestionID']==question_id], x='Age(years)', y='Data_Value', color='grey'); # draw the bar plot\n",
    "        axes[i][j].set_title(question_id); # set the title of the subplot as the question ID\n",
    "        k += 1 # increment 1, to ensure that the computation does not sink into an infinite loop"
   ]
  },
  {
   "cell_type": "markdown",
   "metadata": {},
   "source": [
    "> People in the mid-years reported more cases of obesity then people in the lower and upper edges. The observation was, however, reversed when the respondents were asked whether they engage in muscle-strenghtening activities at least twice a week. People from the lower edges and upper edges (with respect to age) reported higher percentages than those in the mid-years. Whether these two observations are directly correlated makes for a good research question.\n",
    ">\n",
    "> A higher proportion of lower age adults (18-24) reported to perform either moderate-intensity or vigorous-intensity aerobics at least twice a week. Rather unsurprisingly, the percentage of people in the '65 or older' category who reported to not participate in leisure time physical activity was higher than any other age-group."
   ]
  },
  {
   "cell_type": "code",
   "execution_count": null,
   "metadata": {},
   "outputs": [],
   "source": [
    "fig, axes = plt.subplots(3, 3, figsize=(20, 18), sharey=True, sharex=True)\n",
    "fig.suptitle('Distribution of Values by Age');\n",
    "\n",
    "k = 0\n",
    "for i in range(3):\n",
    "    if k >= questions_df.shape[0]:\n",
    "        break\n",
    "    for j in range(3):\n",
    "        if k >= questions_df.shape[0]:\n",
    "            break\n",
    "        question_id = questions_df.iloc[[k]]['QuestionID'][k]\n",
    "        sns.boxplot(ax=axes[i][j],x='Age(years)', y='Data_Value', data=age_df[age_df['QuestionID']==question_id], whis=[0, 100], width=.6, color='grey')\n",
    "        axes[i][j].set_title(question_id);\n",
    "        k += 1"
   ]
  },
  {
   "cell_type": "markdown",
   "metadata": {},
   "source": [
    "> Again, results for question Q037 were the least spread out\n",
    ">\n",
    "> However, questions Q046 and Q047 exhibited high range of values"
   ]
  },
  {
   "cell_type": "code",
   "execution_count": null,
   "metadata": {},
   "outputs": [],
   "source": [
    "questions_df[questions_df['QuestionID'] == 'Q046']"
   ]
  },
  {
   "cell_type": "code",
   "execution_count": null,
   "metadata": {},
   "outputs": [],
   "source": [
    "questions_df[questions_df['QuestionID'] == 'Q047']"
   ]
  },
  {
   "cell_type": "code",
   "execution_count": null,
   "metadata": {},
   "outputs": [],
   "source": [
    "fig, axes = plt.subplots(3, 3, figsize=(20, 18), sharey=True, sharex=True)\n",
    "fig.suptitle('Classification by Age');\n",
    "\n",
    "k = 0\n",
    "for i in range(3):\n",
    "    if k >= questions_df.shape[0]:\n",
    "        break\n",
    "    for j in range(3):\n",
    "        if k >= questions_df.shape[0]:\n",
    "            break\n",
    "        question_id = questions_df.iloc[[k]]['QuestionID'][k]\n",
    "        sns.violinplot(ax=axes[i][j],x='Age(years)', y='Data_Value', data=age_df[age_df['QuestionID']==question_id], split=True, color='grey');\n",
    "        axes[i][j].set_title(question_id);\n",
    "        k += 1"
   ]
  },
  {
   "cell_type": "markdown",
   "metadata": {},
   "source": [
    "> While answering Q046, respondents in the age group 25-34 were more likely to quote a higher value than any other age group"
   ]
  },
  {
   "cell_type": "markdown",
   "metadata": {},
   "source": [
    "#### Classifiaction by Income"
   ]
  },
  {
   "cell_type": "code",
   "execution_count": null,
   "metadata": {},
   "outputs": [],
   "source": [
    "income_df = atomic_df[atomic_df['StratificationCategory1'] == 'Income']\n",
    "income_df.reset_index(drop=True, inplace=True)\n",
    "income_df.head()"
   ]
  },
  {
   "cell_type": "code",
   "execution_count": null,
   "metadata": {},
   "outputs": [],
   "source": [
    "income_df.shape"
   ]
  },
  {
   "cell_type": "code",
   "execution_count": null,
   "metadata": {},
   "outputs": [],
   "source": [
    "income_df.isnull().sum().sort_values()"
   ]
  },
  {
   "cell_type": "code",
   "execution_count": null,
   "metadata": {},
   "outputs": [],
   "source": [
    "income_df = income_df.drop(['Education', 'Age(years)', 'Race/Ethnicity', 'Data_Value_Footnote', 'Gender', 'StratificationCategory1', 'Stratification1'], axis=1)\n",
    "income_df.head()"
   ]
  },
  {
   "cell_type": "code",
   "execution_count": null,
   "metadata": {},
   "outputs": [],
   "source": [
    "income_df['Income'].unique()"
   ]
  },
  {
   "cell_type": "code",
   "execution_count": null,
   "metadata": {},
   "outputs": [],
   "source": [
    "income_encoding = {'Income': {'Less than $15,000': 0, '$15,000 - $24,999': 1, '$25,000 - $34,999': 2, '$35,000 - $49,999': 3, '$50,000 - $74,999': 4,\n",
    "                                   '$75,000 or greater': 5, 'Data not reported': 6}}\n",
    "income_df = income_df.replace(income_encoding)\n",
    "income_df.head()"
   ]
  },
  {
   "cell_type": "code",
   "execution_count": null,
   "metadata": {},
   "outputs": [],
   "source": [
    "fig, axes = plt.subplots(3, 3, figsize=(20, 18), sharey=True, sharex=True)\n",
    "fig.suptitle('Income classification');\n",
    "\n",
    "k = 0\n",
    "for i in range(3):\n",
    "    if k >= questions_df.shape[0]:\n",
    "        break\n",
    "    for j in range(3):\n",
    "        if k >= questions_df.shape[0]:\n",
    "            break\n",
    "        question_id = questions_df.iloc[[k]]['QuestionID'][k]\n",
    "        sns.barplot(ax=axes[i][j], data=income_df[income_df['QuestionID']==question_id], x='Income', y='Data_Value', color='grey');\n",
    "        axes[i][j].set_title(question_id);\n",
    "        k += 1"
   ]
  },
  {
   "cell_type": "markdown",
   "metadata": {},
   "source": [
    "> Over 30% of people in the lowest income band divluged that they consumed veges less than once daily. This is almost double the percentage of people in the  highest income band who also reported to consume veges less than once daily.\n",
    ">\n",
    "> The same pattern is seen when asked whether they participate in leisure time physical activities. Almost 40% of people in the lowest income band said they don't, compared to only 15% of people in the highest band who do not engage in leisure time physical activities."
   ]
  },
  {
   "cell_type": "code",
   "execution_count": null,
   "metadata": {},
   "outputs": [],
   "source": [
    "fig, axes = plt.subplots(3, 3, figsize=(20, 18), sharey=True, sharex=True)\n",
    "fig.suptitle('Distribution of Values by Income');\n",
    "\n",
    "k = 0\n",
    "for i in range(3):\n",
    "    if k >= questions_df.shape[0]:\n",
    "        break\n",
    "    for j in range(3):\n",
    "        if k >= questions_df.shape[0]:\n",
    "            break\n",
    "        question_id = questions_df.iloc[[k]]['QuestionID'][k]\n",
    "        sns.boxplot(ax=axes[i][j],x='Income', y='Data_Value', data=income_df[income_df['QuestionID']==question_id], whis=[0, 100], width=.6, color='grey')\n",
    "        axes[i][j].set_title(question_id);\n",
    "        k += 1"
   ]
  },
  {
   "cell_type": "markdown",
   "metadata": {},
   "source": [
    "> Question Q037 returned values with the smallest range while the largest range of values was witnessed for question Q047"
   ]
  },
  {
   "cell_type": "code",
   "execution_count": null,
   "metadata": {},
   "outputs": [],
   "source": [
    "questions_df[questions_df['QuestionID'] == 'Q047']"
   ]
  },
  {
   "cell_type": "code",
   "execution_count": null,
   "metadata": {},
   "outputs": [],
   "source": [
    "fig, axes = plt.subplots(3, 3, figsize=(20, 18), sharey=True, sharex=True)\n",
    "fig.suptitle('Classification by Income');\n",
    "\n",
    "k = 0\n",
    "for i in range(3):\n",
    "    if k >= questions_df.shape[0]:\n",
    "        break\n",
    "    for j in range(3):\n",
    "        if k >= questions_df.shape[0]:\n",
    "            break\n",
    "        question_id = questions_df.iloc[[k]]['QuestionID'][k]\n",
    "        sns.violinplot(ax=axes[i][j],x='Income', y='Data_Value', data=income_df[income_df['QuestionID']==question_id], split=True, color='grey');\n",
    "        axes[i][j].set_title(question_id);\n",
    "        k += 1"
   ]
  },
  {
   "cell_type": "markdown",
   "metadata": {},
   "source": [
    "> Despite the differences in income, the responses to the questions follow the same distribution."
   ]
  },
  {
   "cell_type": "markdown",
   "metadata": {},
   "source": [
    "#### Classification by Ethnicity"
   ]
  },
  {
   "cell_type": "code",
   "execution_count": null,
   "metadata": {},
   "outputs": [],
   "source": [
    "race_df = atomic_df[atomic_df['StratificationCategory1'] == 'Race/Ethnicity']\n",
    "race_df.reset_index(drop=True, inplace=True)\n",
    "race_df.head()"
   ]
  },
  {
   "cell_type": "code",
   "execution_count": null,
   "metadata": {},
   "outputs": [],
   "source": [
    "race_df.shape"
   ]
  },
  {
   "cell_type": "code",
   "execution_count": null,
   "metadata": {},
   "outputs": [],
   "source": [
    "race_df.isnull().sum().sort_values()"
   ]
  },
  {
   "cell_type": "code",
   "execution_count": null,
   "metadata": {},
   "outputs": [],
   "source": [
    "race_df = race_df.drop(['Education', 'Age(years)', 'Income', 'Data_Value_Footnote', 'Gender', 'StratificationCategory1', 'Stratification1'], axis=1)\n",
    "race_df.head()"
   ]
  },
  {
   "cell_type": "code",
   "execution_count": null,
   "metadata": {},
   "outputs": [],
   "source": [
    "race_df['Race/Ethnicity'].unique()"
   ]
  },
  {
   "cell_type": "code",
   "execution_count": null,
   "metadata": {},
   "outputs": [],
   "source": [
    "race_encoding = {'Race/Ethnicity': {'Non-Hispanic White': 'NHW', 'Non-Hispanic Black': 'NHB', 'Hispanic': 'HIS', 'Asian': 'ASN', 'Hawaiian/Pacific Islander': 'HPI',\n",
    "                                   'American Indian/Alaska Native': 'AI', '2 or more races': 'TWO', 'Other': 'Other'}}\n",
    "race_df = race_df.replace(race_encoding)\n",
    "race_df.head()"
   ]
  },
  {
   "cell_type": "code",
   "execution_count": null,
   "metadata": {},
   "outputs": [],
   "source": [
    "fig, axes = plt.subplots(3, 3, figsize=(20, 18), sharey=True, sharex=True)\n",
    "fig.suptitle('Classification by Race and Ethnicity');\n",
    "\n",
    "k = 0\n",
    "for i in range(3):\n",
    "    if k >= questions_df.shape[0]:\n",
    "        break\n",
    "    for j in range(3):\n",
    "        if k >= questions_df.shape[0]:\n",
    "            break\n",
    "        question_id = questions_df.iloc[[k]]['QuestionID'][k]\n",
    "        sns.barplot(ax=axes[i][j], data=race_df[race_df['QuestionID']==question_id], x='Race/Ethnicity', y='Data_Value', color='grey');\n",
    "        axes[i][j].set_title(question_id);\n",
    "        k += 1"
   ]
  },
  {
   "cell_type": "markdown",
   "metadata": {},
   "source": [
    "> There was not not much disticntion between the participating ethnic groups, based on how they answered the questions.\n",
    ">\n",
    "> The only conspicuous difference can be seen in Asians, who reported an unbelievably low percentage of obesity cases compared to other ethnic groups."
   ]
  },
  {
   "cell_type": "code",
   "execution_count": null,
   "metadata": {},
   "outputs": [],
   "source": [
    "fig, axes = plt.subplots(3, 3, figsize=(20, 18), sharey=True, sharex=True)\n",
    "fig.suptitle('Distribution of Values by Race and Ethnicity');\n",
    "\n",
    "k = 0\n",
    "for i in range(3):\n",
    "    if k >= questions_df.shape[0]:\n",
    "        break\n",
    "    for j in range(3):\n",
    "        if k >= questions_df.shape[0]:\n",
    "            break\n",
    "        question_id = questions_df.iloc[[k]]['QuestionID'][k]\n",
    "        sns.boxplot(ax=axes[i][j],x='Race/Ethnicity', y='Data_Value', data=race_df[race_df['QuestionID']==question_id], whis=[0, 100], width=.6, color='grey')\n",
    "        axes[i][j].set_title(question_id);\n",
    "        k += 1"
   ]
  },
  {
   "cell_type": "markdown",
   "metadata": {},
   "source": [
    "> The range of values was very narrow for all the questions, and across the participating ethnic groups. Question Q036 witnessed the largest range, with percentages ranging from around 5% to 60%. "
   ]
  },
  {
   "cell_type": "code",
   "execution_count": null,
   "metadata": {},
   "outputs": [],
   "source": [
    "questions_df[questions_df['QuestionID'] == 'Q036']"
   ]
  },
  {
   "cell_type": "code",
   "execution_count": null,
   "metadata": {},
   "outputs": [],
   "source": [
    "fig, axes = plt.subplots(3, 3, figsize=(20, 18), sharey=True, sharex=True)\n",
    "fig.suptitle('Classification by Race/Ethnicity');\n",
    "\n",
    "k = 0\n",
    "for i in range(3):\n",
    "    if k >= questions_df.shape[0]:\n",
    "        break\n",
    "    for j in range(3):\n",
    "        if k >= questions_df.shape[0]:\n",
    "            break\n",
    "        question_id = questions_df.iloc[[k]]['QuestionID'][k]\n",
    "        sns.violinplot(ax=axes[i][j],x='Race/Ethnicity', y='Data_Value', data=race_df[race_df['QuestionID']==question_id], split=True, color='grey');\n",
    "        axes[i][j].set_title(question_id);\n",
    "        k += 1"
   ]
  },
  {
   "cell_type": "markdown",
   "metadata": {},
   "source": [
    "> Question Q036 represents an exit from the norm where values follow the same distribution. The distribution suggests that when asked whether they were obese, most Asians would probably not agree."
   ]
  },
  {
   "cell_type": "markdown",
   "metadata": {},
   "source": [
    "#### Classification by gender"
   ]
  },
  {
   "cell_type": "code",
   "execution_count": null,
   "metadata": {},
   "outputs": [],
   "source": [
    "gender_df = atomic_df[atomic_df['StratificationCategory1'] == 'Gender']\n",
    "gender_df.reset_index(drop=True, inplace=True)\n",
    "gender_df.head()"
   ]
  },
  {
   "cell_type": "code",
   "execution_count": null,
   "metadata": {},
   "outputs": [],
   "source": [
    "gender_df.dtypes"
   ]
  },
  {
   "cell_type": "code",
   "execution_count": null,
   "metadata": {},
   "outputs": [],
   "source": [
    "gender_df.shape"
   ]
  },
  {
   "cell_type": "code",
   "execution_count": null,
   "metadata": {},
   "outputs": [],
   "source": [
    "gender_df.isnull().sum().sort_values()"
   ]
  },
  {
   "cell_type": "code",
   "execution_count": null,
   "metadata": {},
   "outputs": [],
   "source": [
    "gender_df = gender_df.drop(['Age(years)', 'Income', 'Race/Ethnicity', 'Data_Value_Footnote', 'Education', 'StratificationCategory1', 'Stratification1'], axis=1)\n",
    "gender_df.head()"
   ]
  },
  {
   "cell_type": "code",
   "execution_count": null,
   "metadata": {},
   "outputs": [],
   "source": [
    "fig, axes = plt.subplots(3, 3, figsize=(20, 18), sharey=True, sharex=True)\n",
    "fig.suptitle('Gender classification');\n",
    "\n",
    "k = 0\n",
    "for i in range(3):\n",
    "    if k >= questions_df.shape[0]:\n",
    "        break\n",
    "    for j in range(3):\n",
    "        if k >= questions_df.shape[0]:\n",
    "            break\n",
    "        question_id = questions_df.iloc[[k]]['QuestionID'][k]\n",
    "        sns.boxplot(ax=axes[i][j], x='Gender', y='Data_Value', data=gender_df[gender_df['QuestionID']==question_id], whis=[0, 100], width=.6, color='grey')\n",
    "        axes[i][j].set_title(question_id);\n",
    "        k += 1"
   ]
  },
  {
   "cell_type": "markdown",
   "metadata": {},
   "source": [
    "> Question Q047 produced the largest range of values, while question Q037 produced the smallest range."
   ]
  },
  {
   "cell_type": "code",
   "execution_count": null,
   "metadata": {},
   "outputs": [],
   "source": [
    "fig, axes = plt.subplots(3, 3, figsize=(20, 18), sharey=True, sharex=True)\n",
    "fig.suptitle('Gender classification');\n",
    "\n",
    "k = 0\n",
    "for i in range(3):\n",
    "    if k >= questions_df.shape[0]:\n",
    "        break\n",
    "    for j in range(3):\n",
    "        if k >= questions_df.shape[0]:\n",
    "            break\n",
    "        question_id = questions_df.iloc[[k]]['QuestionID'][k]\n",
    "        sns.violinplot(ax=axes[i][j],x='Gender', y='Data_Value', data=gender_df[gender_df['QuestionID']==question_id], color='grey', split=True);\n",
    "        axes[i][j].set_title(question_id);\n",
    "        k += 1"
   ]
  },
  {
   "cell_type": "markdown",
   "metadata": {},
   "source": [
    "> The violin plots suggest that values for males and females followed the same distribution, save for question Q037, for which values reported by males was a little bit higher than that reported by females."
   ]
  },
  {
   "cell_type": "code",
   "execution_count": null,
   "metadata": {},
   "outputs": [],
   "source": [
    "#The question in question is\n",
    "questions_df[questions_df['QuestionID']=='Q037']"
   ]
  },
  {
   "cell_type": "markdown",
   "metadata": {},
   "source": [
    "> This suggests that males, as compared to females, were more probable to admit to being overweight."
   ]
  },
  {
   "cell_type": "code",
   "execution_count": null,
   "metadata": {},
   "outputs": [],
   "source": [
    "fig, axes = plt.subplots(3, 3, figsize=(20, 18), sharey=True, sharex=True)\n",
    "fig.suptitle('Gender classification');\n",
    "\n",
    "k = 0\n",
    "for i in range(3):\n",
    "    if k >= questions_df.shape[0]:\n",
    "        break\n",
    "    for j in range(3):\n",
    "        if k >= questions_df.shape[0]:\n",
    "            break\n",
    "        question_id = questions_df.iloc[[k]]['QuestionID'][k]\n",
    "        sns.barplot(ax=axes[i][j], data=gender_df[gender_df['QuestionID']==question_id], x='Gender', y='Data_Value', color='grey');\n",
    "        axes[i][j].set_title(question_id);\n",
    "        k += 1"
   ]
  },
  {
   "cell_type": "markdown",
   "metadata": {},
   "source": [
    "> A higher percentage of males was found to be overweight than females. However, a higher percentage of females than males disclosed that they consume fruit less than once daily.\n",
    ">\n",
    "> A higher percentage of males than females said they consume veges less than once daily. A higher percentage of males than females also reported to engage in muscle-strenghtening activities at least twice a week."
   ]
  }
 ],
 "metadata": {
  "kernelspec": {
   "display_name": "Python 3",
   "language": "python",
   "name": "python3"
  },
  "language_info": {
   "codemirror_mode": {
    "name": "ipython",
    "version": 3
   },
   "file_extension": ".py",
   "mimetype": "text/x-python",
   "name": "python",
   "nbconvert_exporter": "python",
   "pygments_lexer": "ipython3",
   "version": "3.8.5"
  }
 },
 "nbformat": 4,
 "nbformat_minor": 4
}
