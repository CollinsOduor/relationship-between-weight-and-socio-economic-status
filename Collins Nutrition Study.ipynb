{
 "cells": [
  {
   "cell_type": "code",
   "execution_count": null,
   "metadata": {},
   "outputs": [],
   "source": [
    "#import the necessary libraries\n",
    "\n",
    "import pandas as pd\n",
    "import matplotlib.pyplot as plt\n",
    "import seaborn as sns"
   ]
  },
  {
   "cell_type": "code",
   "execution_count": null,
   "metadata": {},
   "outputs": [],
   "source": [
    "#display the plots inside this environment without having to call show()\n",
    "#set the dataframe options - should show all columns\n",
    "\n",
    "%matplotlib inline\n",
    "pd.set_option('display.max_columns', None)\n",
    "pd.set_option('max_colwidth', None)"
   ]
  },
  {
   "cell_type": "markdown",
   "metadata": {},
   "source": [
    "# Exploratory Analysis"
   ]
  },
  {
   "cell_type": "markdown",
   "metadata": {},
   "source": [
    "> In this section I go through the data with an intention of finding out the structure, distribution and general feel of the data.\n",
    ">\n",
    "> The exploration will be guided by both the data, as well as intuition. For example, I simply do not expect an age of over (say) 150 years - this would mean that the data is not very accurate."
   ]
  },
  {
   "cell_type": "markdown",
   "metadata": {},
   "source": [
    "## Gather"
   ]
  },
  {
   "cell_type": "code",
   "execution_count": null,
   "metadata": {},
   "outputs": [],
   "source": [
    "#load the data onto an on-memory dataframe\n",
    "df = pd.read_csv('Nutrition__Physical_Activity__and_Obesity_-_Behavioral_Risk_Factor_Surveillance_System.csv')"
   ]
  },
  {
   "cell_type": "markdown",
   "metadata": {},
   "source": [
    "## Assess"
   ]
  },
  {
   "cell_type": "markdown",
   "metadata": {},
   "source": [
    "> While assessing the data, I will majorly concentrate on highlighting and correcting data quality issues.\n",
    ">\n",
    "> Any characteristic of the data that might help later in in the analysis will also be noted."
   ]
  },
  {
   "cell_type": "code",
   "execution_count": null,
   "metadata": {},
   "outputs": [],
   "source": [
    "#show five random records from the dataset\n",
    "df.sample(5)"
   ]
  },
  {
   "cell_type": "code",
   "execution_count": null,
   "metadata": {},
   "outputs": [],
   "source": [
    "#print the size of the data\n",
    "df.shape"
   ]
  },
  {
   "cell_type": "markdown",
   "metadata": {},
   "source": [
    "> The dataset has 53392 records and 33 dimensions as represented in the cell above."
   ]
  },
  {
   "cell_type": "code",
   "execution_count": null,
   "metadata": {},
   "outputs": [],
   "source": [
    "#display the columns that the dataset has\n",
    "df.columns"
   ]
  },
  {
   "cell_type": "code",
   "execution_count": null,
   "metadata": {},
   "outputs": [],
   "source": [
    "#a summary of the numerical columns\n",
    "df.describe().transpose()"
   ]
  },
  {
   "cell_type": "markdown",
   "metadata": {},
   "source": [
    "> From the summary it is evident that the study was carried out between 2011 and 2016, as shown by the rangef of YearStart and YearEnd."
   ]
  },
  {
   "cell_type": "markdown",
   "metadata": {},
   "source": [
    "> An important attribute is how much null values there are in the dataset.\n",
    ">\n",
    "> In the cell below, I look at how many null values exist in each column"
   ]
  },
  {
   "cell_type": "code",
   "execution_count": null,
   "metadata": {},
   "outputs": [],
   "source": [
    "# display the null values in each column\n",
    "df.isnull().sum().sort_values()"
   ]
  },
  {
   "cell_type": "markdown",
   "metadata": {},
   "source": [
    "> Columns that have only one unique value can as well be excluded since they do not add much information to the data.\n",
    ">\n",
    "> In the cell below I probe each column to see the number of unique values it contains"
   ]
  },
  {
   "cell_type": "code",
   "execution_count": null,
   "metadata": {},
   "outputs": [],
   "source": [
    "#show the number of unique values each column has\n",
    "for col in df.columns:\n",
    "    print(f'{col} has {df[col].nunique()} unique values')"
   ]
  },
  {
   "cell_type": "markdown",
   "metadata": {},
   "source": [
    "> It is also important to get to know the relationships that exist between the columns early on in the analysis"
   ]
  },
  {
   "cell_type": "code",
   "execution_count": null,
   "metadata": {},
   "outputs": [],
   "source": [
    "#display the relationship of each column against every other column\n",
    "sns.pairplot(df);"
   ]
  },
  {
   "cell_type": "markdown",
   "metadata": {},
   "source": [
    "> (YearStart, YearEnd) and (Data_Value, Data_Value_Alt) have perfect correlation to each other. This means that they are essentially the same data replicated across multiple columns. One of them can be dropped"
   ]
  },
  {
   "cell_type": "code",
   "execution_count": null,
   "metadata": {},
   "outputs": [],
   "source": [
    "#find out the number of duplicated records\n",
    "df.duplicated().sum()"
   ]
  },
  {
   "cell_type": "markdown",
   "metadata": {},
   "source": [
    "> All records in the dataset are unique as shown in the cell above"
   ]
  },
  {
   "cell_type": "markdown",
   "metadata": {},
   "source": [
    "> It is also necessary to understand the data types of the values for each column.\n",
    ">\n",
    "> This is important to know since not all operations can be performed on all data types"
   ]
  },
  {
   "cell_type": "code",
   "execution_count": null,
   "metadata": {},
   "outputs": [],
   "source": [
    "df.dtypes"
   ]
  },
  {
   "cell_type": "markdown",
   "metadata": {},
   "source": [
    "### Issues with data"
   ]
  },
  {
   "cell_type": "markdown",
   "metadata": {},
   "source": [
    "> After some exploration I realized the data has some quality issues, which I will focus on in this section\n",
    ">\n",
    "> By the end of this section I hope that I will have clean and structured data"
   ]
  },
  {
   "cell_type": "markdown",
   "metadata": {},
   "source": [
    "#### Data tidiness"
   ]
  },
  {
   "cell_type": "markdown",
   "metadata": {},
   "source": [
    "> In this subsection, issues of atomicity of data will be higlighted.\n",
    ">\n",
    "> To make for easy analysis, the following guidelines should be adhered to;\n",
    ">\n",
    ">1. Each variable should have its own column\n",
    ">2. Each observation should be a row (no duplicates should exist)\n",
    ">3. Each organizational unit should be a table/dataset\n",
    "\n",
    "> The intention is to separate each dataset on its own, then later bring it together in an organized manner. For example, it does not make for good viewing that location alone is represented with 4 different columns in the same dataset."
   ]
  },
  {
   "cell_type": "markdown",
   "metadata": {},
   "source": [
    "1. The dataset has a semi-dataset that represents questions\n",
    "2. The dataset has a semi-dataset that represents topics\n",
    "3. The dataset has a semi-dataset that represents classes\n",
    "4. The dataset has a semi-dataset that represents locations\n",
    "5. The dataset has a semi-dataset that represents stratifications\n",
    "6. YearStart has a perfect correlation to YearEnd - this could mean that they contain the same values, which then makes one of the columns redundant\n",
    "7. Data_Value has a perfect correlation to Data_Value_Alt"
   ]
  },
  {
   "cell_type": "markdown",
   "metadata": {},
   "source": [
    "#### Data Cleanliness"
   ]
  },
  {
   "cell_type": "markdown",
   "metadata": {},
   "source": [
    "> Columns which have less than 2 unique values really do not add much to our analysis\n",
    ">\n",
    "> All records will most likely have the same value, and so the column can be ignored"
   ]
  },
  {
   "cell_type": "markdown",
   "metadata": {},
   "source": [
    "1. Datasource has 1 unique value\n",
    "2. Data_Value_Unit has 0 unique values - this is due to the fact that the column does not have a single non-null value. It shall be handled as a missing data issue.\n",
    "3. Data_Value_Type has 1 unique value\n",
    "4. Data_Value_Footnote_Symbol has 1 unique value\n",
    "5. Total has 1 unique values"
   ]
  },
  {
   "cell_type": "markdown",
   "metadata": {},
   "source": [
    "#### Missing Data"
   ]
  },
  {
   "cell_type": "markdown",
   "metadata": {},
   "source": [
    "> Missing values could mean that the data is improperly stored, or simply that such data was not captured.\n",
    ">\n",
    "> In this section I highlight issues with missing data."
   ]
  },
  {
   "cell_type": "markdown",
   "metadata": {},
   "source": [
    "1. GeoLocation has 1008 missing values\n",
    "2. Data_Value has 5046 missing values\n",
    "3. Sample_Size has 5046 missing values\n",
    "4. High_Confidence_Limit has 5046 missing values\n",
    "5. Low_Confidence_Limit has 5046 missing values\n",
    "6. Data_Value_Alt has 5046 missing values\n",
    "7. Race/Ethnicity has 38136 missing values\n",
    "8. Income has 40043 missing values\n",
    "9. Age(years) has 41954 missing values\n",
    "10. Education has 45764 missing values\n",
    "11. Data_Value_Footnote has 48346 missing values\n",
    "12. Data_Value_Footnote_Symbol has 48346 missing values\n",
    "13. Gender has 49578 missing values\n",
    "14. Total has 51485 missing values\n",
    "15. Data_Value_Unit has 53392 missing values"
   ]
  },
  {
   "cell_type": "markdown",
   "metadata": {},
   "source": [
    "### Cleaning data"
   ]
  },
  {
   "cell_type": "markdown",
   "metadata": {},
   "source": [
    "> In this section I address the issues outlined above.\n",
    ">\n",
    "> This step will be repetitive, to try and obtain clean and tidy data\n",
    ">\n",
    "> I will detail the problem that I want solved, propose a resolution plan and then implement the plan. As a final step I will test to see that my expectations have been achieved."
   ]
  },
  {
   "cell_type": "markdown",
   "metadata": {},
   "source": [
    "##### Problem Definition"
   ]
  },
  {
   "cell_type": "markdown",
   "metadata": {},
   "source": [
    "The dataset has a semi-dataset that represents questions"
   ]
  },
  {
   "cell_type": "markdown",
   "metadata": {},
   "source": [
    "##### Resolution Plan"
   ]
  },
  {
   "cell_type": "markdown",
   "metadata": {},
   "source": [
    "Create a dataset that contains only information about questions"
   ]
  },
  {
   "cell_type": "markdown",
   "metadata": {},
   "source": [
    "##### Implementation and Testing"
   ]
  },
  {
   "cell_type": "code",
   "execution_count": null,
   "metadata": {},
   "outputs": [],
   "source": [
    "questions_df = df[['QuestionID', 'Question']].drop_duplicates()\n",
    "questions_df.reset_index(drop=True, inplace=True)\n",
    "questions_df.head()"
   ]
  },
  {
   "cell_type": "markdown",
   "metadata": {},
   "source": [
    "> We now have an atomic dataset representing questions alone\n",
    ">\n",
    ">We can use the QuestionID to reference a question in a different table if need be"
   ]
  },
  {
   "cell_type": "code",
   "execution_count": null,
   "metadata": {},
   "outputs": [],
   "source": [
    "questions_df.shape"
   ]
  },
  {
   "cell_type": "markdown",
   "metadata": {},
   "source": [
    "> In total, the the data contains answers to 9 questions, which are listed below\n",
    ">\n",
    "> When cleaning the main table, I will drop the Question description since it is long. However, it a question can still be referenced using the ID"
   ]
  },
  {
   "cell_type": "code",
   "execution_count": null,
   "metadata": {},
   "outputs": [],
   "source": [
    "questions_df"
   ]
  },
  {
   "cell_type": "markdown",
   "metadata": {},
   "source": [
    "##### Problem Definition"
   ]
  },
  {
   "cell_type": "markdown",
   "metadata": {},
   "source": [
    "The dataset has a semi-dataset that represents topics"
   ]
  },
  {
   "cell_type": "markdown",
   "metadata": {},
   "source": [
    "##### Resolution plan"
   ]
  },
  {
   "cell_type": "markdown",
   "metadata": {},
   "source": [
    "Create a dataset that contains only information about topics"
   ]
  },
  {
   "cell_type": "markdown",
   "metadata": {},
   "source": [
    "##### Implementation and Testing"
   ]
  },
  {
   "cell_type": "code",
   "execution_count": null,
   "metadata": {},
   "outputs": [],
   "source": [
    "topics_df = df[['TopicID', 'Topic']].drop_duplicates()\n",
    "topics_df.reset_index(drop=True, inplace=True)\n",
    "topics_df.head()"
   ]
  },
  {
   "cell_type": "code",
   "execution_count": null,
   "metadata": {},
   "outputs": [],
   "source": [
    "topics_df.shape"
   ]
  },
  {
   "cell_type": "markdown",
   "metadata": {},
   "source": [
    "> Now topics have their own table, and can be referenced using the ID - which can remain in the main table as a foreign key"
   ]
  },
  {
   "cell_type": "markdown",
   "metadata": {},
   "source": [
    "##### Problem Definition"
   ]
  },
  {
   "cell_type": "markdown",
   "metadata": {},
   "source": [
    "The dataset has a semi-dataset that represents classes"
   ]
  },
  {
   "cell_type": "markdown",
   "metadata": {},
   "source": [
    "##### Resolution Plan"
   ]
  },
  {
   "cell_type": "markdown",
   "metadata": {},
   "source": [
    "Create a dataset that contains only information about classes"
   ]
  },
  {
   "cell_type": "markdown",
   "metadata": {},
   "source": [
    "##### Implementation and Testing"
   ]
  },
  {
   "cell_type": "code",
   "execution_count": null,
   "metadata": {},
   "outputs": [],
   "source": [
    "classes_df = df[['ClassID', 'Class']].drop_duplicates()\n",
    "classes_df.reset_index(drop=True, inplace=True)\n",
    "classes_df.head()"
   ]
  },
  {
   "cell_type": "code",
   "execution_count": null,
   "metadata": {},
   "outputs": [],
   "source": [
    "classes_df.shape"
   ]
  },
  {
   "cell_type": "markdown",
   "metadata": {},
   "source": [
    "> It is becoming clear that classes and topics could be very related.\n",
    ">\n",
    "> This means that our initial dataset had 4 columns(Class, ClassID, Topic and TopicID) representing the same dimension."
   ]
  },
  {
   "cell_type": "code",
   "execution_count": null,
   "metadata": {},
   "outputs": [],
   "source": [
    "# df[((df['Class'] == 'Obesity/Weight Status') and (df['Topic'] == 'Obesity/Weight Status'))\n",
    "#    or ((df['Class'] == 'Fruits and Vegetables - Behavior') and (df['Topic'] == 'Fruits and Vegentables'))\n",
    "#   or ((df['Class'] == 'Physical Activity - Behavior') and (df['Topic'] == 'Physical Activity'))].sum()"
   ]
  },
  {
   "cell_type": "code",
   "execution_count": null,
   "metadata": {},
   "outputs": [],
   "source": []
  },
  {
   "cell_type": "markdown",
   "metadata": {},
   "source": [
    "##### Problem Definition"
   ]
  },
  {
   "cell_type": "markdown",
   "metadata": {},
   "source": [
    "The dataset has a semi-dataset that represents locations"
   ]
  },
  {
   "cell_type": "markdown",
   "metadata": {},
   "source": [
    "##### Resolution Plan"
   ]
  },
  {
   "cell_type": "markdown",
   "metadata": {},
   "source": [
    "Create a dataset that contains only information about location"
   ]
  },
  {
   "cell_type": "markdown",
   "metadata": {},
   "source": [
    "##### Implementation and Testing"
   ]
  },
  {
   "cell_type": "code",
   "execution_count": null,
   "metadata": {},
   "outputs": [],
   "source": [
    "location_df = df[['LocationID', 'LocationAbbr', 'GeoLocation', 'LocationDesc']].drop_duplicates()\n",
    "location_df.reset_index(drop=True, inplace=True)\n",
    "location_df.head()"
   ]
  },
  {
   "cell_type": "code",
   "execution_count": null,
   "metadata": {},
   "outputs": [],
   "source": [
    "location_df.shape"
   ]
  },
  {
   "cell_type": "markdown",
   "metadata": {},
   "source": [
    "> The data containing information about different locations is now in its own dataframe. Redundant columns can now be dropped from the main dataframe"
   ]
  },
  {
   "cell_type": "code",
   "execution_count": null,
   "metadata": {},
   "outputs": [],
   "source": []
  },
  {
   "cell_type": "markdown",
   "metadata": {},
   "source": [
    "##### Problem Definition"
   ]
  },
  {
   "cell_type": "markdown",
   "metadata": {},
   "source": [
    "The dataset contains a semi-dataset the represents information on how stratification was done"
   ]
  },
  {
   "cell_type": "markdown",
   "metadata": {},
   "source": [
    "##### Resolution Plan"
   ]
  },
  {
   "cell_type": "markdown",
   "metadata": {},
   "source": [
    "Create a dataset that contains only information about stratification"
   ]
  },
  {
   "cell_type": "markdown",
   "metadata": {},
   "source": [
    "##### Implementation and Testing"
   ]
  },
  {
   "cell_type": "code",
   "execution_count": null,
   "metadata": {},
   "outputs": [],
   "source": [
    "stratification_df = df[['Stratification1', 'StratificationID1']].drop_duplicates()\n",
    "stratification_df.reset_index(drop=True, inplace=True)\n",
    "\n",
    "categories_df = df[['StratificationCategory1', 'StratificationCategoryId1']].drop_duplicates()\n",
    "categories_df.reset_index(drop=True, inplace=True)"
   ]
  },
  {
   "cell_type": "code",
   "execution_count": null,
   "metadata": {},
   "outputs": [],
   "source": [
    "stratification_df.head()"
   ]
  },
  {
   "cell_type": "code",
   "execution_count": null,
   "metadata": {},
   "outputs": [],
   "source": [
    "categories_df.head()"
   ]
  },
  {
   "cell_type": "code",
   "execution_count": null,
   "metadata": {},
   "outputs": [],
   "source": [
    "stratification_df.shape"
   ]
  },
  {
   "cell_type": "code",
   "execution_count": null,
   "metadata": {},
   "outputs": [],
   "source": [
    "categories_df.shape"
   ]
  },
  {
   "cell_type": "code",
   "execution_count": null,
   "metadata": {},
   "outputs": [],
   "source": [
    "categories_df"
   ]
  },
  {
   "cell_type": "markdown",
   "metadata": {},
   "source": [
    "> The data containing information about categories is now in their own dataframes. Redundant columns can now be dropped from the main dataframe"
   ]
  },
  {
   "cell_type": "code",
   "execution_count": null,
   "metadata": {},
   "outputs": [],
   "source": []
  },
  {
   "cell_type": "markdown",
   "metadata": {},
   "source": [
    "##### Problem Definition"
   ]
  },
  {
   "cell_type": "markdown",
   "metadata": {},
   "source": [
    "Some columns in the dataset have less than 2 unique values"
   ]
  },
  {
   "cell_type": "markdown",
   "metadata": {},
   "source": [
    "##### Resolution Plan"
   ]
  },
  {
   "cell_type": "markdown",
   "metadata": {},
   "source": [
    "Exclude from the dataset columns which have at most 1 unique value"
   ]
  },
  {
   "cell_type": "markdown",
   "metadata": {},
   "source": [
    "##### Implementation and Testing"
   ]
  },
  {
   "cell_type": "code",
   "execution_count": null,
   "metadata": {},
   "outputs": [],
   "source": [
    "df_clean = df.drop(['Datasource', 'Data_Value_Unit', 'Data_Value_Type', 'Data_Value_Footnote_Symbol', 'Total', 'DataValueTypeID'], axis=1)\n",
    "df_clean.sample(4)"
   ]
  },
  {
   "cell_type": "code",
   "execution_count": null,
   "metadata": {},
   "outputs": [],
   "source": [
    "df_clean.shape"
   ]
  },
  {
   "cell_type": "code",
   "execution_count": null,
   "metadata": {},
   "outputs": [],
   "source": [
    "for col in df_clean.columns:\n",
    "    print(f'{col} has {df_clean[col].nunique()} unique values')"
   ]
  },
  {
   "cell_type": "markdown",
   "metadata": {},
   "source": [
    "> The main dataframe now only contains columns which can be used for some type of grouping, and this can improve the analysis"
   ]
  },
  {
   "cell_type": "code",
   "execution_count": null,
   "metadata": {},
   "outputs": [],
   "source": []
  },
  {
   "cell_type": "markdown",
   "metadata": {},
   "source": [
    "##### Problem Definition"
   ]
  },
  {
   "cell_type": "markdown",
   "metadata": {},
   "source": [
    "The dataset contains information that describes different observations"
   ]
  },
  {
   "cell_type": "markdown",
   "metadata": {},
   "source": [
    "##### Resolution Plan"
   ]
  },
  {
   "cell_type": "markdown",
   "metadata": {},
   "source": [
    "Exclude information that describe location, categories, classes, topics and questions - only leave IDs which can be used for referencing if there is need"
   ]
  },
  {
   "cell_type": "markdown",
   "metadata": {},
   "source": [
    "##### Implementation and Testing"
   ]
  },
  {
   "cell_type": "code",
   "execution_count": null,
   "metadata": {},
   "outputs": [],
   "source": [
    "atomic_df = df_clean.drop(['LocationID', 'LocationDesc', 'GeoLocation', 'StratificationID1', 'StratificationCategoryId1', 'Class', 'Topic', 'Question', 'TopicID'], axis=1)\n",
    "atomic_df.sample(4)"
   ]
  },
  {
   "cell_type": "code",
   "execution_count": null,
   "metadata": {},
   "outputs": [],
   "source": [
    "atomic_df.shape"
   ]
  },
  {
   "cell_type": "markdown",
   "metadata": {},
   "source": [
    "> The atomic dataframe now obeys one of the laws of atomicity - each variable is represented by one column. A direct result of this is the sharp reduction in the dimensions of the dataset"
   ]
  },
  {
   "cell_type": "code",
   "execution_count": null,
   "metadata": {},
   "outputs": [],
   "source": []
  },
  {
   "cell_type": "markdown",
   "metadata": {},
   "source": [
    "##### Problem Definition"
   ]
  },
  {
   "cell_type": "markdown",
   "metadata": {},
   "source": [
    "YearStart has a perfect correlation to YearEnd"
   ]
  },
  {
   "cell_type": "markdown",
   "metadata": {},
   "source": [
    "##### Resolution Plan"
   ]
  },
  {
   "cell_type": "markdown",
   "metadata": {},
   "source": [
    "Drop one of YearStart and YearEnd, then rename the remaining column as simply Year"
   ]
  },
  {
   "cell_type": "markdown",
   "metadata": {},
   "source": [
    "##### Implementation and Testing"
   ]
  },
  {
   "cell_type": "code",
   "execution_count": null,
   "metadata": {},
   "outputs": [],
   "source": [
    "atomic_df = atomic_df.drop(['YearEnd'], axis=1)\n",
    "atomic_df.rename(columns={'YearStart': 'Year'}, inplace=True)\n",
    "atomic_df.head()"
   ]
  },
  {
   "cell_type": "markdown",
   "metadata": {},
   "source": [
    "> This result has also resulted in the reduction of 1 dimension"
   ]
  },
  {
   "cell_type": "code",
   "execution_count": null,
   "metadata": {},
   "outputs": [],
   "source": []
  },
  {
   "cell_type": "markdown",
   "metadata": {},
   "source": [
    "##### Problem Definition"
   ]
  },
  {
   "cell_type": "markdown",
   "metadata": {},
   "source": [
    "Data_Value has a perfect correlation to Data_Value_Alt"
   ]
  },
  {
   "cell_type": "markdown",
   "metadata": {},
   "source": [
    "##### Resolution Plan"
   ]
  },
  {
   "cell_type": "markdown",
   "metadata": {},
   "source": [
    "Drop one of Data_Value and Data_Value_Alt"
   ]
  },
  {
   "cell_type": "markdown",
   "metadata": {},
   "source": [
    "##### Implementation and Testing"
   ]
  },
  {
   "cell_type": "code",
   "execution_count": null,
   "metadata": {},
   "outputs": [],
   "source": [
    "atomic_df = atomic_df.drop(['Data_Value_Alt'], axis=1)\n",
    "atomic_df.head()"
   ]
  },
  {
   "cell_type": "code",
   "execution_count": null,
   "metadata": {},
   "outputs": [],
   "source": [
    "atomic_df.shape"
   ]
  },
  {
   "cell_type": "markdown",
   "metadata": {},
   "source": [
    "> 1 unnecessary dimension has also been removed from the data"
   ]
  },
  {
   "cell_type": "code",
   "execution_count": null,
   "metadata": {},
   "outputs": [],
   "source": []
  },
  {
   "cell_type": "code",
   "execution_count": null,
   "metadata": {},
   "outputs": [],
   "source": [
    "atomic_df.isnull().sum().sort_values()"
   ]
  },
  {
   "cell_type": "code",
   "execution_count": null,
   "metadata": {},
   "outputs": [],
   "source": [
    "atomic_df.dtypes"
   ]
  },
  {
   "cell_type": "code",
   "execution_count": null,
   "metadata": {},
   "outputs": [],
   "source": [
    "atomic_df['Data_Value_Footnote'].unique()"
   ]
  },
  {
   "cell_type": "code",
   "execution_count": null,
   "metadata": {},
   "outputs": [],
   "source": [
    "atomic_df['Data_Value_Footnote'].value_counts()"
   ]
  },
  {
   "cell_type": "code",
   "execution_count": null,
   "metadata": {},
   "outputs": [],
   "source": []
  },
  {
   "cell_type": "markdown",
   "metadata": {},
   "source": [
    "> Looking at the stratification column, it seems as though information about Age, Income, Race and Gender are encoded in long form.\n",
    ">\n",
    "> It now begins to make sense why such important indicators have numerous null values"
   ]
  },
  {
   "cell_type": "code",
   "execution_count": null,
   "metadata": {},
   "outputs": [],
   "source": []
  },
  {
   "cell_type": "code",
   "execution_count": null,
   "metadata": {},
   "outputs": [],
   "source": [
    "atomic_df['StratificationCategory1'].unique()"
   ]
  },
  {
   "cell_type": "markdown",
   "metadata": {},
   "source": [
    "> It is also worth noting that the the values encoded in the StratificationCategory1 column are exactly the same columns that had so many null values\n",
    ">\n",
    "> I will extract each stratitification category individually and perform analysis independently, since it seems that the dataset is just a concatenation of other smaller datasets."
   ]
  },
  {
   "cell_type": "markdown",
   "metadata": {},
   "source": [
    "#### Education Dataset"
   ]
  },
  {
   "cell_type": "markdown",
   "metadata": {},
   "source": [
    "> I begin by isolating data that was stratified by education"
   ]
  },
  {
   "cell_type": "code",
   "execution_count": null,
   "metadata": {},
   "outputs": [],
   "source": [
    "education_df = atomic_df[atomic_df['StratificationCategory1'] == 'Education']\n",
    "education_df.reset_index(drop=True, inplace=True)\n",
    "education_df.head()"
   ]
  },
  {
   "cell_type": "code",
   "execution_count": null,
   "metadata": {},
   "outputs": [],
   "source": [
    "education_df.shape"
   ]
  },
  {
   "cell_type": "code",
   "execution_count": null,
   "metadata": {},
   "outputs": [],
   "source": [
    "education_df.isnull().sum().sort_values()"
   ]
  },
  {
   "cell_type": "markdown",
   "metadata": {},
   "source": [
    "> The columns 'Age(years)', 'Income', 'Race/Ethnicity', 'Data_Value_Footnote' and 'Gender' have no use remaining in the dataset, since they contain 100% null values\n",
    ">\n",
    "> Also, the stratification columns can be ignored since they contain the same information"
   ]
  },
  {
   "cell_type": "code",
   "execution_count": null,
   "metadata": {},
   "outputs": [],
   "source": [
    "education_df = education_df.drop(['Age(years)', 'Income', 'Race/Ethnicity', 'Data_Value_Footnote', 'Gender', 'StratificationCategory1', 'Stratification1'], axis=1)\n",
    "education_df.head()"
   ]
  },
  {
   "cell_type": "code",
   "execution_count": null,
   "metadata": {},
   "outputs": [],
   "source": [
    "education_df.groupby(['QuestionID', 'Education'])['Data_Value'].describe().transpose()"
   ]
  },
  {
   "cell_type": "code",
   "execution_count": null,
   "metadata": {},
   "outputs": [],
   "source": [
    "education_df['Education'].unique()"
   ]
  },
  {
   "cell_type": "code",
   "execution_count": null,
   "metadata": {},
   "outputs": [],
   "source": [
    "education_encoding = {'Education': {'Less than high school': 0, 'High school graduate': 1, 'Some college or technical school': 2, 'College graduate': 3}}\n",
    "education_df = education_df.replace(education_encoding)\n",
    "education_df.head()"
   ]
  },
  {
   "cell_type": "code",
   "execution_count": null,
   "metadata": {},
   "outputs": [],
   "source": [
    "fig, axes = plt.subplots(3, 3, figsize=(20, 18), sharey=True, sharex=True)\n",
    "fig.suptitle('Classification by Education');\n",
    "\n",
    "k = 0\n",
    "for i in range(3):\n",
    "    if k >= questions_df.shape[0]:\n",
    "        break\n",
    "    for j in range(3):\n",
    "        if k >= questions_df.shape[0]:\n",
    "            break\n",
    "        question_id = questions_df.iloc[[k]]['QuestionID'][k]\n",
    "        sns.barplot(ax=axes[i][j], data=education_df[education_df['QuestionID']==question_id], x='Education', y='Data_Value', color='grey');\n",
    "        axes[i][j].set_title(question_id);\n",
    "        k += 1"
   ]
  },
  {
   "cell_type": "markdown",
   "metadata": {},
   "source": [
    "> College graduates reported the least percentage of people who had obesity, while those with less than high education reported the highest percentages of people with obesity\n",
    ">\n",
    "> However, there seemed to be no clear disparity among people of the different levels of education by their overweight classification. In fact, college graduates reported slighlty higher percentages of overweight status.\n",
    ">\n",
    "> It is somewhat confounding that more college graduates confessed to be consuming fruits less than once daily than those from all the other levels of education. On the flipside, around 30% of people with less than high school education revealed that they consume veges less than once daily - almost twice the percentage of college graduates who reported to consume veges less than once daily.\n",
    ">\n",
    "> People with at least a college degree are also more likely to engage in moderate intensity or vigorous-intensity aerobics, although those with less than high school education were more likely to engage in leisure-time physical activity."
   ]
  },
  {
   "cell_type": "code",
   "execution_count": null,
   "metadata": {},
   "outputs": [],
   "source": [
    "sns.pairplot(education_df, hue='Education');"
   ]
  },
  {
   "cell_type": "markdown",
   "metadata": {},
   "source": [
    "> Data values do not show any correlation to education level. Values for all education levels occur all across the spectrum."
   ]
  },
  {
   "cell_type": "code",
   "execution_count": null,
   "metadata": {},
   "outputs": [],
   "source": [
    "plt.figure(figsize=(20, 15));\n",
    "sns.boxplot(x=\"QuestionID\", y=\"Data_Value\", data=education_df, hue='Education', whis=[0, 100], width=.6)\n",
    "plt.title('\\nHow repondents performed on different questions based on education\\n');\n",
    "plt.xlabel('Questions');\n",
    "plt.ylabel('Values');"
   ]
  },
  {
   "cell_type": "markdown",
   "metadata": {},
   "source": [
    "> Q043 witnessed the widest range of values, denoting the big difference in responses. On the other hand, values for Q037 were almost similar across the different \n",
    "education levels"
   ]
  },
  {
   "cell_type": "code",
   "execution_count": null,
   "metadata": {},
   "outputs": [],
   "source": [
    "questions_df[questions_df['QuestionID'] == 'Q043']"
   ]
  },
  {
   "cell_type": "code",
   "execution_count": null,
   "metadata": {},
   "outputs": [],
   "source": [
    "questions_df[questions_df['QuestionID'] == 'Q037']"
   ]
  },
  {
   "cell_type": "markdown",
   "metadata": {},
   "source": [
    "#### Stratitification by Age"
   ]
  },
  {
   "cell_type": "code",
   "execution_count": null,
   "metadata": {},
   "outputs": [],
   "source": [
    "age_df = atomic_df[atomic_df['StratificationCategory1'] == 'Age (years)']\n",
    "age_df.reset_index(drop=True, inplace=True)\n",
    "age_df.head()"
   ]
  },
  {
   "cell_type": "code",
   "execution_count": null,
   "metadata": {},
   "outputs": [],
   "source": [
    "age_df.shape"
   ]
  },
  {
   "cell_type": "code",
   "execution_count": null,
   "metadata": {},
   "outputs": [],
   "source": [
    "age_df.isnull().sum().sort_values()"
   ]
  },
  {
   "cell_type": "markdown",
   "metadata": {},
   "source": [
    "> As with the education dataframe, the other stratification columns need to be removed since they do not contain any information."
   ]
  },
  {
   "cell_type": "code",
   "execution_count": null,
   "metadata": {},
   "outputs": [],
   "source": [
    "age_df = age_df.drop(['Education', 'Income', 'Race/Ethnicity', 'Data_Value_Footnote', 'Gender', 'StratificationCategory1', 'Stratification1'], axis=1)\n",
    "age_df.head()"
   ]
  },
  {
   "cell_type": "code",
   "execution_count": null,
   "metadata": {},
   "outputs": [],
   "source": [
    "#Showing 9 subplots side by side, one for each question in the questions dataset and examining how people of different ages respond to them\n",
    "#Bar plots are generally used to compare categorical data - in this case, how responses to the questions vary by age groups\n",
    "\n",
    "fig, axes = plt.subplots(3, 3, figsize=(20, 18), sharey=True, sharex=True) #define the figure and axis that will be used for plotting\n",
    "fig.suptitle('Classification by Age');\n",
    "\n",
    "k = 0 # I used this variable to ensure that the plot does not burst the size questions, and plot a non existent dimension. Doing so will definitely throw an error\n",
    "for i in range(3): # Lopping over 3 times, for the 3 rows in the subplots matrix\n",
    "    if k >= questions_df.shape[0]: # stop the looping if all questions have been encountered\n",
    "        break\n",
    "    for j in range(3): # loop over each column in the subplot matrix\n",
    "        if k >= questions_df.shape[0]: # stop the looping if all questions have been encountered\n",
    "            break\n",
    "        question_id = questions_df.iloc[[k]]['QuestionID'][k] #retrieve the ID of the each question, and assign it to the varibale question_id\n",
    "        sns.barplot(ax=axes[i][j], data=age_df[age_df['QuestionID']==question_id], x='Age(years)', y='Data_Value', color='grey'); # draw the bar plot\n",
    "        axes[i][j].set_title(question_id); # set the title of the subplot as the question ID\n",
    "        k += 1 # increment 1, to ensure that the computation does not sink into an infinite loop"
   ]
  },
  {
   "cell_type": "markdown",
   "metadata": {},
   "source": [
    "> People in the mid-years reported more cases of obesity then people in the lower and upper edges. The observation was, however, reversed when the respondents were asked whether they engage in muscle-strenghtening activities at least twice a week. People from the lower edges and upper edges (with respect to age) reported higher percentages than those in the mid-years. Whether these two observations are directly correlated makes for a good research question.\n",
    ">\n",
    "> A higher proportion of lower age adults (18-24) reported to perform either moderate-intensity or vigorous-intensity aerobics at least twice a week. Rather unsurprisingly, the percentage of people in the '65 or older' category who reported to not participate in leisure time physical activity was higher than any other age-group."
   ]
  },
  {
   "cell_type": "code",
   "execution_count": null,
   "metadata": {},
   "outputs": [],
   "source": [
    "plt.figure(figsize=(20, 15));\n",
    "sns.boxplot(x=\"QuestionID\", y=\"Data_Value\", data=age_df, hue='Age(years)', whis=[0, 100], width=.6)\n",
    "plt.title('\\nHow repondents performed on different questions based on age groups\\n');\n",
    "plt.xlabel('Questions');\n",
    "plt.ylabel('Values');"
   ]
  },
  {
   "cell_type": "markdown",
   "metadata": {},
   "source": [
    "> Question Q043 elicited almost similar responses from people in all the age groups.\n",
    ">\n",
    "> Conversely, a higher percentage of older people agreed to question Q047 than people in younger age groups"
   ]
  },
  {
   "cell_type": "code",
   "execution_count": null,
   "metadata": {},
   "outputs": [],
   "source": [
    "questions_df[questions_df['QuestionID'] == 'Q043']"
   ]
  },
  {
   "cell_type": "code",
   "execution_count": null,
   "metadata": {},
   "outputs": [],
   "source": [
    "questions_df[questions_df['QuestionID'] == 'Q047']"
   ]
  },
  {
   "cell_type": "markdown",
   "metadata": {},
   "source": [
    "#### Classifiaction by Income"
   ]
  },
  {
   "cell_type": "code",
   "execution_count": null,
   "metadata": {},
   "outputs": [],
   "source": [
    "income_df = atomic_df[atomic_df['StratificationCategory1'] == 'Income']\n",
    "income_df.reset_index(drop=True, inplace=True)\n",
    "income_df.head()"
   ]
  },
  {
   "cell_type": "code",
   "execution_count": null,
   "metadata": {},
   "outputs": [],
   "source": [
    "income_df.shape"
   ]
  },
  {
   "cell_type": "code",
   "execution_count": null,
   "metadata": {},
   "outputs": [],
   "source": [
    "income_df.isnull().sum().sort_values()"
   ]
  },
  {
   "cell_type": "code",
   "execution_count": null,
   "metadata": {},
   "outputs": [],
   "source": [
    "income_df = income_df.drop(['Education', 'Age(years)', 'Race/Ethnicity', 'Data_Value_Footnote', 'Gender', 'StratificationCategory1', 'Stratification1'], axis=1)\n",
    "income_df.head()"
   ]
  },
  {
   "cell_type": "code",
   "execution_count": null,
   "metadata": {},
   "outputs": [],
   "source": [
    "income_df['Income'].unique()"
   ]
  },
  {
   "cell_type": "code",
   "execution_count": null,
   "metadata": {},
   "outputs": [],
   "source": [
    "income_encoding = {'Income': {'Less than $15,000': 0, '$15,000 - $24,999': 1, '$25,000 - $34,999': 2, '$35,000 - $49,999': 3, '$50,000 - $74,999': 4,\n",
    "                                   '$75,000 or greater': 5, 'Data not reported': 6}}\n",
    "income_df = income_df.replace(income_encoding)\n",
    "income_df.head()"
   ]
  },
  {
   "cell_type": "code",
   "execution_count": null,
   "metadata": {},
   "outputs": [],
   "source": [
    "fig, axes = plt.subplots(3, 3, figsize=(20, 18), sharey=True, sharex=True)\n",
    "fig.suptitle('Income classification');\n",
    "\n",
    "k = 0\n",
    "for i in range(3):\n",
    "    if k >= questions_df.shape[0]:\n",
    "        break\n",
    "    for j in range(3):\n",
    "        if k >= questions_df.shape[0]:\n",
    "            break\n",
    "        question_id = questions_df.iloc[[k]]['QuestionID'][k]\n",
    "        sns.barplot(ax=axes[i][j], data=income_df[income_df['QuestionID']==question_id], x='Income', y='Data_Value', color='grey');\n",
    "        axes[i][j].set_title(question_id);\n",
    "        k += 1"
   ]
  },
  {
   "cell_type": "markdown",
   "metadata": {},
   "source": [
    "> Over 30% of people in the lowest income band divluged that they consumed veges less than once daily. This is almost double the percentage of people in the  highest income band who also reported to consume veges less than once daily.\n",
    ">\n",
    "> The same pattern is seen when asked whether they participate in leisure time physical activities. Almost 40% of people in the lowest income band said they don't, compared to only 15% of people in the highest band who do not engage in leisure time physical activities."
   ]
  },
  {
   "cell_type": "code",
   "execution_count": null,
   "metadata": {},
   "outputs": [],
   "source": [
    "plt.figure(figsize=(20, 15));\n",
    "sns.boxplot(x=\"QuestionID\", y=\"Data_Value\", data=income_df, hue='Income', whis=[0, 100], width=.6)\n",
    "plt.title('\\nHow repondents performed on different questions based on income\\n');\n",
    "plt.xlabel('Questions');\n",
    "plt.ylabel('Values');"
   ]
  },
  {
   "cell_type": "markdown",
   "metadata": {},
   "source": [
    "> Almost all but questions Q019 and Q047 returned similar percentages"
   ]
  },
  {
   "cell_type": "code",
   "execution_count": null,
   "metadata": {},
   "outputs": [],
   "source": [
    "questions_df[questions_df['QuestionID'] == 'Q019']"
   ]
  },
  {
   "cell_type": "code",
   "execution_count": null,
   "metadata": {},
   "outputs": [],
   "source": [
    "questions_df[questions_df['QuestionID'] == 'Q047']"
   ]
  },
  {
   "cell_type": "markdown",
   "metadata": {},
   "source": [
    "#### Classification by Ethnicity"
   ]
  },
  {
   "cell_type": "code",
   "execution_count": null,
   "metadata": {},
   "outputs": [],
   "source": [
    "race_df = atomic_df[atomic_df['StratificationCategory1'] == 'Race/Ethnicity']\n",
    "race_df.reset_index(drop=True, inplace=True)\n",
    "race_df.head()"
   ]
  },
  {
   "cell_type": "code",
   "execution_count": null,
   "metadata": {},
   "outputs": [],
   "source": [
    "race_df.shape"
   ]
  },
  {
   "cell_type": "code",
   "execution_count": null,
   "metadata": {},
   "outputs": [],
   "source": [
    "race_df.isnull().sum().sort_values()"
   ]
  },
  {
   "cell_type": "code",
   "execution_count": null,
   "metadata": {},
   "outputs": [],
   "source": [
    "race_df = race_df.drop(['Education', 'Age(years)', 'Income', 'Data_Value_Footnote', 'Gender', 'StratificationCategory1', 'Stratification1'], axis=1)\n",
    "race_df.head()"
   ]
  },
  {
   "cell_type": "code",
   "execution_count": null,
   "metadata": {},
   "outputs": [],
   "source": [
    "race_df['Race/Ethnicity'].unique()"
   ]
  },
  {
   "cell_type": "code",
   "execution_count": null,
   "metadata": {},
   "outputs": [],
   "source": [
    "race_encoding = {'Race/Ethnicity': {'Non-Hispanic White': 0, 'Non-Hispanic Black': 1, 'Hispanic': 2, 'Asian': 3, 'Hawaiian/Pacific Islander': 4,\n",
    "                                   'American Indian/Alaska Native': 5, '2 or more races': 6, 'Other': 7}}\n",
    "race_df = race_df.replace(race_encoding)\n",
    "race_df.head()"
   ]
  },
  {
   "cell_type": "code",
   "execution_count": null,
   "metadata": {},
   "outputs": [],
   "source": [
    "fig, axes = plt.subplots(3, 3, figsize=(20, 18), sharey=True, sharex=True)\n",
    "fig.suptitle('Classification by Race and Ethnicity');\n",
    "\n",
    "k = 0\n",
    "for i in range(3):\n",
    "    if k >= questions_df.shape[0]:\n",
    "        break\n",
    "    for j in range(3):\n",
    "        if k >= questions_df.shape[0]:\n",
    "            break\n",
    "        question_id = questions_df.iloc[[k]]['QuestionID'][k]\n",
    "        sns.barplot(ax=axes[i][j], data=race_df[race_df['QuestionID']==question_id], x='Race/Ethnicity', y='Data_Value', color='grey');\n",
    "        axes[i][j].set_title(question_id);\n",
    "        k += 1"
   ]
  },
  {
   "cell_type": "markdown",
   "metadata": {},
   "source": [
    "> There was not not much disticntion between the participating ethnic groups, based on how they answered the questions.\n",
    ">\n",
    "> The only conspicuous difference can be seen in Asians, who reported an unbelievably low percentage of obesity cases compared to other ethnic groups."
   ]
  },
  {
   "cell_type": "code",
   "execution_count": null,
   "metadata": {},
   "outputs": [],
   "source": [
    "plt.figure(figsize=(20, 15));\n",
    "sns.boxplot(x=\"QuestionID\", y=\"Data_Value\", data=race_df, hue='Race/Ethnicity', whis=[0, 100], width=.6)\n",
    "plt.title('\\nHow repondents performed on different questions based on race\\n');\n",
    "plt.xlabel('Questions');\n",
    "plt.ylabel('Values');"
   ]
  },
  {
   "cell_type": "markdown",
   "metadata": {},
   "source": [
    "> The participating races answered all the questions almost similarly. The only difference being question Q036 which had one ethnic group reporting a much lower percentage than the other ethnic groups."
   ]
  },
  {
   "cell_type": "code",
   "execution_count": null,
   "metadata": {},
   "outputs": [],
   "source": [
    "questions_df[questions_df['QuestionID'] == 'Q036']"
   ]
  },
  {
   "cell_type": "code",
   "execution_count": null,
   "metadata": {},
   "outputs": [],
   "source": [
    "keys = list(race_encoding['Race/Ethnicity'].keys())\n",
    "vals = list(race_encoding['Race/Ethnicity'].values())\n",
    "print(keys[vals.index(3)])"
   ]
  },
  {
   "cell_type": "markdown",
   "metadata": {},
   "source": [
    "> Asians reported remarkedly lower obesity percentages than the other ethnic groups"
   ]
  },
  {
   "cell_type": "markdown",
   "metadata": {},
   "source": [
    "#### Classification by gender"
   ]
  },
  {
   "cell_type": "code",
   "execution_count": null,
   "metadata": {},
   "outputs": [],
   "source": [
    "gender_df = atomic_df[atomic_df['StratificationCategory1'] == 'Gender']\n",
    "gender_df.reset_index(drop=True, inplace=True)\n",
    "gender_df.head()"
   ]
  },
  {
   "cell_type": "code",
   "execution_count": null,
   "metadata": {},
   "outputs": [],
   "source": [
    "gender_df.dtypes"
   ]
  },
  {
   "cell_type": "code",
   "execution_count": null,
   "metadata": {},
   "outputs": [],
   "source": [
    "gender_df.shape"
   ]
  },
  {
   "cell_type": "code",
   "execution_count": null,
   "metadata": {},
   "outputs": [],
   "source": [
    "gender_df.isnull().sum().sort_values()"
   ]
  },
  {
   "cell_type": "code",
   "execution_count": null,
   "metadata": {},
   "outputs": [],
   "source": [
    "gender_df = gender_df.drop(['Age(years)', 'Income', 'Race/Ethnicity', 'Data_Value_Footnote', 'Education', 'StratificationCategory1', 'Stratification1'], axis=1)\n",
    "gender_df.head()"
   ]
  },
  {
   "cell_type": "code",
   "execution_count": null,
   "metadata": {},
   "outputs": [],
   "source": [
    "plt.figure(figsize=(20, 15));\n",
    "sns.boxplot(x=\"QuestionID\", y=\"Data_Value\", data=gender_df, hue='Gender', whis=[0, 100], width=.6, palette=\"vlag\")\n",
    "plt.title('\\nHow repondents performed on different questions based on gender\\n');\n",
    "plt.xlabel('Questions');\n",
    "plt.ylabel('Values');"
   ]
  },
  {
   "cell_type": "markdown",
   "metadata": {},
   "source": [
    "> Question Q037 produced the most varied values for males and females."
   ]
  },
  {
   "cell_type": "code",
   "execution_count": null,
   "metadata": {},
   "outputs": [],
   "source": [
    "#The question in question is;\n",
    "\n",
    "questions_df[questions_df['QuestionID'] == 'Q037']"
   ]
  },
  {
   "cell_type": "code",
   "execution_count": null,
   "metadata": {},
   "outputs": [],
   "source": [
    "plt.figure(figsize=(20, 15));\n",
    "sns.violinplot(x=\"QuestionID\", y=\"Data_Value\", hue=\"Gender\", data=gender_df, palette=\"vlag\", split=True);\n",
    "plt.title('\\nHow repondents performed on different questions based on gender\\n');\n",
    "plt.xlabel('Questions');\n",
    "plt.ylabel('Values');"
   ]
  },
  {
   "cell_type": "markdown",
   "metadata": {},
   "source": [
    "> The violin plots corroborates that the distribution plots for males and females on question Q037 is different. The rest of the distributions show some overlap, suggesting a little similarity"
   ]
  },
  {
   "cell_type": "code",
   "execution_count": null,
   "metadata": {},
   "outputs": [],
   "source": [
    "fig, axes = plt.subplots(3, 3, figsize=(20, 18), sharey=True, sharex=True)\n",
    "fig.suptitle('Gender classification');\n",
    "\n",
    "k = 0\n",
    "for i in range(3):\n",
    "    if k >= questions_df.shape[0]:\n",
    "        break\n",
    "    for j in range(3):\n",
    "        if k >= questions_df.shape[0]:\n",
    "            break\n",
    "        question_id = questions_df.iloc[[k]]['QuestionID'][k]\n",
    "        sns.barplot(ax=axes[i][j], data=gender_df[gender_df['QuestionID']==question_id], x='Gender', y='Data_Value', color='grey');\n",
    "        axes[i][j].set_title(question_id);\n",
    "        k += 1"
   ]
  },
  {
   "cell_type": "markdown",
   "metadata": {},
   "source": [
    "> A higher percentage of males was found to be overweight than females. However, a higher percentage of females than males disclosed that they consume fruit less than once daily.\n",
    ">\n",
    "> A higher percentage of males than females said they consume veges less than once daily. A higher percentage of males than females also reported to engage in muscle-strenghtening activities at least twice a week."
   ]
  }
 ],
 "metadata": {
  "kernelspec": {
   "display_name": "Python 3",
   "language": "python",
   "name": "python3"
  },
  "language_info": {
   "codemirror_mode": {
    "name": "ipython",
    "version": 3
   },
   "file_extension": ".py",
   "mimetype": "text/x-python",
   "name": "python",
   "nbconvert_exporter": "python",
   "pygments_lexer": "ipython3",
   "version": "3.8.5"
  }
 },
 "nbformat": 4,
 "nbformat_minor": 4
}
