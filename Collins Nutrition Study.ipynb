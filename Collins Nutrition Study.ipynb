{
 "cells": [
  {
   "cell_type": "code",
   "execution_count": 1,
   "metadata": {},
   "outputs": [],
   "source": [
    "#import the necessary libraries\n",
    "\n",
    "import pandas as pd\n",
    "import matplotlib.pyplot as plt\n",
    "import seaborn as sns"
   ]
  },
  {
   "cell_type": "code",
   "execution_count": 2,
   "metadata": {},
   "outputs": [],
   "source": [
    "#display the plots inside this environment without having to call show()\n",
    "#set the dataframe options - should show all columns\n",
    "\n",
    "%matplotlib inline\n",
    "pd.set_option('display.max_columns', None)\n",
    "pd.set_option('max_colwidth', None)"
   ]
  },
  {
   "cell_type": "markdown",
   "metadata": {},
   "source": [
    "# Exploratory Analysis"
   ]
  },
  {
   "cell_type": "markdown",
   "metadata": {},
   "source": [
    "> In this section I go through the data with an intention of finding out the structure, distribution and general feel of the data.\n",
    ">\n",
    "> The exploration will be guided by both the data, as well as intuition. For example, I simply do not expect an age of over (say) 150 years - this would mean that the data is not very accurate."
   ]
  },
  {
   "cell_type": "markdown",
   "metadata": {},
   "source": [
    "## Gather"
   ]
  },
  {
   "cell_type": "code",
   "execution_count": 3,
   "metadata": {},
   "outputs": [],
   "source": [
    "#load the data onto an on-memory dataframe\n",
    "df = pd.read_csv('Nutrition__Physical_Activity__and_Obesity_-_Behavioral_Risk_Factor_Surveillance_System.csv')"
   ]
  },
  {
   "cell_type": "markdown",
   "metadata": {},
   "source": [
    "## Assess"
   ]
  },
  {
   "cell_type": "markdown",
   "metadata": {},
   "source": [
    "> While assessing the data, I will majorly concentrate on highlighting and correcting data quality issues.\n",
    ">\n",
    "> Any characteristic of the data that might help later in in the analysis will also be noted."
   ]
  },
  {
   "cell_type": "code",
   "execution_count": 4,
   "metadata": {},
   "outputs": [
    {
     "data": {
      "text/html": [
       "<div>\n",
       "<style scoped>\n",
       "    .dataframe tbody tr th:only-of-type {\n",
       "        vertical-align: middle;\n",
       "    }\n",
       "\n",
       "    .dataframe tbody tr th {\n",
       "        vertical-align: top;\n",
       "    }\n",
       "\n",
       "    .dataframe thead th {\n",
       "        text-align: right;\n",
       "    }\n",
       "</style>\n",
       "<table border=\"1\" class=\"dataframe\">\n",
       "  <thead>\n",
       "    <tr style=\"text-align: right;\">\n",
       "      <th></th>\n",
       "      <th>YearStart</th>\n",
       "      <th>YearEnd</th>\n",
       "      <th>LocationAbbr</th>\n",
       "      <th>LocationDesc</th>\n",
       "      <th>Datasource</th>\n",
       "      <th>Class</th>\n",
       "      <th>Topic</th>\n",
       "      <th>Question</th>\n",
       "      <th>Data_Value_Unit</th>\n",
       "      <th>Data_Value_Type</th>\n",
       "      <th>Data_Value</th>\n",
       "      <th>Data_Value_Alt</th>\n",
       "      <th>Data_Value_Footnote_Symbol</th>\n",
       "      <th>Data_Value_Footnote</th>\n",
       "      <th>Low_Confidence_Limit</th>\n",
       "      <th>High_Confidence_Limit</th>\n",
       "      <th>Sample_Size</th>\n",
       "      <th>Total</th>\n",
       "      <th>Age(years)</th>\n",
       "      <th>Education</th>\n",
       "      <th>Gender</th>\n",
       "      <th>Income</th>\n",
       "      <th>Race/Ethnicity</th>\n",
       "      <th>GeoLocation</th>\n",
       "      <th>ClassID</th>\n",
       "      <th>TopicID</th>\n",
       "      <th>QuestionID</th>\n",
       "      <th>DataValueTypeID</th>\n",
       "      <th>LocationID</th>\n",
       "      <th>StratificationCategory1</th>\n",
       "      <th>Stratification1</th>\n",
       "      <th>StratificationCategoryId1</th>\n",
       "      <th>StratificationID1</th>\n",
       "    </tr>\n",
       "  </thead>\n",
       "  <tbody>\n",
       "    <tr>\n",
       "      <th>21652</th>\n",
       "      <td>2011</td>\n",
       "      <td>2011</td>\n",
       "      <td>NM</td>\n",
       "      <td>New Mexico</td>\n",
       "      <td>Behavioral Risk Factor Surveillance System</td>\n",
       "      <td>Fruits and Vegetables</td>\n",
       "      <td>Fruits and Vegetables - Behavior</td>\n",
       "      <td>Percent of adults who report consuming fruit less than one time daily</td>\n",
       "      <td>NaN</td>\n",
       "      <td>Value</td>\n",
       "      <td>34.2</td>\n",
       "      <td>34.2</td>\n",
       "      <td>NaN</td>\n",
       "      <td>NaN</td>\n",
       "      <td>30.5</td>\n",
       "      <td>38.1</td>\n",
       "      <td>1089.0</td>\n",
       "      <td>NaN</td>\n",
       "      <td>NaN</td>\n",
       "      <td>NaN</td>\n",
       "      <td>NaN</td>\n",
       "      <td>$50,000 - $74,999</td>\n",
       "      <td>NaN</td>\n",
       "      <td>(34.52088095200048, -106.24058098499967)</td>\n",
       "      <td>FV</td>\n",
       "      <td>FV1</td>\n",
       "      <td>Q018</td>\n",
       "      <td>VALUE</td>\n",
       "      <td>35</td>\n",
       "      <td>Income</td>\n",
       "      <td>$50,000 - $74,999</td>\n",
       "      <td>INC</td>\n",
       "      <td>INC5075</td>\n",
       "    </tr>\n",
       "    <tr>\n",
       "      <th>51099</th>\n",
       "      <td>2016</td>\n",
       "      <td>2016</td>\n",
       "      <td>MT</td>\n",
       "      <td>Montana</td>\n",
       "      <td>Behavioral Risk Factor Surveillance System</td>\n",
       "      <td>Obesity / Weight Status</td>\n",
       "      <td>Obesity / Weight Status</td>\n",
       "      <td>Percent of adults aged 18 years and older who have obesity</td>\n",
       "      <td>NaN</td>\n",
       "      <td>Value</td>\n",
       "      <td>27.4</td>\n",
       "      <td>27.4</td>\n",
       "      <td>NaN</td>\n",
       "      <td>NaN</td>\n",
       "      <td>24.4</td>\n",
       "      <td>30.6</td>\n",
       "      <td>1632.0</td>\n",
       "      <td>NaN</td>\n",
       "      <td>NaN</td>\n",
       "      <td>High school graduate</td>\n",
       "      <td>NaN</td>\n",
       "      <td>NaN</td>\n",
       "      <td>NaN</td>\n",
       "      <td>(47.06652897200047, -109.42442064499971)</td>\n",
       "      <td>OWS</td>\n",
       "      <td>OWS1</td>\n",
       "      <td>Q036</td>\n",
       "      <td>VALUE</td>\n",
       "      <td>30</td>\n",
       "      <td>Education</td>\n",
       "      <td>High school graduate</td>\n",
       "      <td>EDU</td>\n",
       "      <td>EDUHSGRAD</td>\n",
       "    </tr>\n",
       "    <tr>\n",
       "      <th>39125</th>\n",
       "      <td>2015</td>\n",
       "      <td>2015</td>\n",
       "      <td>CT</td>\n",
       "      <td>Connecticut</td>\n",
       "      <td>Behavioral Risk Factor Surveillance System</td>\n",
       "      <td>Physical Activity</td>\n",
       "      <td>Physical Activity - Behavior</td>\n",
       "      <td>Percent of adults who achieve at least 300 minutes a week of moderate-intensity aerobic physical activity or 150 minutes a week of vigorous-intensity aerobic activity (or an equivalent combination)</td>\n",
       "      <td>NaN</td>\n",
       "      <td>Value</td>\n",
       "      <td>23.2</td>\n",
       "      <td>23.2</td>\n",
       "      <td>NaN</td>\n",
       "      <td>NaN</td>\n",
       "      <td>19.6</td>\n",
       "      <td>27.3</td>\n",
       "      <td>933.0</td>\n",
       "      <td>NaN</td>\n",
       "      <td>NaN</td>\n",
       "      <td>NaN</td>\n",
       "      <td>NaN</td>\n",
       "      <td>NaN</td>\n",
       "      <td>Hispanic</td>\n",
       "      <td>(41.56266102000046, -72.64984095199964)</td>\n",
       "      <td>PA</td>\n",
       "      <td>PA1</td>\n",
       "      <td>Q045</td>\n",
       "      <td>VALUE</td>\n",
       "      <td>9</td>\n",
       "      <td>Race/Ethnicity</td>\n",
       "      <td>Hispanic</td>\n",
       "      <td>RACE</td>\n",
       "      <td>RACEHIS</td>\n",
       "    </tr>\n",
       "    <tr>\n",
       "      <th>27172</th>\n",
       "      <td>2011</td>\n",
       "      <td>2011</td>\n",
       "      <td>RI</td>\n",
       "      <td>Rhode Island</td>\n",
       "      <td>Behavioral Risk Factor Surveillance System</td>\n",
       "      <td>Fruits and Vegetables</td>\n",
       "      <td>Fruits and Vegetables - Behavior</td>\n",
       "      <td>Percent of adults who report consuming fruit less than one time daily</td>\n",
       "      <td>NaN</td>\n",
       "      <td>Value</td>\n",
       "      <td>32.7</td>\n",
       "      <td>32.7</td>\n",
       "      <td>NaN</td>\n",
       "      <td>NaN</td>\n",
       "      <td>29.4</td>\n",
       "      <td>36.2</td>\n",
       "      <td>1448.0</td>\n",
       "      <td>NaN</td>\n",
       "      <td>NaN</td>\n",
       "      <td>Some college or technical school</td>\n",
       "      <td>NaN</td>\n",
       "      <td>NaN</td>\n",
       "      <td>NaN</td>\n",
       "      <td>(41.70828019300046, -71.52247031399963)</td>\n",
       "      <td>FV</td>\n",
       "      <td>FV1</td>\n",
       "      <td>Q018</td>\n",
       "      <td>VALUE</td>\n",
       "      <td>44</td>\n",
       "      <td>Education</td>\n",
       "      <td>Some college or technical school</td>\n",
       "      <td>EDU</td>\n",
       "      <td>EDUCOTEC</td>\n",
       "    </tr>\n",
       "    <tr>\n",
       "      <th>48794</th>\n",
       "      <td>2016</td>\n",
       "      <td>2016</td>\n",
       "      <td>AZ</td>\n",
       "      <td>Arizona</td>\n",
       "      <td>Behavioral Risk Factor Surveillance System</td>\n",
       "      <td>Obesity / Weight Status</td>\n",
       "      <td>Obesity / Weight Status</td>\n",
       "      <td>Percent of adults aged 18 years and older who have an overweight classification</td>\n",
       "      <td>NaN</td>\n",
       "      <td>Value</td>\n",
       "      <td>33.0</td>\n",
       "      <td>33.0</td>\n",
       "      <td>NaN</td>\n",
       "      <td>NaN</td>\n",
       "      <td>29.1</td>\n",
       "      <td>37.1</td>\n",
       "      <td>1138.0</td>\n",
       "      <td>NaN</td>\n",
       "      <td>NaN</td>\n",
       "      <td>NaN</td>\n",
       "      <td>NaN</td>\n",
       "      <td>NaN</td>\n",
       "      <td>Hispanic</td>\n",
       "      <td>(34.865970280000454, -111.76381127699972)</td>\n",
       "      <td>OWS</td>\n",
       "      <td>OWS1</td>\n",
       "      <td>Q037</td>\n",
       "      <td>VALUE</td>\n",
       "      <td>4</td>\n",
       "      <td>Race/Ethnicity</td>\n",
       "      <td>Hispanic</td>\n",
       "      <td>RACE</td>\n",
       "      <td>RACEHIS</td>\n",
       "    </tr>\n",
       "  </tbody>\n",
       "</table>\n",
       "</div>"
      ],
      "text/plain": [
       "       YearStart  YearEnd LocationAbbr  LocationDesc  \\\n",
       "21652       2011     2011           NM    New Mexico   \n",
       "51099       2016     2016           MT       Montana   \n",
       "39125       2015     2015           CT   Connecticut   \n",
       "27172       2011     2011           RI  Rhode Island   \n",
       "48794       2016     2016           AZ       Arizona   \n",
       "\n",
       "                                       Datasource                    Class  \\\n",
       "21652  Behavioral Risk Factor Surveillance System    Fruits and Vegetables   \n",
       "51099  Behavioral Risk Factor Surveillance System  Obesity / Weight Status   \n",
       "39125  Behavioral Risk Factor Surveillance System        Physical Activity   \n",
       "27172  Behavioral Risk Factor Surveillance System    Fruits and Vegetables   \n",
       "48794  Behavioral Risk Factor Surveillance System  Obesity / Weight Status   \n",
       "\n",
       "                                  Topic  \\\n",
       "21652  Fruits and Vegetables - Behavior   \n",
       "51099           Obesity / Weight Status   \n",
       "39125      Physical Activity - Behavior   \n",
       "27172  Fruits and Vegetables - Behavior   \n",
       "48794           Obesity / Weight Status   \n",
       "\n",
       "                                                                                                                                                                                                    Question  \\\n",
       "21652                                                                                                                                  Percent of adults who report consuming fruit less than one time daily   \n",
       "51099                                                                                                                                             Percent of adults aged 18 years and older who have obesity   \n",
       "39125  Percent of adults who achieve at least 300 minutes a week of moderate-intensity aerobic physical activity or 150 minutes a week of vigorous-intensity aerobic activity (or an equivalent combination)   \n",
       "27172                                                                                                                                  Percent of adults who report consuming fruit less than one time daily   \n",
       "48794                                                                                                                        Percent of adults aged 18 years and older who have an overweight classification   \n",
       "\n",
       "       Data_Value_Unit Data_Value_Type  Data_Value  Data_Value_Alt  \\\n",
       "21652              NaN           Value        34.2            34.2   \n",
       "51099              NaN           Value        27.4            27.4   \n",
       "39125              NaN           Value        23.2            23.2   \n",
       "27172              NaN           Value        32.7            32.7   \n",
       "48794              NaN           Value        33.0            33.0   \n",
       "\n",
       "      Data_Value_Footnote_Symbol Data_Value_Footnote  Low_Confidence_Limit  \\\n",
       "21652                        NaN                 NaN                  30.5   \n",
       "51099                        NaN                 NaN                  24.4   \n",
       "39125                        NaN                 NaN                  19.6   \n",
       "27172                        NaN                 NaN                  29.4   \n",
       "48794                        NaN                 NaN                  29.1   \n",
       "\n",
       "       High_Confidence_Limit   Sample_Size Total Age(years)  \\\n",
       "21652                    38.1       1089.0   NaN        NaN   \n",
       "51099                    30.6       1632.0   NaN        NaN   \n",
       "39125                    27.3        933.0   NaN        NaN   \n",
       "27172                    36.2       1448.0   NaN        NaN   \n",
       "48794                    37.1       1138.0   NaN        NaN   \n",
       "\n",
       "                              Education Gender             Income  \\\n",
       "21652                               NaN    NaN  $50,000 - $74,999   \n",
       "51099              High school graduate    NaN                NaN   \n",
       "39125                               NaN    NaN                NaN   \n",
       "27172  Some college or technical school    NaN                NaN   \n",
       "48794                               NaN    NaN                NaN   \n",
       "\n",
       "      Race/Ethnicity                                GeoLocation ClassID  \\\n",
       "21652            NaN   (34.52088095200048, -106.24058098499967)      FV   \n",
       "51099            NaN   (47.06652897200047, -109.42442064499971)     OWS   \n",
       "39125       Hispanic    (41.56266102000046, -72.64984095199964)      PA   \n",
       "27172            NaN    (41.70828019300046, -71.52247031399963)      FV   \n",
       "48794       Hispanic  (34.865970280000454, -111.76381127699972)     OWS   \n",
       "\n",
       "      TopicID QuestionID DataValueTypeID  LocationID StratificationCategory1  \\\n",
       "21652     FV1       Q018           VALUE          35                  Income   \n",
       "51099    OWS1       Q036           VALUE          30               Education   \n",
       "39125     PA1       Q045           VALUE           9          Race/Ethnicity   \n",
       "27172     FV1       Q018           VALUE          44               Education   \n",
       "48794    OWS1       Q037           VALUE           4          Race/Ethnicity   \n",
       "\n",
       "                        Stratification1 StratificationCategoryId1  \\\n",
       "21652                 $50,000 - $74,999                       INC   \n",
       "51099              High school graduate                       EDU   \n",
       "39125                          Hispanic                      RACE   \n",
       "27172  Some college or technical school                       EDU   \n",
       "48794                          Hispanic                      RACE   \n",
       "\n",
       "      StratificationID1  \n",
       "21652           INC5075  \n",
       "51099         EDUHSGRAD  \n",
       "39125           RACEHIS  \n",
       "27172          EDUCOTEC  \n",
       "48794           RACEHIS  "
      ]
     },
     "execution_count": 4,
     "metadata": {},
     "output_type": "execute_result"
    }
   ],
   "source": [
    "#show five random records from the dataset\n",
    "df.sample(5)"
   ]
  },
  {
   "cell_type": "code",
   "execution_count": 5,
   "metadata": {},
   "outputs": [
    {
     "data": {
      "text/plain": [
       "(53392, 33)"
      ]
     },
     "execution_count": 5,
     "metadata": {},
     "output_type": "execute_result"
    }
   ],
   "source": [
    "#print the size of the data\n",
    "df.shape"
   ]
  },
  {
   "cell_type": "markdown",
   "metadata": {},
   "source": [
    "> The dataset has 53392 records and 33 dimensions as represented in the cell above."
   ]
  },
  {
   "cell_type": "code",
   "execution_count": 6,
   "metadata": {},
   "outputs": [
    {
     "data": {
      "text/plain": [
       "Index(['YearStart', 'YearEnd', 'LocationAbbr', 'LocationDesc', 'Datasource',\n",
       "       'Class', 'Topic', 'Question', 'Data_Value_Unit', 'Data_Value_Type',\n",
       "       'Data_Value', 'Data_Value_Alt', 'Data_Value_Footnote_Symbol',\n",
       "       'Data_Value_Footnote', 'Low_Confidence_Limit', 'High_Confidence_Limit ',\n",
       "       'Sample_Size', 'Total', 'Age(years)', 'Education', 'Gender', 'Income',\n",
       "       'Race/Ethnicity', 'GeoLocation', 'ClassID', 'TopicID', 'QuestionID',\n",
       "       'DataValueTypeID', 'LocationID', 'StratificationCategory1',\n",
       "       'Stratification1', 'StratificationCategoryId1', 'StratificationID1'],\n",
       "      dtype='object')"
      ]
     },
     "execution_count": 6,
     "metadata": {},
     "output_type": "execute_result"
    }
   ],
   "source": [
    "#display the columns that the dataset has\n",
    "df.columns"
   ]
  },
  {
   "cell_type": "code",
   "execution_count": 7,
   "metadata": {},
   "outputs": [
    {
     "data": {
      "text/html": [
       "<div>\n",
       "<style scoped>\n",
       "    .dataframe tbody tr th:only-of-type {\n",
       "        vertical-align: middle;\n",
       "    }\n",
       "\n",
       "    .dataframe tbody tr th {\n",
       "        vertical-align: top;\n",
       "    }\n",
       "\n",
       "    .dataframe thead th {\n",
       "        text-align: right;\n",
       "    }\n",
       "</style>\n",
       "<table border=\"1\" class=\"dataframe\">\n",
       "  <thead>\n",
       "    <tr style=\"text-align: right;\">\n",
       "      <th></th>\n",
       "      <th>count</th>\n",
       "      <th>mean</th>\n",
       "      <th>std</th>\n",
       "      <th>min</th>\n",
       "      <th>25%</th>\n",
       "      <th>50%</th>\n",
       "      <th>75%</th>\n",
       "      <th>max</th>\n",
       "    </tr>\n",
       "  </thead>\n",
       "  <tbody>\n",
       "    <tr>\n",
       "      <th>YearStart</th>\n",
       "      <td>53392.0</td>\n",
       "      <td>2013.281465</td>\n",
       "      <td>1.693300</td>\n",
       "      <td>2011.0</td>\n",
       "      <td>2012.0</td>\n",
       "      <td>2013.00</td>\n",
       "      <td>2015.0</td>\n",
       "      <td>2016.0</td>\n",
       "    </tr>\n",
       "    <tr>\n",
       "      <th>YearEnd</th>\n",
       "      <td>53392.0</td>\n",
       "      <td>2013.281465</td>\n",
       "      <td>1.693300</td>\n",
       "      <td>2011.0</td>\n",
       "      <td>2012.0</td>\n",
       "      <td>2013.00</td>\n",
       "      <td>2015.0</td>\n",
       "      <td>2016.0</td>\n",
       "    </tr>\n",
       "    <tr>\n",
       "      <th>Data_Value_Unit</th>\n",
       "      <td>0.0</td>\n",
       "      <td>NaN</td>\n",
       "      <td>NaN</td>\n",
       "      <td>NaN</td>\n",
       "      <td>NaN</td>\n",
       "      <td>NaN</td>\n",
       "      <td>NaN</td>\n",
       "      <td>NaN</td>\n",
       "    </tr>\n",
       "    <tr>\n",
       "      <th>Data_Value</th>\n",
       "      <td>48346.0</td>\n",
       "      <td>31.156681</td>\n",
       "      <td>10.247033</td>\n",
       "      <td>0.9</td>\n",
       "      <td>24.1</td>\n",
       "      <td>30.70</td>\n",
       "      <td>37.0</td>\n",
       "      <td>77.6</td>\n",
       "    </tr>\n",
       "    <tr>\n",
       "      <th>Data_Value_Alt</th>\n",
       "      <td>48346.0</td>\n",
       "      <td>31.156681</td>\n",
       "      <td>10.247033</td>\n",
       "      <td>0.9</td>\n",
       "      <td>24.1</td>\n",
       "      <td>30.70</td>\n",
       "      <td>37.0</td>\n",
       "      <td>77.6</td>\n",
       "    </tr>\n",
       "    <tr>\n",
       "      <th>Low_Confidence_Limit</th>\n",
       "      <td>48346.0</td>\n",
       "      <td>26.892227</td>\n",
       "      <td>10.038584</td>\n",
       "      <td>0.3</td>\n",
       "      <td>20.0</td>\n",
       "      <td>26.45</td>\n",
       "      <td>32.9</td>\n",
       "      <td>69.5</td>\n",
       "    </tr>\n",
       "    <tr>\n",
       "      <th>High_Confidence_Limit</th>\n",
       "      <td>48346.0</td>\n",
       "      <td>35.989997</td>\n",
       "      <td>11.205813</td>\n",
       "      <td>3.0</td>\n",
       "      <td>28.2</td>\n",
       "      <td>35.60</td>\n",
       "      <td>42.2</td>\n",
       "      <td>87.7</td>\n",
       "    </tr>\n",
       "    <tr>\n",
       "      <th>Sample_Size</th>\n",
       "      <td>48346.0</td>\n",
       "      <td>3889.192860</td>\n",
       "      <td>19829.421290</td>\n",
       "      <td>50.0</td>\n",
       "      <td>566.0</td>\n",
       "      <td>1209.00</td>\n",
       "      <td>2519.0</td>\n",
       "      <td>476876.0</td>\n",
       "    </tr>\n",
       "    <tr>\n",
       "      <th>LocationID</th>\n",
       "      <td>53392.0</td>\n",
       "      <td>30.282215</td>\n",
       "      <td>16.821318</td>\n",
       "      <td>1.0</td>\n",
       "      <td>17.0</td>\n",
       "      <td>30.00</td>\n",
       "      <td>44.0</td>\n",
       "      <td>78.0</td>\n",
       "    </tr>\n",
       "  </tbody>\n",
       "</table>\n",
       "</div>"
      ],
      "text/plain": [
       "                          count         mean           std     min     25%  \\\n",
       "YearStart               53392.0  2013.281465      1.693300  2011.0  2012.0   \n",
       "YearEnd                 53392.0  2013.281465      1.693300  2011.0  2012.0   \n",
       "Data_Value_Unit             0.0          NaN           NaN     NaN     NaN   \n",
       "Data_Value              48346.0    31.156681     10.247033     0.9    24.1   \n",
       "Data_Value_Alt          48346.0    31.156681     10.247033     0.9    24.1   \n",
       "Low_Confidence_Limit    48346.0    26.892227     10.038584     0.3    20.0   \n",
       "High_Confidence_Limit   48346.0    35.989997     11.205813     3.0    28.2   \n",
       "Sample_Size             48346.0  3889.192860  19829.421290    50.0   566.0   \n",
       "LocationID              53392.0    30.282215     16.821318     1.0    17.0   \n",
       "\n",
       "                            50%     75%       max  \n",
       "YearStart               2013.00  2015.0    2016.0  \n",
       "YearEnd                 2013.00  2015.0    2016.0  \n",
       "Data_Value_Unit             NaN     NaN       NaN  \n",
       "Data_Value                30.70    37.0      77.6  \n",
       "Data_Value_Alt            30.70    37.0      77.6  \n",
       "Low_Confidence_Limit      26.45    32.9      69.5  \n",
       "High_Confidence_Limit     35.60    42.2      87.7  \n",
       "Sample_Size             1209.00  2519.0  476876.0  \n",
       "LocationID                30.00    44.0      78.0  "
      ]
     },
     "execution_count": 7,
     "metadata": {},
     "output_type": "execute_result"
    }
   ],
   "source": [
    "#a summary of the numerical columns\n",
    "df.describe().transpose()"
   ]
  },
  {
   "cell_type": "markdown",
   "metadata": {},
   "source": [
    "> From the summary it is evident that the study was carried out between 2011 and 2016, as shown by the rangef of YearStart and YearEnd."
   ]
  },
  {
   "cell_type": "code",
   "execution_count": null,
   "metadata": {},
   "outputs": [],
   "source": []
  },
  {
   "cell_type": "markdown",
   "metadata": {},
   "source": [
    "> An important attribute is how much null values there are in the dataset.\n",
    ">\n",
    "> In the cell below, I look at how many null values exist in each column"
   ]
  },
  {
   "cell_type": "code",
   "execution_count": 8,
   "metadata": {},
   "outputs": [
    {
     "data": {
      "text/plain": [
       "YearStart                         0\n",
       "Stratification1                   0\n",
       "StratificationCategory1           0\n",
       "LocationID                        0\n",
       "DataValueTypeID                   0\n",
       "QuestionID                        0\n",
       "TopicID                           0\n",
       "ClassID                           0\n",
       "StratificationCategoryId1         0\n",
       "StratificationID1                 0\n",
       "YearEnd                           0\n",
       "LocationAbbr                      0\n",
       "LocationDesc                      0\n",
       "Datasource                        0\n",
       "Class                             0\n",
       "Topic                             0\n",
       "Question                          0\n",
       "Data_Value_Type                   0\n",
       "GeoLocation                    1008\n",
       "Data_Value                     5046\n",
       "Sample_Size                    5046\n",
       "High_Confidence_Limit          5046\n",
       "Low_Confidence_Limit           5046\n",
       "Data_Value_Alt                 5046\n",
       "Race/Ethnicity                38136\n",
       "Income                        40043\n",
       "Age(years)                    41954\n",
       "Education                     45764\n",
       "Data_Value_Footnote           48346\n",
       "Data_Value_Footnote_Symbol    48346\n",
       "Gender                        49578\n",
       "Total                         51485\n",
       "Data_Value_Unit               53392\n",
       "dtype: int64"
      ]
     },
     "execution_count": 8,
     "metadata": {},
     "output_type": "execute_result"
    }
   ],
   "source": [
    "# display the null values in each column\n",
    "df.isnull().sum().sort_values()"
   ]
  },
  {
   "cell_type": "code",
   "execution_count": null,
   "metadata": {},
   "outputs": [],
   "source": []
  },
  {
   "cell_type": "markdown",
   "metadata": {},
   "source": [
    "> Columns that have only one unique value can as well be excluded since they do not add much information to the data.\n",
    ">\n",
    "> In the cell below I probe each column to see the number of unique values it contains"
   ]
  },
  {
   "cell_type": "code",
   "execution_count": 9,
   "metadata": {},
   "outputs": [
    {
     "name": "stdout",
     "output_type": "stream",
     "text": [
      "YearStart has 6 unique values\n",
      "YearEnd has 6 unique values\n",
      "LocationAbbr has 55 unique values\n",
      "LocationDesc has 55 unique values\n",
      "Datasource has 1 unique values\n",
      "Class has 3 unique values\n",
      "Topic has 3 unique values\n",
      "Question has 9 unique values\n",
      "Data_Value_Unit has 0 unique values\n",
      "Data_Value_Type has 1 unique values\n",
      "Data_Value has 669 unique values\n",
      "Data_Value_Alt has 669 unique values\n",
      "Data_Value_Footnote_Symbol has 1 unique values\n",
      "Data_Value_Footnote has 2 unique values\n",
      "Low_Confidence_Limit has 654 unique values\n",
      "High_Confidence_Limit  has 723 unique values\n",
      "Sample_Size has 8123 unique values\n",
      "Total has 1 unique values\n",
      "Age(years) has 6 unique values\n",
      "Education has 4 unique values\n",
      "Gender has 2 unique values\n",
      "Income has 7 unique values\n",
      "Race/Ethnicity has 8 unique values\n",
      "GeoLocation has 54 unique values\n",
      "ClassID has 3 unique values\n",
      "TopicID has 3 unique values\n",
      "QuestionID has 9 unique values\n",
      "DataValueTypeID has 1 unique values\n",
      "LocationID has 55 unique values\n",
      "StratificationCategory1 has 6 unique values\n",
      "Stratification1 has 28 unique values\n",
      "StratificationCategoryId1 has 6 unique values\n",
      "StratificationID1 has 28 unique values\n"
     ]
    }
   ],
   "source": [
    "#show the number of unique values each column has\n",
    "for col in df.columns:\n",
    "    print(f'{col} has {df[col].nunique()} unique values')"
   ]
  },
  {
   "cell_type": "code",
   "execution_count": null,
   "metadata": {},
   "outputs": [],
   "source": []
  },
  {
   "cell_type": "code",
   "execution_count": null,
   "metadata": {},
   "outputs": [],
   "source": []
  },
  {
   "cell_type": "markdown",
   "metadata": {},
   "source": [
    "> It is also important to get to know the relationships that exist between the columns early on in the analysis"
   ]
  },
  {
   "cell_type": "code",
   "execution_count": null,
   "metadata": {},
   "outputs": [],
   "source": [
    "#display the relationship of each column against every other column\n",
    "sns.pairplot(df);"
   ]
  },
  {
   "cell_type": "markdown",
   "metadata": {},
   "source": [
    "> (YearStart, YearEnd) and (Data_Value, Data_Value_Alt) have perfect correlation to each other. This means that they are essentially the same data replicated across multiple columns. One of them can be dropped"
   ]
  },
  {
   "cell_type": "code",
   "execution_count": null,
   "metadata": {},
   "outputs": [],
   "source": []
  },
  {
   "cell_type": "code",
   "execution_count": null,
   "metadata": {},
   "outputs": [],
   "source": [
    "#find out the number of duplicated records\n",
    "df.duplicated().sum()"
   ]
  },
  {
   "cell_type": "markdown",
   "metadata": {},
   "source": [
    "> All records in the dataset are unique as shown in the cell above"
   ]
  },
  {
   "cell_type": "code",
   "execution_count": null,
   "metadata": {},
   "outputs": [],
   "source": []
  },
  {
   "cell_type": "markdown",
   "metadata": {},
   "source": [
    "> It is also necessary to understand the data types of the values for each column.\n",
    ">\n",
    "> This is important to know since not all operations can be performed on all data types"
   ]
  },
  {
   "cell_type": "code",
   "execution_count": null,
   "metadata": {},
   "outputs": [],
   "source": [
    "df.dtypes"
   ]
  },
  {
   "cell_type": "markdown",
   "metadata": {},
   "source": [
    "### Issues with data"
   ]
  },
  {
   "cell_type": "markdown",
   "metadata": {},
   "source": [
    "> After some exploration I realized the data has some quality issues, which I will focus on in this section\n",
    ">\n",
    "> By the end of this section I hope that I will have clean and structured data"
   ]
  },
  {
   "cell_type": "markdown",
   "metadata": {},
   "source": [
    "#### Data tidiness"
   ]
  },
  {
   "cell_type": "markdown",
   "metadata": {},
   "source": [
    "> In this subsection, issues of atomicity of data will be higlighted.\n",
    ">\n",
    "> To make for easy analysis, the following guidelines should be adhered to;\n",
    ">\n",
    ">1. Each variable should have its own column\n",
    ">2. Each observation should be a row (no duplicates should exist)\n",
    ">3. Each organizational unit should be a table/dataset\n",
    "\n",
    "> The intention is to separate each dataset on its own, then later bring it together in an organized manner. For example, it does not make for good viewing that location alone is represented with 4 different columns in the same dataset."
   ]
  },
  {
   "cell_type": "markdown",
   "metadata": {},
   "source": [
    "1. The dataset has a semi-dataset that represents questions\n",
    "2. The dataset has a semi-dataset that represents topics\n",
    "3. The dataset has a semi-dataset that represents classes\n",
    "4. The dataset has a semi-dataset that represents locations\n",
    "5. The dataset has a semi-dataset that represents stratifications\n",
    "6. YearStart has a perfect correlation to YearEnd - this could mean that they contain the same values, which then makes one of the columns redundant\n",
    "7. Data_Value has a perfect correlation to Data_Value_Alt"
   ]
  },
  {
   "cell_type": "markdown",
   "metadata": {},
   "source": [
    "#### Data Cleanliness"
   ]
  },
  {
   "cell_type": "markdown",
   "metadata": {},
   "source": [
    "> Columns which have less than 2 unique values really do not add much to our analysis\n",
    ">\n",
    "> All records will most likely have the same value, and so the column can be ignored"
   ]
  },
  {
   "cell_type": "markdown",
   "metadata": {},
   "source": [
    "1. Datasource has 1 unique value\n",
    "2. Data_Value_Unit has 0 unique values - this is due to the fact that the column does not have a single non-null value. It shall be handled as a missing data issue.\n",
    "3. Data_Value_Type has 1 unique value\n",
    "4. Data_Value_Footnote_Symbol has 1 unique value\n",
    "5. Total has 1 unique values"
   ]
  },
  {
   "cell_type": "markdown",
   "metadata": {},
   "source": [
    "#### Missing Data"
   ]
  },
  {
   "cell_type": "markdown",
   "metadata": {},
   "source": [
    "> Missing values could mean that the data is improperly stored, or simply that such data was not captured.\n",
    ">\n",
    "> In this section I highlight issues with missing data."
   ]
  },
  {
   "cell_type": "markdown",
   "metadata": {},
   "source": [
    "1. GeoLocation has 1008 missing values\n",
    "2. Data_Value has 5046 missing values\n",
    "3. Sample_Size has 5046 missing values\n",
    "4. High_Confidence_Limit has 5046 missing values\n",
    "5. Low_Confidence_Limit has 5046 missing values\n",
    "6. Data_Value_Alt has 5046 missing values\n",
    "7. Race/Ethnicity has 38136 missing values\n",
    "8. Income has 40043 missing values\n",
    "9. Age(years) has 41954 missing values\n",
    "10. Education has 45764 missing values\n",
    "11. Data_Value_Footnote has 48346 missing values\n",
    "12. Data_Value_Footnote_Symbol has 48346 missing values\n",
    "13. Gender has 49578 missing values\n",
    "14. Total has 51485 missing values\n",
    "15. Data_Value_Unit has 53392 missing values"
   ]
  },
  {
   "cell_type": "markdown",
   "metadata": {},
   "source": [
    "### Cleaning data"
   ]
  },
  {
   "cell_type": "markdown",
   "metadata": {},
   "source": [
    "> In this section I address the issues outlined above.\n",
    ">\n",
    "> This step will be repetitive, to try and obtain clean and tidy data\n",
    ">\n",
    "> I will detail the problem that I want solved, propose a resolution plan and then implement the plan. As a final step I will test to see that my expectations have been achieved."
   ]
  },
  {
   "cell_type": "markdown",
   "metadata": {},
   "source": [
    "##### Problem Definition"
   ]
  },
  {
   "cell_type": "markdown",
   "metadata": {},
   "source": [
    "The dataset has a semi-dataset that represents questions"
   ]
  },
  {
   "cell_type": "markdown",
   "metadata": {},
   "source": [
    "##### Resolution Plan"
   ]
  },
  {
   "cell_type": "markdown",
   "metadata": {},
   "source": [
    "Create a dataset that contains only information about questions"
   ]
  },
  {
   "cell_type": "markdown",
   "metadata": {},
   "source": [
    "##### Implementation and Testing"
   ]
  },
  {
   "cell_type": "code",
   "execution_count": null,
   "metadata": {},
   "outputs": [],
   "source": [
    "questions_df = df[['QuestionID', 'Question']].drop_duplicates()\n",
    "questions_df.reset_index(drop=True, inplace=True)\n",
    "questions_df.head()"
   ]
  },
  {
   "cell_type": "markdown",
   "metadata": {},
   "source": [
    "> We now have an atomic dataset representing questions alone\n",
    ">\n",
    ">We can use the QuestionID to reference a question in a different table if need be"
   ]
  },
  {
   "cell_type": "code",
   "execution_count": null,
   "metadata": {},
   "outputs": [],
   "source": [
    "questions_df.shape"
   ]
  },
  {
   "cell_type": "markdown",
   "metadata": {},
   "source": [
    "> In total, the the data contains answers to 9 questions, which are listed below\n",
    ">\n",
    "> When cleaning the main table, I will drop the Question description since it is long. However, it a question can still be referenced using the ID"
   ]
  },
  {
   "cell_type": "code",
   "execution_count": null,
   "metadata": {},
   "outputs": [],
   "source": [
    "questions_df"
   ]
  },
  {
   "cell_type": "code",
   "execution_count": null,
   "metadata": {},
   "outputs": [],
   "source": []
  },
  {
   "cell_type": "markdown",
   "metadata": {},
   "source": [
    "##### Problem Definition"
   ]
  },
  {
   "cell_type": "markdown",
   "metadata": {},
   "source": [
    "The dataset has a semi-dataset that represents topics"
   ]
  },
  {
   "cell_type": "markdown",
   "metadata": {},
   "source": [
    "##### Resolution plan"
   ]
  },
  {
   "cell_type": "markdown",
   "metadata": {},
   "source": [
    "Create a dataset that contains only information about topics"
   ]
  },
  {
   "cell_type": "markdown",
   "metadata": {},
   "source": [
    "##### Implementation and Testing"
   ]
  },
  {
   "cell_type": "code",
   "execution_count": null,
   "metadata": {},
   "outputs": [],
   "source": [
    "topics_df = df[['TopicID', 'Topic']].drop_duplicates()\n",
    "topics_df.reset_index(drop=True, inplace=True)\n",
    "topics_df.head()"
   ]
  },
  {
   "cell_type": "code",
   "execution_count": null,
   "metadata": {},
   "outputs": [],
   "source": [
    "topics_df.shape"
   ]
  },
  {
   "cell_type": "markdown",
   "metadata": {},
   "source": [
    "> Now topics have their own table, and can be referenced using the ID - which can remain in the main table as a foreign key"
   ]
  },
  {
   "cell_type": "code",
   "execution_count": null,
   "metadata": {},
   "outputs": [],
   "source": []
  },
  {
   "cell_type": "markdown",
   "metadata": {},
   "source": [
    "##### Problem Definition"
   ]
  },
  {
   "cell_type": "markdown",
   "metadata": {},
   "source": [
    "The dataset has a semi-dataset that represents classes"
   ]
  },
  {
   "cell_type": "markdown",
   "metadata": {},
   "source": [
    "##### Resolution Plan"
   ]
  },
  {
   "cell_type": "markdown",
   "metadata": {},
   "source": [
    "Create a dataset that contains only information about classes"
   ]
  },
  {
   "cell_type": "markdown",
   "metadata": {},
   "source": [
    "##### Implementation and Testing"
   ]
  },
  {
   "cell_type": "code",
   "execution_count": null,
   "metadata": {},
   "outputs": [],
   "source": [
    "classes_df = df[['ClassID', 'Class']].drop_duplicates()\n",
    "classes_df.reset_index(drop=True, inplace=True)\n",
    "classes_df.head()"
   ]
  },
  {
   "cell_type": "code",
   "execution_count": null,
   "metadata": {},
   "outputs": [],
   "source": [
    "classes_df.shape"
   ]
  },
  {
   "cell_type": "markdown",
   "metadata": {},
   "source": [
    "> It is becoming clear that classes and topics could be very related.\n",
    ">\n",
    "> This means that our initial dataset had 4 columns(Class, ClassID, Topic and TopicID) representing the same dimension."
   ]
  },
  {
   "cell_type": "code",
   "execution_count": null,
   "metadata": {},
   "outputs": [],
   "source": []
  },
  {
   "cell_type": "code",
   "execution_count": null,
   "metadata": {},
   "outputs": [],
   "source": [
    "# df[((df['Class'] == 'Obesity/Weight Status') and (df['Topic'] == 'Obesity/Weight Status'))\n",
    "#    or ((df['Class'] == 'Fruits and Vegetables - Behavior') and (df['Topic'] == 'Fruits and Vegentables'))\n",
    "#   or ((df['Class'] == 'Physical Activity - Behavior') and (df['Topic'] == 'Physical Activity'))].sum()"
   ]
  },
  {
   "cell_type": "code",
   "execution_count": null,
   "metadata": {},
   "outputs": [],
   "source": []
  },
  {
   "cell_type": "markdown",
   "metadata": {},
   "source": [
    "##### Problem Definition"
   ]
  },
  {
   "cell_type": "markdown",
   "metadata": {},
   "source": [
    "The dataset has a semi-dataset that represents locations"
   ]
  },
  {
   "cell_type": "markdown",
   "metadata": {},
   "source": [
    "##### Resolution Plan"
   ]
  },
  {
   "cell_type": "markdown",
   "metadata": {},
   "source": [
    "Create a dataset that contains only information about location"
   ]
  },
  {
   "cell_type": "markdown",
   "metadata": {},
   "source": [
    "##### Implementation and Testing"
   ]
  },
  {
   "cell_type": "code",
   "execution_count": null,
   "metadata": {},
   "outputs": [],
   "source": [
    "location_df = df[['LocationID', 'LocationAbbr', 'GeoLocation', 'LocationDesc']].drop_duplicates()\n",
    "location_df.reset_index(drop=True, inplace=True)\n",
    "location_df.head()"
   ]
  },
  {
   "cell_type": "code",
   "execution_count": null,
   "metadata": {},
   "outputs": [],
   "source": [
    "location_df.shape"
   ]
  },
  {
   "cell_type": "markdown",
   "metadata": {},
   "source": [
    "> The data containing information about different locations is now in its own dataframe. Redundant columns can now be dropped from the main dataframe"
   ]
  },
  {
   "cell_type": "code",
   "execution_count": null,
   "metadata": {},
   "outputs": [],
   "source": []
  },
  {
   "cell_type": "markdown",
   "metadata": {},
   "source": [
    "##### Problem Definition"
   ]
  },
  {
   "cell_type": "markdown",
   "metadata": {},
   "source": [
    "The dataset contains a semi-dataset the represents information on how stratification was done"
   ]
  },
  {
   "cell_type": "markdown",
   "metadata": {},
   "source": [
    "##### Resolution Plan"
   ]
  },
  {
   "cell_type": "markdown",
   "metadata": {},
   "source": [
    "Create a dataset that contains only information about stratification"
   ]
  },
  {
   "cell_type": "markdown",
   "metadata": {},
   "source": [
    "##### Implementation and Testing"
   ]
  },
  {
   "cell_type": "code",
   "execution_count": null,
   "metadata": {},
   "outputs": [],
   "source": [
    "stratification_df = df[['Stratification1', 'StratificationID1']].drop_duplicates()\n",
    "stratification_df.reset_index(drop=True, inplace=True)\n",
    "\n",
    "categories_df = df[['StratificationCategory1', 'StratificationCategoryId1']].drop_duplicates()\n",
    "categories_df.reset_index(drop=True, inplace=True)"
   ]
  },
  {
   "cell_type": "code",
   "execution_count": null,
   "metadata": {},
   "outputs": [],
   "source": [
    "stratification_df.head()"
   ]
  },
  {
   "cell_type": "code",
   "execution_count": null,
   "metadata": {},
   "outputs": [],
   "source": [
    "categories_df.head()"
   ]
  },
  {
   "cell_type": "code",
   "execution_count": null,
   "metadata": {},
   "outputs": [],
   "source": [
    "stratification_df.shape"
   ]
  },
  {
   "cell_type": "code",
   "execution_count": null,
   "metadata": {},
   "outputs": [],
   "source": [
    "categories_df.shape"
   ]
  },
  {
   "cell_type": "code",
   "execution_count": null,
   "metadata": {},
   "outputs": [],
   "source": [
    "categories_df"
   ]
  },
  {
   "cell_type": "markdown",
   "metadata": {},
   "source": [
    "> The data containing information about categories is now in their own dataframes. Redundant columns can now be dropped from the main dataframe"
   ]
  },
  {
   "cell_type": "code",
   "execution_count": null,
   "metadata": {},
   "outputs": [],
   "source": []
  },
  {
   "cell_type": "markdown",
   "metadata": {},
   "source": [
    "##### Problem Definition"
   ]
  },
  {
   "cell_type": "markdown",
   "metadata": {},
   "source": [
    "Some columns in the dataset have less than 2 unique values"
   ]
  },
  {
   "cell_type": "markdown",
   "metadata": {},
   "source": [
    "##### Resolution Plan"
   ]
  },
  {
   "cell_type": "markdown",
   "metadata": {},
   "source": [
    "Exclude from the dataset columns which have at most 1 unique value"
   ]
  },
  {
   "cell_type": "markdown",
   "metadata": {},
   "source": [
    "##### Implementation and Testing"
   ]
  },
  {
   "cell_type": "code",
   "execution_count": null,
   "metadata": {},
   "outputs": [],
   "source": [
    "df_clean = df.drop(['Datasource', 'Data_Value_Unit', 'Data_Value_Type', 'Data_Value_Footnote_Symbol', 'Total', 'DataValueTypeID'], axis=1)\n",
    "df_clean.sample(4)"
   ]
  },
  {
   "cell_type": "code",
   "execution_count": null,
   "metadata": {},
   "outputs": [],
   "source": [
    "df_clean.shape"
   ]
  },
  {
   "cell_type": "code",
   "execution_count": null,
   "metadata": {},
   "outputs": [],
   "source": [
    "for col in df_clean.columns:\n",
    "    print(f'{col} has {df_clean[col].nunique()} unique values')"
   ]
  },
  {
   "cell_type": "markdown",
   "metadata": {},
   "source": [
    "> The main dataframe now only contains columns which can be used for some type of grouping, and this can improve the analysis"
   ]
  },
  {
   "cell_type": "code",
   "execution_count": null,
   "metadata": {},
   "outputs": [],
   "source": []
  },
  {
   "cell_type": "markdown",
   "metadata": {},
   "source": [
    "##### Problem Definition"
   ]
  },
  {
   "cell_type": "markdown",
   "metadata": {},
   "source": [
    "The dataset contains information that describes different observations"
   ]
  },
  {
   "cell_type": "markdown",
   "metadata": {},
   "source": [
    "##### Resolution Plan"
   ]
  },
  {
   "cell_type": "markdown",
   "metadata": {},
   "source": [
    "Exclude information that describe location, categories, classes, topics and questions - only leave IDs which can be used for referencing if there is need"
   ]
  },
  {
   "cell_type": "markdown",
   "metadata": {},
   "source": [
    "##### Implementation and Testing"
   ]
  },
  {
   "cell_type": "code",
   "execution_count": null,
   "metadata": {},
   "outputs": [],
   "source": [
    "atomic_df = df_clean.drop(['LocationID', 'LocationDesc', 'GeoLocation', 'StratificationID1', 'StratificationCategoryId1', 'Class', 'Topic', 'Question', 'TopicID'], axis=1)\n",
    "atomic_df.sample(4)"
   ]
  },
  {
   "cell_type": "code",
   "execution_count": null,
   "metadata": {},
   "outputs": [],
   "source": [
    "atomic_df.shape"
   ]
  },
  {
   "cell_type": "markdown",
   "metadata": {},
   "source": [
    "> The atomic dataframe now obeys one of the laws of atomicity - each variable is represented by one column. A direct result of this is the sharp reduction in the dimensions of the dataset"
   ]
  },
  {
   "cell_type": "code",
   "execution_count": null,
   "metadata": {},
   "outputs": [],
   "source": []
  },
  {
   "cell_type": "markdown",
   "metadata": {},
   "source": [
    "##### Problem Definition"
   ]
  },
  {
   "cell_type": "markdown",
   "metadata": {},
   "source": [
    "YearStart has a perfect correlation to YearEnd"
   ]
  },
  {
   "cell_type": "markdown",
   "metadata": {},
   "source": [
    "##### Resolution Plan"
   ]
  },
  {
   "cell_type": "markdown",
   "metadata": {},
   "source": [
    "Drop one of YearStart and YearEnd, then rename the remaining column as simply Year"
   ]
  },
  {
   "cell_type": "markdown",
   "metadata": {},
   "source": [
    "##### Implementation and Testing"
   ]
  },
  {
   "cell_type": "code",
   "execution_count": null,
   "metadata": {},
   "outputs": [],
   "source": [
    "atomic_df = atomic_df.drop(['YearEnd'], axis=1)\n",
    "atomic_df.rename(columns={'YearStart': 'Year'}, inplace=True)\n",
    "atomic_df.head()"
   ]
  },
  {
   "cell_type": "markdown",
   "metadata": {},
   "source": [
    "> This result has also resulted in the reduction of 1 dimension"
   ]
  },
  {
   "cell_type": "code",
   "execution_count": null,
   "metadata": {},
   "outputs": [],
   "source": []
  },
  {
   "cell_type": "markdown",
   "metadata": {},
   "source": [
    "##### Problem Definition"
   ]
  },
  {
   "cell_type": "markdown",
   "metadata": {},
   "source": [
    "Data_Value has a perfect correlation to Data_Value_Alt"
   ]
  },
  {
   "cell_type": "markdown",
   "metadata": {},
   "source": [
    "##### Resolution Plan"
   ]
  },
  {
   "cell_type": "markdown",
   "metadata": {},
   "source": [
    "Drop one of Data_Value and Data_Value_Alt"
   ]
  },
  {
   "cell_type": "markdown",
   "metadata": {},
   "source": [
    "##### Implementation and Testing"
   ]
  },
  {
   "cell_type": "code",
   "execution_count": null,
   "metadata": {},
   "outputs": [],
   "source": [
    "atomic_df = atomic_df.drop(['Data_Value_Alt'], axis=1)\n",
    "atomic_df.head()"
   ]
  },
  {
   "cell_type": "code",
   "execution_count": null,
   "metadata": {},
   "outputs": [],
   "source": [
    "atomic_df.shape"
   ]
  },
  {
   "cell_type": "markdown",
   "metadata": {},
   "source": [
    "> 1 unnecessary dimension has also been removed from the data"
   ]
  },
  {
   "cell_type": "code",
   "execution_count": null,
   "metadata": {},
   "outputs": [],
   "source": []
  },
  {
   "cell_type": "code",
   "execution_count": null,
   "metadata": {},
   "outputs": [],
   "source": [
    "atomic_df.isnull().sum().sort_values()"
   ]
  },
  {
   "cell_type": "code",
   "execution_count": null,
   "metadata": {},
   "outputs": [],
   "source": [
    "atomic_df.dtypes"
   ]
  },
  {
   "cell_type": "code",
   "execution_count": null,
   "metadata": {},
   "outputs": [],
   "source": [
    "atomic_df['Data_Value_Footnote'].unique()"
   ]
  },
  {
   "cell_type": "code",
   "execution_count": null,
   "metadata": {},
   "outputs": [],
   "source": [
    "atomic_df['Data_Value_Footnote'].value_counts()"
   ]
  },
  {
   "cell_type": "code",
   "execution_count": null,
   "metadata": {},
   "outputs": [],
   "source": []
  },
  {
   "cell_type": "markdown",
   "metadata": {},
   "source": [
    "> Looking at the stratification column, it seems as though information about Age, Income, Race and Gender are encoded in long form.\n",
    ">\n",
    "> It now begins to make sense why such important indicators have numerous null values"
   ]
  },
  {
   "cell_type": "code",
   "execution_count": null,
   "metadata": {},
   "outputs": [],
   "source": []
  },
  {
   "cell_type": "code",
   "execution_count": null,
   "metadata": {},
   "outputs": [],
   "source": [
    "atomic_df['StratificationCategory1'].unique()"
   ]
  },
  {
   "cell_type": "markdown",
   "metadata": {},
   "source": [
    "> It is also worth noting that the the values encoded in the StratificationCategory1 column are exactly the same columns that had so many null values\n",
    ">\n",
    "> I will extract each stratitification category individually and perform analysis independently, since it seems that the dataset is just a concatenation of other smaller datasets."
   ]
  },
  {
   "cell_type": "markdown",
   "metadata": {},
   "source": [
    "#### Education Dataset"
   ]
  },
  {
   "cell_type": "markdown",
   "metadata": {},
   "source": [
    "> I begin by isolating data that was stratified by education"
   ]
  },
  {
   "cell_type": "code",
   "execution_count": null,
   "metadata": {},
   "outputs": [],
   "source": [
    "education_df = atomic_df[atomic_df['StratificationCategory1'] == 'Education']\n",
    "education_df.reset_index(drop=True, inplace=True)\n",
    "education_df.head()"
   ]
  },
  {
   "cell_type": "code",
   "execution_count": null,
   "metadata": {},
   "outputs": [],
   "source": [
    "education_df.shape"
   ]
  },
  {
   "cell_type": "code",
   "execution_count": null,
   "metadata": {},
   "outputs": [],
   "source": [
    "education_df.isnull().sum().sort_values()"
   ]
  },
  {
   "cell_type": "markdown",
   "metadata": {},
   "source": [
    "> The columns 'Age(years)', 'Income', 'Race/Ethnicity', 'Data_Value_Footnote' and 'Gender' have no use remaining in the dataset, since they contain 100% null values\n",
    ">\n",
    "> Also, the stratification columns can be ignored since they contain the same information"
   ]
  },
  {
   "cell_type": "code",
   "execution_count": null,
   "metadata": {},
   "outputs": [],
   "source": [
    "education_df = education_df.drop(['Age(years)', 'Income', 'Race/Ethnicity', 'Data_Value_Footnote', 'Gender', 'StratificationCategory1', 'Stratification1'], axis=1)\n",
    "education_df.head()"
   ]
  },
  {
   "cell_type": "code",
   "execution_count": null,
   "metadata": {},
   "outputs": [],
   "source": [
    "education_df.groupby(['QuestionID', 'Education'])['Data_Value'].describe().transpose()"
   ]
  },
  {
   "cell_type": "code",
   "execution_count": null,
   "metadata": {},
   "outputs": [],
   "source": []
  },
  {
   "cell_type": "code",
   "execution_count": null,
   "metadata": {},
   "outputs": [],
   "source": [
    "fig, axes = plt.subplots(3, 3, figsize=(20, 18), sharey=True, sharex=True)\n",
    "fig.suptitle('Classification by Education');\n",
    "\n",
    "k = 0\n",
    "for i in range(3):\n",
    "    if k >= questions_df.shape[0]:\n",
    "        break\n",
    "    for j in range(3):\n",
    "        if k >= questions_df.shape[0]:\n",
    "            break\n",
    "        question_id = questions_df.iloc[[k]]['QuestionID'][k]\n",
    "        sns.barplot(ax=axes[i][j], data=education_df[education_df['QuestionID']==question_id], x='Education', y='Data_Value', color='grey');\n",
    "        axes[i][j].set_title(question_id);\n",
    "        k += 1"
   ]
  },
  {
   "cell_type": "markdown",
   "metadata": {},
   "source": [
    "> College graduates reported the least percentage of people who had obesity, while those with less than high education reported the highest percentages of people with obesity\n",
    ">\n",
    "> However, there seemed to be no clear disparity among people of the different levels of education by their overweight classification. In fact, college graduates reported slighlty higher percentages of overweight status.\n",
    ">\n",
    "> It is somewhat confounding that more college graduates confessed to be consuming fruits less than once daily than those from all the other levels of education. On the flipside, around 30% of people with less than high school education revealed that they consume veges less than once daily - almost twice the percentage of college graduates who reported to consume veges less than once daily.\n",
    ">\n",
    "> People with at least a college degree are also more likely to engage in moderate intensity or vigorous-intensity aerobics, although those with less than high school education were more likely to engage in leisure-time physical activity."
   ]
  },
  {
   "cell_type": "code",
   "execution_count": null,
   "metadata": {},
   "outputs": [],
   "source": []
  },
  {
   "cell_type": "code",
   "execution_count": null,
   "metadata": {},
   "outputs": [],
   "source": [
    "education_df['Education'].unique()"
   ]
  },
  {
   "cell_type": "code",
   "execution_count": null,
   "metadata": {},
   "outputs": [],
   "source": []
  },
  {
   "cell_type": "code",
   "execution_count": null,
   "metadata": {},
   "outputs": [],
   "source": [
    "fig, axes = plt.subplots(2, 2, figsize=(20, 18), sharey=False, sharex=False)\n",
    "fig.suptitle('Does the distribution of data values change with education level?');\n",
    "\n",
    "sns.histplot(ax=axes[0][0], data=education_df[education_df['Education']=='Less than high school'], x='Data_Value', stat='count', kde=True);\n",
    "axes[0][0].set_title('Less than high school');\n",
    "\n",
    "sns.histplot(ax=axes[0][1], data=education_df[education_df['Education']=='High school graduate'], x='Data_Value', stat='count', kde=True);\n",
    "plt.xlabel('')\n",
    "axes[0][1].set_title('High school graduate');\n",
    "\n",
    "sns.histplot(ax=axes[1][0], data=education_df[education_df['Education']=='Some college or technical school'], x='Data_Value', stat='count', kde=True);\n",
    "axes[1][0].set_title('Some college or technical school');\n",
    "\n",
    "sns.histplot(ax=axes[1][1], data=education_df[education_df['Education']=='College graduate'], x='Data_Value', stat='count', kde=True);\n",
    "axes[1][1].set_title('College graduate');"
   ]
  },
  {
   "cell_type": "code",
   "execution_count": null,
   "metadata": {},
   "outputs": [],
   "source": []
  },
  {
   "cell_type": "code",
   "execution_count": null,
   "metadata": {},
   "outputs": [],
   "source": []
  },
  {
   "cell_type": "code",
   "execution_count": null,
   "metadata": {},
   "outputs": [],
   "source": [
    "sns.pairplot(education_df, hue='Education');"
   ]
  },
  {
   "cell_type": "code",
   "execution_count": null,
   "metadata": {},
   "outputs": [],
   "source": []
  },
  {
   "cell_type": "markdown",
   "metadata": {},
   "source": [
    "> The data suggests that as someone climbs higher up the education ladder, they are less likely to be obese. In fact, there is a 10% difference between people with less than high school education and those that have ontained college education. However, the data does not show any correlation between being overweight and education status.\n",
    ">\n",
    ">"
   ]
  },
  {
   "cell_type": "code",
   "execution_count": null,
   "metadata": {},
   "outputs": [],
   "source": [
    "plt.figure(figsize=(20, 15));\n",
    "sns.boxplot(x=\"QuestionID\", y=\"Data_Value\", data=education_df, hue='Education', whis=[0, 100], width=.6)\n",
    "plt.title('\\nHow repondents performed on different questions based on education\\n');\n",
    "plt.xlabel('Questions');\n",
    "plt.ylabel('Values');"
   ]
  },
  {
   "cell_type": "markdown",
   "metadata": {},
   "source": [
    "#### Stratitification by Age"
   ]
  },
  {
   "cell_type": "code",
   "execution_count": null,
   "metadata": {},
   "outputs": [],
   "source": [
    "age_df = atomic_df[atomic_df['StratificationCategory1'] == 'Age (years)']\n",
    "age_df.reset_index(drop=True, inplace=True)\n",
    "age_df.head()"
   ]
  },
  {
   "cell_type": "code",
   "execution_count": null,
   "metadata": {},
   "outputs": [],
   "source": [
    "age_df.shape"
   ]
  },
  {
   "cell_type": "code",
   "execution_count": null,
   "metadata": {},
   "outputs": [],
   "source": [
    "age_df.isnull().sum().sort_values()"
   ]
  },
  {
   "cell_type": "markdown",
   "metadata": {},
   "source": [
    "> As with the education dataframe, the other stratification columns need to be removed since they do not contain any information."
   ]
  },
  {
   "cell_type": "code",
   "execution_count": null,
   "metadata": {},
   "outputs": [],
   "source": [
    "age_df = age_df.drop(['Education', 'Income', 'Race/Ethnicity', 'Data_Value_Footnote', 'Gender', 'StratificationCategory1', 'Stratification1'], axis=1)\n",
    "age_df.head()"
   ]
  },
  {
   "cell_type": "code",
   "execution_count": null,
   "metadata": {},
   "outputs": [],
   "source": [
    "fig, axes = plt.subplots(3, 3, figsize=(20, 18), sharey=True, sharex=True)\n",
    "fig.suptitle('Classification by Age');\n",
    "\n",
    "k = 0\n",
    "for i in range(3):\n",
    "    if k >= questions_df.shape[0]:\n",
    "        break\n",
    "    for j in range(3):\n",
    "        if k >= questions_df.shape[0]:\n",
    "            break\n",
    "        question_id = questions_df.iloc[[k]]['QuestionID'][k]\n",
    "        sns.barplot(ax=axes[i][j], data=age_df[age_df['QuestionID']==question_id], x='Age(years)', y='Data_Value', color='grey');\n",
    "        axes[i][j].set_title(question_id);\n",
    "        k += 1"
   ]
  },
  {
   "cell_type": "markdown",
   "metadata": {},
   "source": [
    "> People in the mid-years reported more cases of obesity then people in the lower and upper edges. The observation was, however, reversed when the respondents were asked whether they engage in muscle-strenghtening activities at least twice a week. People from the lower edges and upper edges (with respect to age) reported higher percentages than those in the mid-years. Whether these two observations are directly correlated makes for a good research question.\n",
    ">\n",
    "> A higher proportion of lower age adults (18-24) reported to perform either moderate-intensity or vigorous-intensity aerobics at least twice a week. Rather unsurprisingly, the percentage of people in the '65 or older' category who reported to not participate in leisure time physical activity was higher than any other age-group."
   ]
  },
  {
   "cell_type": "code",
   "execution_count": null,
   "metadata": {},
   "outputs": [],
   "source": []
  },
  {
   "cell_type": "code",
   "execution_count": null,
   "metadata": {},
   "outputs": [],
   "source": [
    "sns.pairplot(age_df, hue='Age(years)');"
   ]
  },
  {
   "cell_type": "markdown",
   "metadata": {},
   "source": [
    "#### Classifiaction by Income"
   ]
  },
  {
   "cell_type": "code",
   "execution_count": null,
   "metadata": {},
   "outputs": [],
   "source": [
    "income_df = atomic_df[atomic_df['StratificationCategory1'] == 'Income']\n",
    "income_df.reset_index(drop=True, inplace=True)\n",
    "income_df.head()"
   ]
  },
  {
   "cell_type": "code",
   "execution_count": null,
   "metadata": {},
   "outputs": [],
   "source": [
    "income_df.shape"
   ]
  },
  {
   "cell_type": "code",
   "execution_count": null,
   "metadata": {},
   "outputs": [],
   "source": [
    "income_df.isnull().sum().sort_values()"
   ]
  },
  {
   "cell_type": "code",
   "execution_count": null,
   "metadata": {},
   "outputs": [],
   "source": [
    "income_df = income_df.drop(['Education', 'Age(years)', 'Race/Ethnicity', 'Data_Value_Footnote', 'Gender', 'StratificationCategory1', 'Stratification1'], axis=1)\n",
    "income_df.head()"
   ]
  },
  {
   "cell_type": "code",
   "execution_count": null,
   "metadata": {},
   "outputs": [],
   "source": [
    "income_df['Income'].unique()"
   ]
  },
  {
   "cell_type": "code",
   "execution_count": null,
   "metadata": {},
   "outputs": [],
   "source": [
    "income_encoding = {'Income': {'Less than $15,000': 0, '$15,000 - $24,999': 1, '$25,000 - $34,999': 2, '$35,000 - $49,999': 3, '$50,000 - $74,999': 4,\n",
    "                                   '$75,000 or greater': 5, 'Data not reported': 6}}\n",
    "income_df = income_df.replace(income_encoding)\n",
    "income_df.head()"
   ]
  },
  {
   "cell_type": "code",
   "execution_count": null,
   "metadata": {},
   "outputs": [],
   "source": []
  },
  {
   "cell_type": "code",
   "execution_count": null,
   "metadata": {},
   "outputs": [],
   "source": [
    "fig, axes = plt.subplots(3, 3, figsize=(20, 18), sharey=True, sharex=True)\n",
    "fig.suptitle('Income classification');\n",
    "\n",
    "k = 0\n",
    "for i in range(3):\n",
    "    if k >= questions_df.shape[0]:\n",
    "        break\n",
    "    for j in range(3):\n",
    "        if k >= questions_df.shape[0]:\n",
    "            break\n",
    "        question_id = questions_df.iloc[[k]]['QuestionID'][k]\n",
    "        sns.barplot(ax=axes[i][j], data=income_df[income_df['QuestionID']==question_id], x='Income', y='Data_Value', color='grey');\n",
    "        axes[i][j].set_title(question_id);\n",
    "        k += 1"
   ]
  },
  {
   "cell_type": "markdown",
   "metadata": {},
   "source": [
    "> Over 30% of people in the lowest income band divluged that they consumed veges less than once daily. This is almost double the percentage of people in the  highest income band who also reported to consume veges less than once daily.\n",
    ">\n",
    "> The same pattern is seen when asked whether they participate in leisure time physical activities. Almost 40% of people in the lowest income band said they don't, compared to only 15% of people in the highest band who do not engage in leisure time physical activities."
   ]
  },
  {
   "cell_type": "code",
   "execution_count": null,
   "metadata": {},
   "outputs": [],
   "source": []
  },
  {
   "cell_type": "code",
   "execution_count": null,
   "metadata": {},
   "outputs": [],
   "source": [
    "sns.pairplot(income_df, hue='Income');"
   ]
  },
  {
   "cell_type": "code",
   "execution_count": null,
   "metadata": {},
   "outputs": [],
   "source": [
    "plt.figure(figsize=(20, 15));\n",
    "sns.boxplot(x=\"QuestionID\", y=\"Data_Value\", data=income_df, hue='Income', whis=[0, 100], width=.6)\n",
    "plt.title('\\nHow repondents performed on different questions based on income\\n');\n",
    "plt.xlabel('Questions');\n",
    "plt.ylabel('Values');"
   ]
  },
  {
   "cell_type": "markdown",
   "metadata": {},
   "source": [
    "#### Classification by Ethnicity"
   ]
  },
  {
   "cell_type": "code",
   "execution_count": null,
   "metadata": {},
   "outputs": [],
   "source": [
    "race_df = atomic_df[atomic_df['StratificationCategory1'] == 'Race/Ethnicity']\n",
    "race_df.reset_index(drop=True, inplace=True)\n",
    "race_df.head()"
   ]
  },
  {
   "cell_type": "code",
   "execution_count": null,
   "metadata": {},
   "outputs": [],
   "source": [
    "race_df.shape"
   ]
  },
  {
   "cell_type": "code",
   "execution_count": null,
   "metadata": {},
   "outputs": [],
   "source": [
    "race_df.isnull().sum().sort_values()"
   ]
  },
  {
   "cell_type": "code",
   "execution_count": null,
   "metadata": {},
   "outputs": [],
   "source": [
    "race_df = race_df.drop(['Education', 'Age(years)', 'Income', 'Data_Value_Footnote', 'Gender', 'StratificationCategory1', 'Stratification1'], axis=1)\n",
    "race_df.head()"
   ]
  },
  {
   "cell_type": "code",
   "execution_count": null,
   "metadata": {},
   "outputs": [],
   "source": [
    "race_df['Race/Ethnicity'].unique()"
   ]
  },
  {
   "cell_type": "code",
   "execution_count": null,
   "metadata": {},
   "outputs": [],
   "source": [
    "race_encoding = {'Race/Ethnicity': {'Non-Hispanic White': 0, 'Non-Hispanic Black': 1, 'Hispanic': 2, 'Asian': 3, 'Hawaiian/Pacific Islander': 4,\n",
    "                                   'American Indian/Alaska Native': 5, '2 or more races': 6, 'Other': 7}}\n",
    "race_df = race_df.replace(race_encoding)\n",
    "race_df.head()"
   ]
  },
  {
   "cell_type": "code",
   "execution_count": null,
   "metadata": {},
   "outputs": [],
   "source": [
    "fig, axes = plt.subplots(3, 3, figsize=(20, 18), sharey=True, sharex=True)\n",
    "fig.suptitle('Classification by Race and Ethnicity');\n",
    "\n",
    "k = 0\n",
    "for i in range(3):\n",
    "    if k >= questions_df.shape[0]:\n",
    "        break\n",
    "    for j in range(3):\n",
    "        if k >= questions_df.shape[0]:\n",
    "            break\n",
    "        question_id = questions_df.iloc[[k]]['QuestionID'][k]\n",
    "        sns.barplot(ax=axes[i][j], data=race_df[race_df['QuestionID']==question_id], x='Race/Ethnicity', y='Data_Value', color='grey');\n",
    "        axes[i][j].set_title(question_id);\n",
    "        k += 1"
   ]
  },
  {
   "cell_type": "markdown",
   "metadata": {},
   "source": [
    "> There was not not much disticntion between the participating ethnic groups, based on how they answered the questions.\n",
    ">\n",
    "> The only conspicuous difference can be seen in Asians, who reported an unbelievably low percentage of obesity cases compared to other ethnic groups."
   ]
  },
  {
   "cell_type": "code",
   "execution_count": null,
   "metadata": {},
   "outputs": [],
   "source": [
    "sns.pairplot(race_df, hue='Race/Ethnicity');"
   ]
  },
  {
   "cell_type": "code",
   "execution_count": null,
   "metadata": {},
   "outputs": [],
   "source": [
    "plt.figure(figsize=(20, 15));\n",
    "sns.boxplot(x=\"QuestionID\", y=\"Data_Value\", data=race_df, hue='Race/Ethnicity', whis=[0, 100], width=.6)\n",
    "plt.title('\\nHow repondents performed on different questions based on race\\n');\n",
    "plt.xlabel('Questions');\n",
    "plt.ylabel('Values');"
   ]
  },
  {
   "cell_type": "code",
   "execution_count": null,
   "metadata": {},
   "outputs": [],
   "source": []
  },
  {
   "cell_type": "markdown",
   "metadata": {},
   "source": [
    "#### Classification by gender"
   ]
  },
  {
   "cell_type": "code",
   "execution_count": null,
   "metadata": {},
   "outputs": [],
   "source": [
    "gender_df = atomic_df[atomic_df['StratificationCategory1'] == 'Gender']\n",
    "gender_df.reset_index(drop=True, inplace=True)\n",
    "gender_df.head()"
   ]
  },
  {
   "cell_type": "code",
   "execution_count": null,
   "metadata": {},
   "outputs": [],
   "source": [
    "gender_df.dtypes"
   ]
  },
  {
   "cell_type": "code",
   "execution_count": null,
   "metadata": {},
   "outputs": [],
   "source": [
    "gender_df.shape"
   ]
  },
  {
   "cell_type": "code",
   "execution_count": null,
   "metadata": {},
   "outputs": [],
   "source": [
    "# gender_encoding = {'Gender': {'Male': 1, 'Female': 0}}"
   ]
  },
  {
   "cell_type": "code",
   "execution_count": null,
   "metadata": {},
   "outputs": [],
   "source": [
    "# gender_df = gender_df.replace(gender_encoding)\n",
    "# gender_df.head()"
   ]
  },
  {
   "cell_type": "code",
   "execution_count": null,
   "metadata": {},
   "outputs": [],
   "source": [
    "gender_df.isnull().sum().sort_values()"
   ]
  },
  {
   "cell_type": "code",
   "execution_count": null,
   "metadata": {},
   "outputs": [],
   "source": [
    "gender_df = gender_df.drop(['Age(years)', 'Income', 'Race/Ethnicity', 'Data_Value_Footnote', 'Education', 'StratificationCategory1', 'Stratification1'], axis=1)\n",
    "gender_df.head()"
   ]
  },
  {
   "cell_type": "code",
   "execution_count": null,
   "metadata": {},
   "outputs": [],
   "source": []
  },
  {
   "cell_type": "code",
   "execution_count": null,
   "metadata": {},
   "outputs": [],
   "source": [
    "sns.pairplot(gender_df, hue='Gender');"
   ]
  },
  {
   "cell_type": "code",
   "execution_count": null,
   "metadata": {},
   "outputs": [],
   "source": [
    "plt.figure(figsize=(20, 15));\n",
    "sns.boxplot(x=\"QuestionID\", y=\"Data_Value\", data=gender_df, hue='Gender', whis=[0, 100], width=.6, palette=\"vlag\")\n",
    "plt.title('\\nHow repondents performed on different questions based on gender\\n');\n",
    "plt.xlabel('Questions');\n",
    "plt.ylabel('Values');"
   ]
  },
  {
   "cell_type": "code",
   "execution_count": null,
   "metadata": {},
   "outputs": [],
   "source": [
    "plt.figure(figsize=(20, 15));\n",
    "sns.violinplot(x=\"QuestionID\", y=\"Data_Value\", hue=\"Gender\", data=gender_df, palette=\"vlag\", split=True);\n",
    "plt.title('\\nHow repondents performed on different questions based on gender\\n');\n",
    "plt.xlabel('Questions');\n",
    "plt.ylabel('Values');"
   ]
  },
  {
   "cell_type": "code",
   "execution_count": null,
   "metadata": {},
   "outputs": [],
   "source": []
  },
  {
   "cell_type": "code",
   "execution_count": null,
   "metadata": {},
   "outputs": [],
   "source": [
    "fig, axes = plt.subplots(3, 3, figsize=(20, 18), sharey=True, sharex=True)\n",
    "fig.suptitle('Gender classification');\n",
    "\n",
    "k = 0\n",
    "for i in range(3):\n",
    "    if k >= questions_df.shape[0]:\n",
    "        break\n",
    "    for j in range(3):\n",
    "        if k >= questions_df.shape[0]:\n",
    "            break\n",
    "        question_id = questions_df.iloc[[k]]['QuestionID'][k]\n",
    "        sns.barplot(ax=axes[i][j], data=gender_df[gender_df['QuestionID']==question_id], x='Gender', y='Data_Value', color='grey');\n",
    "        axes[i][j].set_title(question_id);\n",
    "        k += 1"
   ]
  },
  {
   "cell_type": "markdown",
   "metadata": {},
   "source": [
    "> A higher percentage of males was found to be overweight than females. However, a higher percentage of females than males disclosed that they consume fruit less than once daily.\n",
    ">\n",
    "> A higher percentage of males than females said they consume veges less than once daily. A higher percentage of males than females also reported to engage in muscle-strenghtening activities at least twice a week."
   ]
  },
  {
   "cell_type": "code",
   "execution_count": null,
   "metadata": {},
   "outputs": [],
   "source": []
  }
 ],
 "metadata": {
  "kernelspec": {
   "display_name": "Python 3",
   "language": "python",
   "name": "python3"
  },
  "language_info": {
   "codemirror_mode": {
    "name": "ipython",
    "version": 3
   },
   "file_extension": ".py",
   "mimetype": "text/x-python",
   "name": "python",
   "nbconvert_exporter": "python",
   "pygments_lexer": "ipython3",
   "version": "3.8.5"
  }
 },
 "nbformat": 4,
 "nbformat_minor": 4
}
